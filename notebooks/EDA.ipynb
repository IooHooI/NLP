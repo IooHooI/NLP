{
 "cells": [
  {
   "cell_type": "markdown",
   "metadata": {},
   "source": [
    "# All imports necessary"
   ]
  },
  {
   "cell_type": "code",
   "execution_count": 1,
   "metadata": {},
   "outputs": [],
   "source": [
    "import os\n",
    "import numpy as np\n",
    "import pandas as pd"
   ]
  },
  {
   "cell_type": "code",
   "execution_count": 2,
   "metadata": {},
   "outputs": [],
   "source": [
    "import matplotlib.pyplot as plt"
   ]
  },
  {
   "cell_type": "code",
   "execution_count": 3,
   "metadata": {},
   "outputs": [],
   "source": [
    "import seaborn as sns\n",
    "sns.set(color_codes=True)"
   ]
  },
  {
   "cell_type": "code",
   "execution_count": 5,
   "metadata": {},
   "outputs": [],
   "source": [
    "from tqdm.autonotebook import tqdm"
   ]
  },
  {
   "cell_type": "code",
   "execution_count": 6,
   "metadata": {},
   "outputs": [],
   "source": [
    "%matplotlib inline"
   ]
  },
  {
   "cell_type": "markdown",
   "metadata": {},
   "source": [
    "# Auxiliary methods"
   ]
  },
  {
   "cell_type": "code",
   "execution_count": 18,
   "metadata": {},
   "outputs": [],
   "source": [
    "def filter_by_subcorpus(data_root_folder, subcorpus_name):\n",
    "    data_folders = [\n",
    "        os.path.join(data_root_folder, 'data', folder, subfolder)\n",
    "        for folder in tqdm(os.listdir(os.path.join(data_root_folder, 'data')))\n",
    "        for subfolder in os.listdir(os.path.join(data_root_folder, 'data', folder))\n",
    "    ]\n",
    "    mask = []\n",
    "    for folder in tqdm(data_folders):\n",
    "        with open(os.path.join(folder, 'en.met'), 'r', encoding='utf-8') as myfile:\n",
    "            mask.append(subcorpus_name in myfile.read().replace('\\n', ''))\n",
    "    return np.array(data_folders)[mask]"
   ]
  },
  {
   "cell_type": "code",
   "execution_count": 9,
   "metadata": {},
   "outputs": [],
   "source": [
    "def get_raw_texts(folders, cache_folder):\n",
    "    if not os.path.exists(os.path.join(cache_folder, 'en.raw.extracted')):\n",
    "        texts = []\n",
    "        for folder in tqdm(folders):\n",
    "            with open(os.path.join(folder, 'en.raw'), 'r', encoding='utf-8') as myfile:\n",
    "                texts.append(myfile.read().replace('\\n', ''))\n",
    "        np.save(os.path.join(cache_folder, 'en.raw.extracted'), texts)\n",
    "        return texts\n",
    "    else:\n",
    "        return np.load(os.path.join(cache_folder, 'en.raw.extracted'))"
   ]
  },
  {
   "cell_type": "code",
   "execution_count": 10,
   "metadata": {},
   "outputs": [],
   "source": [
    "def get_tagged_texts(folders, cache_folder):\n",
    "    if not os.path.exists(os.path.join(cache_folder, 'en.tags.extracted')):\n",
    "        tagged_texts = []\n",
    "        for folder in tqdm(folders):\n",
    "            tagged_text = np.loadtxt(os.path.join(folder, 'en.tags'), dtype=str, delimiter='\\t', encoding='utf-8')\n",
    "            tagged_texts.append({\n",
    "                'word': tagged_text[:, 0],\n",
    "                'POS-tag': tagged_text[:, 1],\n",
    "                'lemma': tagged_text[:, 2],\n",
    "                'TARGET': list(map(lambda target_tag: target_tag.split('-')[0], tagged_text[:, 3]))\n",
    "            })\n",
    "        np.save(os.path.join(cache_folder, 'en.tags.extracted'), texts)\n",
    "        return tagged_texts\n",
    "    else:\n",
    "        return np.load(os.path.join(cache_folder, 'en.tags.extracted'))"
   ]
  },
  {
   "cell_type": "code",
   "execution_count": 8,
   "metadata": {
    "code_folding": []
   },
   "outputs": [],
   "source": [
    "def get_tagged_texts_as_pd(folders, cache_folder):\n",
    "    if not os.path.exists(os.path.join(cache_folder, 'en.tags.extracted')):\n",
    "        words = []\n",
    "        pos_tags = []\n",
    "        lemmas = []\n",
    "        targets = []\n",
    "        for folder in tqdm(folders):\n",
    "            tagged_text = np.loadtxt(os.path.join(folder, 'en.tags'), dtype=str, delimiter='\\t', encoding='utf-8')\n",
    "            words.append(tagged_text[:, 0])\n",
    "            pos_tags.append(tagged_text[:, 1])\n",
    "            lemmas.append(tagged_text[:, 2])\n",
    "            targets.append(list(map(lambda target_tag: target_tag.split('-')[0], tagged_text[:, 3])))\n",
    "        df = pd.DataFrame({'words': words, 'pos_tags': pos_tags, 'lemmas': lemmas, 'targets': targets})\n",
    "        df.to_csv(os.path.join(cache_folder, 'en.tags.pd.extracted'), index=False)\n",
    "        return df\n",
    "    else:\n",
    "        df = pd.read_csv(os.path.join(cache_folder, 'en.tags.pd.extracted'))\n",
    "        "
   ]
  },
  {
   "cell_type": "markdown",
   "metadata": {},
   "source": [
    "# Read the data"
   ]
  },
  {
   "cell_type": "code",
   "execution_count": 11,
   "metadata": {
    "scrolled": true
   },
   "outputs": [
    {
     "name": "stdout",
     "output_type": "stream",
     "text": [
      "/home/bender/PycharmProjects/NLP/notebooks\r\n"
     ]
    }
   ],
   "source": [
    "! pwd"
   ]
  },
  {
   "cell_type": "code",
   "execution_count": 12,
   "metadata": {},
   "outputs": [
    {
     "name": "stdout",
     "output_type": "stream",
     "text": [
      "итого 36K\r\n",
      "drwxrwxr-x.   3 bender bender 4,0K сен 26 22:02 ..\r\n",
      "-rw-r-----.   1 bender bender 7,4K июл  4  2014 README\r\n",
      "-rw-rw-r--.   1 bender bender 2,0K июл  4  2014 NEWS\r\n",
      "drwxr-x---.   4 bender bender 4,0K июл  2  2014 .\r\n",
      "-rw-r-----.   1 bender bender  497 июл  2  2014 THANKS\r\n",
      "drwxr-x---. 102 bender bender 4,0K июл  2  2014 data\r\n",
      "-rw-r-----.   1 bender bender  279 июн 23  2014 LICENSE\r\n",
      "drwxr-x---.   2 bender bender 4,0K авг 21  2013 doc\r\n"
     ]
    }
   ],
   "source": [
    "! ls -alth ../data/datasets/gmb-2.2.0/"
   ]
  },
  {
   "cell_type": "code",
   "execution_count": 19,
   "metadata": {
    "scrolled": false
   },
   "outputs": [
    {
     "data": {
      "application/vnd.jupyter.widget-view+json": {
       "model_id": "d88ce8f11fea413490d40f2af413723e",
       "version_major": 2,
       "version_minor": 0
      },
      "text/plain": [
       "HBox(children=(IntProgress(value=0), HTML(value='')))"
      ]
     },
     "metadata": {},
     "output_type": "display_data"
    },
    {
     "data": {
      "application/vnd.jupyter.widget-view+json": {
       "model_id": "c064e9fed61a43f0922d0c0ff44a1d58",
       "version_major": 2,
       "version_minor": 0
      },
      "text/plain": [
       "HBox(children=(IntProgress(value=0, max=10000), HTML(value='')))"
      ]
     },
     "metadata": {},
     "output_type": "display_data"
    }
   ],
   "source": [
    "target_subcorpus_folders = filter_by_subcorpus('../data/datasets/gmb-2.2.0/', 'subcorpus: Voice of America')"
   ]
  },
  {
   "cell_type": "code",
   "execution_count": 20,
   "metadata": {},
   "outputs": [
    {
     "data": {
      "application/vnd.jupyter.widget-view+json": {
       "model_id": "7c1bf0fc6cba4fe4af820e382f086a01",
       "version_major": 2,
       "version_minor": 0
      },
      "text/plain": [
       "HBox(children=(IntProgress(value=0, max=9167), HTML(value='')))"
      ]
     },
     "metadata": {},
     "output_type": "display_data"
    }
   ],
   "source": [
    "raw_texts = get_raw_texts(target_subcorpus_folders, '../data/datasets/gmb-2.2.0/')"
   ]
  },
  {
   "cell_type": "code",
   "execution_count": null,
   "metadata": {},
   "outputs": [
    {
     "data": {
      "application/vnd.jupyter.widget-view+json": {
       "model_id": "b70baa7d9ae34971a16a585e9a7f4763",
       "version_major": 2,
       "version_minor": 0
      },
      "text/plain": [
       "HBox(children=(IntProgress(value=0, max=9167), HTML(value='')))"
      ]
     },
     "metadata": {},
     "output_type": "display_data"
    }
   ],
   "source": [
    "tagged_texts = get_tagged_texts(target_subcorpus_folders, '../data/datasets/gmb-2.2.0/')"
   ]
  },
  {
   "cell_type": "code",
   "execution_count": null,
   "metadata": {},
   "outputs": [
    {
     "data": {
      "application/vnd.jupyter.widget-view+json": {
       "model_id": "b70baa7d9ae34971a16a585e9a7f4763",
       "version_major": 2,
       "version_minor": 0
      },
      "text/plain": [
       "HBox(children=(IntProgress(value=0, max=9167), HTML(value='')))"
      ]
     },
     "metadata": {},
     "output_type": "display_data"
    }
   ],
   "source": [
    "tagged_texts = get_tagged_texts(target_subcorpus_folders, '../data/datasets/gmb-2.2.0/')"
   ]
  },
  {
   "cell_type": "markdown",
   "metadata": {},
   "source": [
    "# Gather a bit of statistics and draw a bit of plots"
   ]
  },
  {
   "cell_type": "code",
   "execution_count": null,
   "metadata": {},
   "outputs": [],
   "source": [
    "character_counts = list(map(len, tqdm(raw_texts)))"
   ]
  },
  {
   "cell_type": "code",
   "execution_count": null,
   "metadata": {},
   "outputs": [],
   "source": [
    "word_counts = list(map(lambda tagged_text: len(tagged_text['lemma']), tqdm(tagged_texts)))"
   ]
  },
  {
   "cell_type": "code",
   "execution_count": null,
   "metadata": {},
   "outputs": [],
   "source": [
    "word_sizes = [\n",
    "    len(word)\n",
    "    for text in tqdm(tagged_texts)\n",
    "    for word in text['lemma']\n",
    "]"
   ]
  }
 ],
 "metadata": {
  "hide_input": false,
  "kernelspec": {
   "display_name": "Python 3",
   "language": "python",
   "name": "python3"
  },
  "language_info": {
   "codemirror_mode": {
    "name": "ipython",
    "version": 3
   },
   "file_extension": ".py",
   "mimetype": "text/x-python",
   "name": "python",
   "nbconvert_exporter": "python",
   "pygments_lexer": "ipython3",
   "version": "3.6.5"
  },
  "toc": {
   "base_numbering": 1,
   "nav_menu": {},
   "number_sections": true,
   "sideBar": true,
   "skip_h1_title": false,
   "title_cell": "Table of Contents",
   "title_sidebar": "Contents",
   "toc_cell": false,
   "toc_position": {},
   "toc_section_display": true,
   "toc_window_display": true
  }
 },
 "nbformat": 4,
 "nbformat_minor": 1
}
