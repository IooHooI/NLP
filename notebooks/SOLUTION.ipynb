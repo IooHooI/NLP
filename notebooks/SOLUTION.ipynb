{
 "cells": [
  {
   "cell_type": "markdown",
   "metadata": {
    "collapsed": true
   },
   "source": [
    "# All imports necessary"
   ]
  },
  {
   "cell_type": "code",
   "execution_count": 1,
   "metadata": {},
   "outputs": [],
   "source": [
    "import warnings\n",
    "warnings.filterwarnings(\"ignore\")"
   ]
  },
  {
   "cell_type": "code",
   "execution_count": 2,
   "metadata": {},
   "outputs": [],
   "source": [
    "import sys"
   ]
  },
  {
   "cell_type": "code",
   "execution_count": 3,
   "metadata": {},
   "outputs": [],
   "source": [
    "sys.path.append('..')"
   ]
  },
  {
   "cell_type": "code",
   "execution_count": 4,
   "metadata": {},
   "outputs": [],
   "source": [
    "import os"
   ]
  },
  {
   "cell_type": "code",
   "execution_count": 5,
   "metadata": {},
   "outputs": [],
   "source": [
    "import numpy as np"
   ]
  },
  {
   "cell_type": "code",
   "execution_count": 6,
   "metadata": {},
   "outputs": [],
   "source": [
    "import pandas as pd"
   ]
  },
  {
   "cell_type": "code",
   "execution_count": 7,
   "metadata": {},
   "outputs": [
    {
     "name": "stderr",
     "output_type": "stream",
     "text": [
      "Using TensorFlow backend.\n"
     ]
    }
   ],
   "source": [
    "from source.code.utils.utils import filter_by_subcorpus\n",
    "from source.code.utils.utils import get_tagged_texts_as_pd\n",
    "\n",
    "from source.code.transformers.sentenceextractor import SentenceExtractor\n",
    "from source.code.models.memorytagger import MemoryTagger\n",
    "from source.code.models.bilstmtagger import BiLSTMTagger\n",
    "\n",
    "from source.code.utils.preprocessing import filtrations\n",
    "from source.code.utils.preprocessing import additional_features\n",
    "from source.code.utils.preprocessing import crf_pre_processing"
   ]
  },
  {
   "cell_type": "code",
   "execution_count": 8,
   "metadata": {},
   "outputs": [],
   "source": [
    "from sklearn_crfsuite.metrics import flat_classification_report as crfsuite_classification_report\n",
    "\n",
    "from sklearn_crfsuite import metrics\n",
    "\n",
    "from sklearn_crfsuite import CRF as sklearn_crf"
   ]
  },
  {
   "cell_type": "code",
   "execution_count": 136,
   "metadata": {},
   "outputs": [],
   "source": [
    "from seqeval.metrics import classification_report as seqeval_classification_report"
   ]
  },
  {
   "cell_type": "code",
   "execution_count": 11,
   "metadata": {},
   "outputs": [],
   "source": [
    "from sklearn.metrics import classification_report as sklearn_classification_report\n",
    "\n",
    "from sklearn.ensemble import RandomForestClassifier\n",
    "\n",
    "from sklearn.model_selection import train_test_split\n",
    "\n",
    "from sklearn.model_selection import cross_val_score"
   ]
  },
  {
   "cell_type": "code",
   "execution_count": 12,
   "metadata": {},
   "outputs": [],
   "source": [
    "from keras.preprocessing.sequence import pad_sequences"
   ]
  },
  {
   "cell_type": "code",
   "execution_count": 13,
   "metadata": {},
   "outputs": [],
   "source": [
    "import seaborn as sns"
   ]
  },
  {
   "cell_type": "code",
   "execution_count": 14,
   "metadata": {},
   "outputs": [],
   "source": [
    "import matplotlib.pyplot as plt"
   ]
  },
  {
   "cell_type": "code",
   "execution_count": 15,
   "metadata": {},
   "outputs": [],
   "source": [
    "sns.set(color_codes=True)"
   ]
  },
  {
   "cell_type": "code",
   "execution_count": 16,
   "metadata": {},
   "outputs": [],
   "source": [
    "sns.set(font_scale=2)"
   ]
  },
  {
   "cell_type": "code",
   "execution_count": 17,
   "metadata": {},
   "outputs": [],
   "source": [
    "%matplotlib inline"
   ]
  },
  {
   "cell_type": "code",
   "execution_count": 18,
   "metadata": {},
   "outputs": [],
   "source": [
    "features = ['semantic_relation_tagged', 'animacy_tagged', 'lambda_dsr_len', 'word_sense_exists', 'is_title', 'contains_digits', 'word_len']\n",
    "target = 'ner_tag'"
   ]
  },
  {
   "cell_type": "code",
   "execution_count": 19,
   "metadata": {},
   "outputs": [],
   "source": [
    "pd.set_option('display.max_rows', 30000)"
   ]
  },
  {
   "cell_type": "markdown",
   "metadata": {
    "heading_collapsed": true
   },
   "source": [
    "# Naive tag frequency memorization"
   ]
  },
  {
   "cell_type": "code",
   "execution_count": null,
   "metadata": {
    "hidden": true
   },
   "outputs": [],
   "source": [
    "target_subcorpus_folders = filter_by_subcorpus('../data/datasets/gmb-2.2.0/', 'subcorpus: Voice of America')"
   ]
  },
  {
   "cell_type": "code",
   "execution_count": null,
   "metadata": {
    "hidden": true
   },
   "outputs": [],
   "source": [
    "X = get_tagged_texts_as_pd(target_subcorpus_folders, '../data/datasets/gmb-2.2.0/')"
   ]
  },
  {
   "cell_type": "code",
   "execution_count": null,
   "metadata": {
    "hidden": true
   },
   "outputs": [],
   "source": [
    "X.ner_tag.value_counts()"
   ]
  },
  {
   "cell_type": "code",
   "execution_count": null,
   "metadata": {
    "hidden": true
   },
   "outputs": [],
   "source": [
    "X = filtrations(X)"
   ]
  },
  {
   "cell_type": "code",
   "execution_count": null,
   "metadata": {
    "hidden": true
   },
   "outputs": [],
   "source": [
    "X.ner_tag.value_counts()"
   ]
  },
  {
   "cell_type": "code",
   "execution_count": null,
   "metadata": {
    "hidden": true
   },
   "outputs": [],
   "source": [
    "X = additional_features(X)"
   ]
  },
  {
   "cell_type": "code",
   "execution_count": null,
   "metadata": {
    "hidden": true
   },
   "outputs": [],
   "source": [
    "X.info()"
   ]
  },
  {
   "cell_type": "code",
   "execution_count": null,
   "metadata": {
    "hidden": true
   },
   "outputs": [],
   "source": [
    "X, y = X.token, X.ner_tag"
   ]
  },
  {
   "cell_type": "code",
   "execution_count": null,
   "metadata": {
    "hidden": true
   },
   "outputs": [],
   "source": [
    "X_train, X_test, y_train, y_test = train_test_split(X, y, test_size=0.33, random_state=42, stratify=y)"
   ]
  },
  {
   "cell_type": "code",
   "execution_count": null,
   "metadata": {
    "hidden": true
   },
   "outputs": [],
   "source": [
    "estimator = MemoryTagger()"
   ]
  },
  {
   "cell_type": "code",
   "execution_count": null,
   "metadata": {
    "hidden": true
   },
   "outputs": [],
   "source": [
    "scores = cross_val_score(estimator, X_train, y_train, cv=5, verbose=True, n_jobs=-1)"
   ]
  },
  {
   "cell_type": "code",
   "execution_count": null,
   "metadata": {
    "hidden": true
   },
   "outputs": [],
   "source": [
    "scores"
   ]
  },
  {
   "cell_type": "code",
   "execution_count": null,
   "metadata": {
    "hidden": true
   },
   "outputs": [],
   "source": [
    "estimator.fit(X_train, y_train)"
   ]
  },
  {
   "cell_type": "code",
   "execution_count": null,
   "metadata": {
    "hidden": true
   },
   "outputs": [],
   "source": [
    "sklearn_report = sklearn_classification_report(y_pred=estimator.predict(X_test), y_true=y_test)\n",
    "print(sklearn_report)"
   ]
  },
  {
   "cell_type": "markdown",
   "metadata": {
    "heading_collapsed": true
   },
   "source": [
    "# Random Forest Classifier"
   ]
  },
  {
   "cell_type": "code",
   "execution_count": null,
   "metadata": {
    "hidden": true
   },
   "outputs": [],
   "source": [
    "target_subcorpus_folders = filter_by_subcorpus('../data/datasets/gmb-2.2.0/', 'subcorpus: Voice of America')"
   ]
  },
  {
   "cell_type": "code",
   "execution_count": null,
   "metadata": {
    "hidden": true
   },
   "outputs": [],
   "source": [
    "X = get_tagged_texts_as_pd(target_subcorpus_folders, '../data/datasets/gmb-2.2.0/')"
   ]
  },
  {
   "cell_type": "code",
   "execution_count": null,
   "metadata": {
    "hidden": true
   },
   "outputs": [],
   "source": [
    "X.ner_tag.value_counts()"
   ]
  },
  {
   "cell_type": "code",
   "execution_count": null,
   "metadata": {
    "hidden": true
   },
   "outputs": [],
   "source": [
    "X = filtrations(X)"
   ]
  },
  {
   "cell_type": "code",
   "execution_count": null,
   "metadata": {
    "hidden": true
   },
   "outputs": [],
   "source": [
    "X.ner_tag.value_counts()"
   ]
  },
  {
   "cell_type": "code",
   "execution_count": null,
   "metadata": {
    "hidden": true
   },
   "outputs": [],
   "source": [
    "X = additional_features(X)"
   ]
  },
  {
   "cell_type": "code",
   "execution_count": null,
   "metadata": {
    "hidden": true
   },
   "outputs": [],
   "source": [
    "X.info()"
   ]
  },
  {
   "cell_type": "code",
   "execution_count": null,
   "metadata": {
    "hidden": true
   },
   "outputs": [],
   "source": [
    "X, y = X[features], X[target]"
   ]
  },
  {
   "cell_type": "code",
   "execution_count": null,
   "metadata": {
    "hidden": true
   },
   "outputs": [],
   "source": [
    "X_train, X_test, y_train, y_test = train_test_split(X, y, test_size=0.33, random_state=42, stratify=y)"
   ]
  },
  {
   "cell_type": "code",
   "execution_count": null,
   "metadata": {
    "hidden": true
   },
   "outputs": [],
   "source": [
    "estimator = RandomForestClassifier()"
   ]
  },
  {
   "cell_type": "code",
   "execution_count": null,
   "metadata": {
    "hidden": true
   },
   "outputs": [],
   "source": [
    "scores = cross_val_score(estimator, X_train, y_train, cv=5, verbose=True, n_jobs=-1)"
   ]
  },
  {
   "cell_type": "code",
   "execution_count": null,
   "metadata": {
    "hidden": true
   },
   "outputs": [],
   "source": [
    "scores"
   ]
  },
  {
   "cell_type": "code",
   "execution_count": null,
   "metadata": {
    "hidden": true
   },
   "outputs": [],
   "source": [
    "estimator.fit(X_train, y_train)"
   ]
  },
  {
   "cell_type": "code",
   "execution_count": null,
   "metadata": {
    "hidden": true
   },
   "outputs": [],
   "source": [
    "report = sklearn_classification_report(y_pred=estimator.predict(X_test), y_true=y_test)\n",
    "print(report)"
   ]
  },
  {
   "cell_type": "markdown",
   "metadata": {},
   "source": [
    "# HMM"
   ]
  },
  {
   "cell_type": "markdown",
   "metadata": {},
   "source": [
    "[This article](https://pdfs.semanticscholar.org/9528/4b31f27b9b8901fdc18554603610ebbc2752.pdf)  gives a full description of how to calculate parameters for Hidden Markov Model.\n",
    "\n",
    "From [this article](https://www.digitalvidya.com/blog/inroduction-to-hidden-markov-models-using-python/) we have taken Viterbi algorithm.\n",
    "\n",
    "But first let's read the data again."
   ]
  },
  {
   "cell_type": "code",
   "execution_count": 20,
   "metadata": {
    "scrolled": false
   },
   "outputs": [
    {
     "data": {
      "application/vnd.jupyter.widget-view+json": {
       "model_id": "21fab95a88664e61b41d123e9a6e85f1",
       "version_major": 2,
       "version_minor": 0
      },
      "text/plain": [
       "HBox(children=(IntProgress(value=0, description='Read folders: '), HTML(value='')))"
      ]
     },
     "metadata": {},
     "output_type": "display_data"
    },
    {
     "name": "stdout",
     "output_type": "stream",
     "text": [
      "\n"
     ]
    },
    {
     "data": {
      "application/vnd.jupyter.widget-view+json": {
       "model_id": "5003fe019861409dab7bdb4eb2e65c5c",
       "version_major": 2,
       "version_minor": 0
      },
      "text/plain": [
       "HBox(children=(IntProgress(value=0, description='Filter folders: ', max=10000), HTML(value='')))"
      ]
     },
     "metadata": {},
     "output_type": "display_data"
    },
    {
     "name": "stdout",
     "output_type": "stream",
     "text": [
      "\n"
     ]
    }
   ],
   "source": [
    "target_subcorpus_folders = filter_by_subcorpus('../data/datasets/gmb-2.2.0/', 'subcorpus: Voice of America')"
   ]
  },
  {
   "cell_type": "code",
   "execution_count": 21,
   "metadata": {},
   "outputs": [],
   "source": [
    "X = get_tagged_texts_as_pd(target_subcorpus_folders, '../data/datasets/gmb-2.2.0/')"
   ]
  },
  {
   "cell_type": "code",
   "execution_count": 22,
   "metadata": {
    "scrolled": false
   },
   "outputs": [
    {
     "data": {
      "text/html": [
       "<div>\n",
       "<style scoped>\n",
       "    .dataframe tbody tr th:only-of-type {\n",
       "        vertical-align: middle;\n",
       "    }\n",
       "\n",
       "    .dataframe tbody tr th {\n",
       "        vertical-align: top;\n",
       "    }\n",
       "\n",
       "    .dataframe thead th {\n",
       "        text-align: right;\n",
       "    }\n",
       "</style>\n",
       "<table border=\"1\" class=\"dataframe\">\n",
       "  <thead>\n",
       "    <tr style=\"text-align: right;\">\n",
       "      <th></th>\n",
       "      <th>token</th>\n",
       "      <th>pos_tag</th>\n",
       "      <th>lemma</th>\n",
       "      <th>ner_tag</th>\n",
       "      <th>word_net_sense_number</th>\n",
       "      <th>verb_net_roles</th>\n",
       "      <th>semantic_relation</th>\n",
       "      <th>animacy_tag</th>\n",
       "      <th>super_tag</th>\n",
       "      <th>lambda_dsr</th>\n",
       "    </tr>\n",
       "  </thead>\n",
       "  <tbody>\n",
       "    <tr>\n",
       "      <th>0</th>\n",
       "      <td>Former</td>\n",
       "      <td>JJ</td>\n",
       "      <td>former</td>\n",
       "      <td>O</td>\n",
       "      <td>1</td>\n",
       "      <td>[Topic]</td>\n",
       "      <td>O</td>\n",
       "      <td>O</td>\n",
       "      <td>N/N</td>\n",
       "      <td>lam(v1,lam(v2,merge(b1:drs([b1:[]:s1],[b1:[]:r...</td>\n",
       "    </tr>\n",
       "    <tr>\n",
       "      <th>1</th>\n",
       "      <td>Ecuadorean</td>\n",
       "      <td>NNP</td>\n",
       "      <td>ecuadorean</td>\n",
       "      <td>O</td>\n",
       "      <td>0</td>\n",
       "      <td>[]</td>\n",
       "      <td>=</td>\n",
       "      <td>Human</td>\n",
       "      <td>N/N</td>\n",
       "      <td>lam(v1,lam(v2,merge(b1:drs([b1:[]:x1],[b1:[100...</td>\n",
       "    </tr>\n",
       "    <tr>\n",
       "      <th>2</th>\n",
       "      <td>President</td>\n",
       "      <td>NNP</td>\n",
       "      <td>president</td>\n",
       "      <td>per-tit</td>\n",
       "      <td>1</td>\n",
       "      <td>[]</td>\n",
       "      <td>=</td>\n",
       "      <td>Human</td>\n",
       "      <td>N/N</td>\n",
       "      <td>lam(v1,lam(v2,merge(b1:drs([b1:[]:x1],[b1:[100...</td>\n",
       "    </tr>\n",
       "    <tr>\n",
       "      <th>3</th>\n",
       "      <td>Lucio</td>\n",
       "      <td>NNP</td>\n",
       "      <td>lucio</td>\n",
       "      <td>per-nam</td>\n",
       "      <td>0</td>\n",
       "      <td>[]</td>\n",
       "      <td>=</td>\n",
       "      <td>Human</td>\n",
       "      <td>N/N</td>\n",
       "      <td>lam(v1,lam(v2,merge(b1:drs([b1:[]:x1],[b1:[100...</td>\n",
       "    </tr>\n",
       "    <tr>\n",
       "      <th>4</th>\n",
       "      <td>Gutierrez</td>\n",
       "      <td>NNP</td>\n",
       "      <td>gutierrez</td>\n",
       "      <td>per-nam</td>\n",
       "      <td>0</td>\n",
       "      <td>[]</td>\n",
       "      <td>O</td>\n",
       "      <td>Human</td>\n",
       "      <td>N</td>\n",
       "      <td>lam(v1,b1:drs([],[b1:[1005]:named(v1,gutierrez...</td>\n",
       "    </tr>\n",
       "    <tr>\n",
       "      <th>5</th>\n",
       "      <td>has</td>\n",
       "      <td>VBZ</td>\n",
       "      <td>have</td>\n",
       "      <td>O</td>\n",
       "      <td>0</td>\n",
       "      <td>[]</td>\n",
       "      <td>O</td>\n",
       "      <td>O</td>\n",
       "      <td>(S[dcl]\\NP)/(S[pt]\\NP)</td>\n",
       "      <td>lam(v1,lam(v2,lam(v3,app(app(v1,v2),lam(v4,mer...</td>\n",
       "    </tr>\n",
       "    <tr>\n",
       "      <th>6</th>\n",
       "      <td>formally</td>\n",
       "      <td>RB</td>\n",
       "      <td>formally</td>\n",
       "      <td>O</td>\n",
       "      <td>1</td>\n",
       "      <td>[]</td>\n",
       "      <td>O</td>\n",
       "      <td>O</td>\n",
       "      <td>(S[dcl]\\NP)\\(S[dcl]\\NP)</td>\n",
       "      <td>lam(v1,lam(v2,lam(v3,app(app(v1,v2),lam(v4,mer...</td>\n",
       "    </tr>\n",
       "    <tr>\n",
       "      <th>7</th>\n",
       "      <td>requested</td>\n",
       "      <td>VBN</td>\n",
       "      <td>request</td>\n",
       "      <td>O</td>\n",
       "      <td>1</td>\n",
       "      <td>[Topic,Agent]</td>\n",
       "      <td>O</td>\n",
       "      <td>O</td>\n",
       "      <td>(S[pt]\\NP)/NP</td>\n",
       "      <td>lam(v1,lam(v2,lam(v3,app(v2,lam(v4,app(v1,lam(...</td>\n",
       "    </tr>\n",
       "    <tr>\n",
       "      <th>8</th>\n",
       "      <td>political</td>\n",
       "      <td>JJ</td>\n",
       "      <td>political</td>\n",
       "      <td>O</td>\n",
       "      <td>1</td>\n",
       "      <td>[Topic]</td>\n",
       "      <td>O</td>\n",
       "      <td>O</td>\n",
       "      <td>N/N</td>\n",
       "      <td>lam(v1,lam(v2,merge(b1:drs([b1:[]:s1],[b1:[]:r...</td>\n",
       "    </tr>\n",
       "    <tr>\n",
       "      <th>9</th>\n",
       "      <td>asylum</td>\n",
       "      <td>NN</td>\n",
       "      <td>asylum</td>\n",
       "      <td>O</td>\n",
       "      <td>1</td>\n",
       "      <td>[]</td>\n",
       "      <td>O</td>\n",
       "      <td>Non-concrete</td>\n",
       "      <td>N</td>\n",
       "      <td>lam(v1,b1:drs([],[b1:[1010]:pred(v1,asylum,n,'...</td>\n",
       "    </tr>\n",
       "    <tr>\n",
       "      <th>10</th>\n",
       "      <td>in</td>\n",
       "      <td>IN</td>\n",
       "      <td>in</td>\n",
       "      <td>O</td>\n",
       "      <td>0</td>\n",
       "      <td>[]</td>\n",
       "      <td>O</td>\n",
       "      <td>O</td>\n",
       "      <td>((S[pt]\\NP)\\(S[pt]\\NP))/NP</td>\n",
       "      <td>lam(v1,lam(v2,lam(v3,lam(v4,app(app(v2,v3),lam...</td>\n",
       "    </tr>\n",
       "    <tr>\n",
       "      <th>11</th>\n",
       "      <td>Colombia</td>\n",
       "      <td>NNP</td>\n",
       "      <td>colombia</td>\n",
       "      <td>geo-nam</td>\n",
       "      <td>1</td>\n",
       "      <td>[]</td>\n",
       "      <td>O</td>\n",
       "      <td>Place</td>\n",
       "      <td>N</td>\n",
       "      <td>lam(v1,b1:drs([],[b1:[1012]:named(v1,colombia,...</td>\n",
       "    </tr>\n",
       "    <tr>\n",
       "      <th>12</th>\n",
       "      <td>after</td>\n",
       "      <td>IN</td>\n",
       "      <td>after</td>\n",
       "      <td>O</td>\n",
       "      <td>0</td>\n",
       "      <td>[]</td>\n",
       "      <td>O</td>\n",
       "      <td>O</td>\n",
       "      <td>((S[pt]\\NP)\\(S[pt]\\NP))/(S[ng]\\NP)</td>\n",
       "      <td>lam(v1,lam(v2,lam(v3,lam(v4,app(v3,lam(v5,app(...</td>\n",
       "    </tr>\n",
       "    <tr>\n",
       "      <th>13</th>\n",
       "      <td>receiving</td>\n",
       "      <td>VBG</td>\n",
       "      <td>receive</td>\n",
       "      <td>O</td>\n",
       "      <td>1</td>\n",
       "      <td>[Theme,Agent]</td>\n",
       "      <td>O</td>\n",
       "      <td>O</td>\n",
       "      <td>(S[ng]\\NP)/NP</td>\n",
       "      <td>lam(v1,lam(v2,lam(v3,app(v2,lam(v4,app(v1,lam(...</td>\n",
       "    </tr>\n",
       "    <tr>\n",
       "      <th>14</th>\n",
       "      <td>reports</td>\n",
       "      <td>NNS</td>\n",
       "      <td>report</td>\n",
       "      <td>O</td>\n",
       "      <td>1</td>\n",
       "      <td>[]</td>\n",
       "      <td>O</td>\n",
       "      <td>Human</td>\n",
       "      <td>N</td>\n",
       "      <td>lam(v1,b1:drs([],[b1:[1015]:pred(v1,report,n,'...</td>\n",
       "    </tr>\n",
       "    <tr>\n",
       "      <th>15</th>\n",
       "      <td>he</td>\n",
       "      <td>PRP</td>\n",
       "      <td>he</td>\n",
       "      <td>O</td>\n",
       "      <td>0</td>\n",
       "      <td>[]</td>\n",
       "      <td>O</td>\n",
       "      <td>Human</td>\n",
       "      <td>NP</td>\n",
       "      <td>lam(v1,alfa(pro,b1:drs([b1:[]:x1],[b1:[1016]:p...</td>\n",
       "    </tr>\n",
       "    <tr>\n",
       "      <th>16</th>\n",
       "      <td>is</td>\n",
       "      <td>VBZ</td>\n",
       "      <td>be</td>\n",
       "      <td>O</td>\n",
       "      <td>0</td>\n",
       "      <td>[]</td>\n",
       "      <td>O</td>\n",
       "      <td>O</td>\n",
       "      <td>(S[dcl]\\NP)/(S[pss]\\NP)</td>\n",
       "      <td>lam(v1,lam(v2,lam(v3,app(app(v1,v2),lam(v4,mer...</td>\n",
       "    </tr>\n",
       "    <tr>\n",
       "      <th>17</th>\n",
       "      <td>wanted</td>\n",
       "      <td>VBN</td>\n",
       "      <td>want</td>\n",
       "      <td>O</td>\n",
       "      <td>1</td>\n",
       "      <td>[Theme,Agent]</td>\n",
       "      <td>O</td>\n",
       "      <td>O</td>\n",
       "      <td>(S[pss]\\NP)/PP</td>\n",
       "      <td>lam(v1,lam(v2,lam(v3,app(v2,lam(v4,merge(b1:dr...</td>\n",
       "    </tr>\n",
       "    <tr>\n",
       "      <th>18</th>\n",
       "      <td>in</td>\n",
       "      <td>IN</td>\n",
       "      <td>in</td>\n",
       "      <td>O</td>\n",
       "      <td>0</td>\n",
       "      <td>[]</td>\n",
       "      <td>O</td>\n",
       "      <td>O</td>\n",
       "      <td>PP/NP</td>\n",
       "      <td>lam(v1,lam(v2,app(v1,lam(v3,b1:drs([],[b1:[101...</td>\n",
       "    </tr>\n",
       "    <tr>\n",
       "      <th>19</th>\n",
       "      <td>his</td>\n",
       "      <td>PRP$</td>\n",
       "      <td>his</td>\n",
       "      <td>O</td>\n",
       "      <td>0</td>\n",
       "      <td>[]</td>\n",
       "      <td>of</td>\n",
       "      <td>Non-concrete</td>\n",
       "      <td>NP/N</td>\n",
       "      <td>lam(v1,lam(v2,alfa(pro,b1:drs([b1:[]:x1],[b1:[...</td>\n",
       "    </tr>\n",
       "    <tr>\n",
       "      <th>20</th>\n",
       "      <td>homeland</td>\n",
       "      <td>NN</td>\n",
       "      <td>homeland</td>\n",
       "      <td>O</td>\n",
       "      <td>1</td>\n",
       "      <td>[]</td>\n",
       "      <td>O</td>\n",
       "      <td>Non-concrete</td>\n",
       "      <td>N</td>\n",
       "      <td>lam(v1,b1:drs([],[b1:[1021]:pred(v1,homeland,n...</td>\n",
       "    </tr>\n",
       "    <tr>\n",
       "      <th>21</th>\n",
       "      <td>on</td>\n",
       "      <td>IN</td>\n",
       "      <td>on</td>\n",
       "      <td>O</td>\n",
       "      <td>0</td>\n",
       "      <td>[]</td>\n",
       "      <td>O</td>\n",
       "      <td>O</td>\n",
       "      <td>(NP\\NP)/NP</td>\n",
       "      <td>lam(v1,lam(v2,lam(v3,app(v2,lam(v4,app(v1,lam(...</td>\n",
       "    </tr>\n",
       "    <tr>\n",
       "      <th>22</th>\n",
       "      <td>treason</td>\n",
       "      <td>NN</td>\n",
       "      <td>treason</td>\n",
       "      <td>O</td>\n",
       "      <td>1</td>\n",
       "      <td>[]</td>\n",
       "      <td>of</td>\n",
       "      <td>Non-concrete</td>\n",
       "      <td>N/N</td>\n",
       "      <td>lam(v1,lam(v2,merge(b1:drs([b1:[]:x1],[b1:[102...</td>\n",
       "    </tr>\n",
       "    <tr>\n",
       "      <th>23</th>\n",
       "      <td>charges</td>\n",
       "      <td>NNS</td>\n",
       "      <td>charge</td>\n",
       "      <td>O</td>\n",
       "      <td>1</td>\n",
       "      <td>[]</td>\n",
       "      <td>O</td>\n",
       "      <td>Non-concrete</td>\n",
       "      <td>N</td>\n",
       "      <td>lam(v1,b1:drs([],[b1:[1024]:pred(v1,charge,n,'...</td>\n",
       "    </tr>\n",
       "    <tr>\n",
       "      <th>24</th>\n",
       "      <td>.</td>\n",
       "      <td>.</td>\n",
       "      <td>.</td>\n",
       "      <td>O</td>\n",
       "      <td>0</td>\n",
       "      <td>[]</td>\n",
       "      <td>O</td>\n",
       "      <td>O</td>\n",
       "      <td>S[dcl]\\S[dcl]</td>\n",
       "      <td>lam(v1,v1)</td>\n",
       "    </tr>\n",
       "    <tr>\n",
       "      <th>25</th>\n",
       "      <td>Colombian</td>\n",
       "      <td>JJ</td>\n",
       "      <td>colombia</td>\n",
       "      <td>gpe-nam</td>\n",
       "      <td>0</td>\n",
       "      <td>[]</td>\n",
       "      <td>of</td>\n",
       "      <td>Human</td>\n",
       "      <td>N/N</td>\n",
       "      <td>lam(v1,lam(v2,merge(b1:drs([b1:[]:x1],[b1:[200...</td>\n",
       "    </tr>\n",
       "    <tr>\n",
       "      <th>26</th>\n",
       "      <td>officials</td>\n",
       "      <td>NNS</td>\n",
       "      <td>official</td>\n",
       "      <td>O</td>\n",
       "      <td>1</td>\n",
       "      <td>[]</td>\n",
       "      <td>O</td>\n",
       "      <td>Human</td>\n",
       "      <td>N</td>\n",
       "      <td>lam(v1,b1:drs([],[b1:[2002]:pred(v1,official,n...</td>\n",
       "    </tr>\n",
       "    <tr>\n",
       "      <th>27</th>\n",
       "      <td>say</td>\n",
       "      <td>VBP</td>\n",
       "      <td>say</td>\n",
       "      <td>O</td>\n",
       "      <td>1</td>\n",
       "      <td>[Topic,Cause]</td>\n",
       "      <td>O</td>\n",
       "      <td>O</td>\n",
       "      <td>(S[dcl]\\NP)/S[dcl]</td>\n",
       "      <td>lam(v1,lam(v2,lam(v3,app(v2,lam(v4,merge(b1:dr...</td>\n",
       "    </tr>\n",
       "    <tr>\n",
       "      <th>28</th>\n",
       "      <td>Mr.</td>\n",
       "      <td>NNP</td>\n",
       "      <td>mr.</td>\n",
       "      <td>per-tit</td>\n",
       "      <td>1</td>\n",
       "      <td>[]</td>\n",
       "      <td>=</td>\n",
       "      <td>Human</td>\n",
       "      <td>N/N</td>\n",
       "      <td>lam(v1,lam(v2,merge(b1:drs([b1:[]:x1],[b1:[200...</td>\n",
       "    </tr>\n",
       "    <tr>\n",
       "      <th>29</th>\n",
       "      <td>Gutierrez</td>\n",
       "      <td>NNP</td>\n",
       "      <td>gutierrez</td>\n",
       "      <td>per-nam</td>\n",
       "      <td>0</td>\n",
       "      <td>[]</td>\n",
       "      <td>O</td>\n",
       "      <td>Human</td>\n",
       "      <td>N</td>\n",
       "      <td>lam(v1,b1:drs([],[b1:[2005]:named(v1,gutierrez...</td>\n",
       "    </tr>\n",
       "  </tbody>\n",
       "</table>\n",
       "</div>"
      ],
      "text/plain": [
       "         token pos_tag       lemma  ner_tag word_net_sense_number  \\\n",
       "0       Former      JJ      former        O                     1   \n",
       "1   Ecuadorean     NNP  ecuadorean        O                     0   \n",
       "2    President     NNP   president  per-tit                     1   \n",
       "3        Lucio     NNP       lucio  per-nam                     0   \n",
       "4    Gutierrez     NNP   gutierrez  per-nam                     0   \n",
       "5          has     VBZ        have        O                     0   \n",
       "6     formally      RB    formally        O                     1   \n",
       "7    requested     VBN     request        O                     1   \n",
       "8    political      JJ   political        O                     1   \n",
       "9       asylum      NN      asylum        O                     1   \n",
       "10          in      IN          in        O                     0   \n",
       "11    Colombia     NNP    colombia  geo-nam                     1   \n",
       "12       after      IN       after        O                     0   \n",
       "13   receiving     VBG     receive        O                     1   \n",
       "14     reports     NNS      report        O                     1   \n",
       "15          he     PRP          he        O                     0   \n",
       "16          is     VBZ          be        O                     0   \n",
       "17      wanted     VBN        want        O                     1   \n",
       "18          in      IN          in        O                     0   \n",
       "19         his    PRP$         his        O                     0   \n",
       "20    homeland      NN    homeland        O                     1   \n",
       "21          on      IN          on        O                     0   \n",
       "22     treason      NN     treason        O                     1   \n",
       "23     charges     NNS      charge        O                     1   \n",
       "24           .       .           .        O                     0   \n",
       "25   Colombian      JJ    colombia  gpe-nam                     0   \n",
       "26   officials     NNS    official        O                     1   \n",
       "27         say     VBP         say        O                     1   \n",
       "28         Mr.     NNP         mr.  per-tit                     1   \n",
       "29   Gutierrez     NNP   gutierrez  per-nam                     0   \n",
       "\n",
       "   verb_net_roles semantic_relation   animacy_tag  \\\n",
       "0         [Topic]                 O             O   \n",
       "1              []                 =         Human   \n",
       "2              []                 =         Human   \n",
       "3              []                 =         Human   \n",
       "4              []                 O         Human   \n",
       "5              []                 O             O   \n",
       "6              []                 O             O   \n",
       "7   [Topic,Agent]                 O             O   \n",
       "8         [Topic]                 O             O   \n",
       "9              []                 O  Non-concrete   \n",
       "10             []                 O             O   \n",
       "11             []                 O         Place   \n",
       "12             []                 O             O   \n",
       "13  [Theme,Agent]                 O             O   \n",
       "14             []                 O         Human   \n",
       "15             []                 O         Human   \n",
       "16             []                 O             O   \n",
       "17  [Theme,Agent]                 O             O   \n",
       "18             []                 O             O   \n",
       "19             []                of  Non-concrete   \n",
       "20             []                 O  Non-concrete   \n",
       "21             []                 O             O   \n",
       "22             []                of  Non-concrete   \n",
       "23             []                 O  Non-concrete   \n",
       "24             []                 O             O   \n",
       "25             []                of         Human   \n",
       "26             []                 O         Human   \n",
       "27  [Topic,Cause]                 O             O   \n",
       "28             []                 =         Human   \n",
       "29             []                 O         Human   \n",
       "\n",
       "                             super_tag  \\\n",
       "0                                  N/N   \n",
       "1                                  N/N   \n",
       "2                                  N/N   \n",
       "3                                  N/N   \n",
       "4                                    N   \n",
       "5               (S[dcl]\\NP)/(S[pt]\\NP)   \n",
       "6              (S[dcl]\\NP)\\(S[dcl]\\NP)   \n",
       "7                        (S[pt]\\NP)/NP   \n",
       "8                                  N/N   \n",
       "9                                    N   \n",
       "10          ((S[pt]\\NP)\\(S[pt]\\NP))/NP   \n",
       "11                                   N   \n",
       "12  ((S[pt]\\NP)\\(S[pt]\\NP))/(S[ng]\\NP)   \n",
       "13                       (S[ng]\\NP)/NP   \n",
       "14                                   N   \n",
       "15                                  NP   \n",
       "16             (S[dcl]\\NP)/(S[pss]\\NP)   \n",
       "17                      (S[pss]\\NP)/PP   \n",
       "18                               PP/NP   \n",
       "19                                NP/N   \n",
       "20                                   N   \n",
       "21                          (NP\\NP)/NP   \n",
       "22                                 N/N   \n",
       "23                                   N   \n",
       "24                       S[dcl]\\S[dcl]   \n",
       "25                                 N/N   \n",
       "26                                   N   \n",
       "27                  (S[dcl]\\NP)/S[dcl]   \n",
       "28                                 N/N   \n",
       "29                                   N   \n",
       "\n",
       "                                           lambda_dsr  \n",
       "0   lam(v1,lam(v2,merge(b1:drs([b1:[]:s1],[b1:[]:r...  \n",
       "1   lam(v1,lam(v2,merge(b1:drs([b1:[]:x1],[b1:[100...  \n",
       "2   lam(v1,lam(v2,merge(b1:drs([b1:[]:x1],[b1:[100...  \n",
       "3   lam(v1,lam(v2,merge(b1:drs([b1:[]:x1],[b1:[100...  \n",
       "4   lam(v1,b1:drs([],[b1:[1005]:named(v1,gutierrez...  \n",
       "5   lam(v1,lam(v2,lam(v3,app(app(v1,v2),lam(v4,mer...  \n",
       "6   lam(v1,lam(v2,lam(v3,app(app(v1,v2),lam(v4,mer...  \n",
       "7   lam(v1,lam(v2,lam(v3,app(v2,lam(v4,app(v1,lam(...  \n",
       "8   lam(v1,lam(v2,merge(b1:drs([b1:[]:s1],[b1:[]:r...  \n",
       "9   lam(v1,b1:drs([],[b1:[1010]:pred(v1,asylum,n,'...  \n",
       "10  lam(v1,lam(v2,lam(v3,lam(v4,app(app(v2,v3),lam...  \n",
       "11  lam(v1,b1:drs([],[b1:[1012]:named(v1,colombia,...  \n",
       "12  lam(v1,lam(v2,lam(v3,lam(v4,app(v3,lam(v5,app(...  \n",
       "13  lam(v1,lam(v2,lam(v3,app(v2,lam(v4,app(v1,lam(...  \n",
       "14  lam(v1,b1:drs([],[b1:[1015]:pred(v1,report,n,'...  \n",
       "15  lam(v1,alfa(pro,b1:drs([b1:[]:x1],[b1:[1016]:p...  \n",
       "16  lam(v1,lam(v2,lam(v3,app(app(v1,v2),lam(v4,mer...  \n",
       "17  lam(v1,lam(v2,lam(v3,app(v2,lam(v4,merge(b1:dr...  \n",
       "18  lam(v1,lam(v2,app(v1,lam(v3,b1:drs([],[b1:[101...  \n",
       "19  lam(v1,lam(v2,alfa(pro,b1:drs([b1:[]:x1],[b1:[...  \n",
       "20  lam(v1,b1:drs([],[b1:[1021]:pred(v1,homeland,n...  \n",
       "21  lam(v1,lam(v2,lam(v3,app(v2,lam(v4,app(v1,lam(...  \n",
       "22  lam(v1,lam(v2,merge(b1:drs([b1:[]:x1],[b1:[102...  \n",
       "23  lam(v1,b1:drs([],[b1:[1024]:pred(v1,charge,n,'...  \n",
       "24                                         lam(v1,v1)  \n",
       "25  lam(v1,lam(v2,merge(b1:drs([b1:[]:x1],[b1:[200...  \n",
       "26  lam(v1,b1:drs([],[b1:[2002]:pred(v1,official,n...  \n",
       "27  lam(v1,lam(v2,lam(v3,app(v2,lam(v4,merge(b1:dr...  \n",
       "28  lam(v1,lam(v2,merge(b1:drs([b1:[]:x1],[b1:[200...  \n",
       "29  lam(v1,b1:drs([],[b1:[2005]:named(v1,gutierrez...  "
      ]
     },
     "execution_count": 22,
     "metadata": {},
     "output_type": "execute_result"
    }
   ],
   "source": [
    "X.head(30)"
   ]
  },
  {
   "cell_type": "code",
   "execution_count": 23,
   "metadata": {},
   "outputs": [
    {
     "data": {
      "text/plain": [
       "O          1032479\n",
       "geo-nam      55480\n",
       "org-nam      44646\n",
       "per-nam      22931\n",
       "gpe-nam      19685\n",
       "tim-dow      11398\n",
       "tim-dat      10929\n",
       "per-tit       9672\n",
       "per-fam       8098\n",
       "[]            4064\n",
       "tim-moy       3811\n",
       "tim-yoc       3009\n",
       "per-giv       2376\n",
       "tim-clo        810\n",
       "art-nam        789\n",
       "eve-nam        514\n",
       "nat-nam        280\n",
       "tim-nam        132\n",
       "eve-ord         63\n",
       "per-ini         55\n",
       "per-ord         35\n",
       "org-leg         13\n",
       "tim-dom          8\n",
       "per-mid          1\n",
       "art-add          1\n",
       "Name: ner_tag, dtype: int64"
      ]
     },
     "execution_count": 23,
     "metadata": {},
     "output_type": "execute_result"
    }
   ],
   "source": [
    "X.ner_tag.value_counts()"
   ]
  },
  {
   "cell_type": "markdown",
   "metadata": {},
   "source": [
    "Lots of redundant tag additions (like -nam, -dow).\n",
    "\n",
    "We will work without them:"
   ]
  },
  {
   "cell_type": "code",
   "execution_count": 24,
   "metadata": {},
   "outputs": [
    {
     "data": {
      "application/vnd.jupyter.widget-view+json": {
       "model_id": "2241accd1673421eb1736ee868413261",
       "version_major": 2,
       "version_minor": 0
      },
      "text/plain": [
       "HBox(children=(IntProgress(value=0, description='Punctuation without dots: ', max=1231279), HTML(value='')))"
      ]
     },
     "metadata": {},
     "output_type": "display_data"
    },
    {
     "name": "stdout",
     "output_type": "stream",
     "text": [
      "\n"
     ]
    },
    {
     "data": {
      "application/vnd.jupyter.widget-view+json": {
       "model_id": "486670821f0f44c2842a7f87e4f563c5",
       "version_major": 2,
       "version_minor": 0
      },
      "text/plain": [
       "HBox(children=(IntProgress(value=0, description='Target tags: ', max=780339), HTML(value='')))"
      ]
     },
     "metadata": {},
     "output_type": "display_data"
    },
    {
     "name": "stdout",
     "output_type": "stream",
     "text": [
      "\n"
     ]
    },
    {
     "data": {
      "application/vnd.jupyter.widget-view+json": {
       "model_id": "23170bc9259f44cfb685ae51c6f41397",
       "version_major": 2,
       "version_minor": 0
      },
      "text/plain": [
       "HBox(children=(IntProgress(value=0, description='IOB to BIO: ', max=780339), HTML(value='')))"
      ]
     },
     "metadata": {},
     "output_type": "display_data"
    },
    {
     "name": "stdout",
     "output_type": "stream",
     "text": [
      "\n"
     ]
    }
   ],
   "source": [
    "X = filtrations(X, with_dots=True)"
   ]
  },
  {
   "cell_type": "code",
   "execution_count": 25,
   "metadata": {},
   "outputs": [
    {
     "data": {
      "text/html": [
       "<div>\n",
       "<style scoped>\n",
       "    .dataframe tbody tr th:only-of-type {\n",
       "        vertical-align: middle;\n",
       "    }\n",
       "\n",
       "    .dataframe tbody tr th {\n",
       "        vertical-align: top;\n",
       "    }\n",
       "\n",
       "    .dataframe thead th {\n",
       "        text-align: right;\n",
       "    }\n",
       "</style>\n",
       "<table border=\"1\" class=\"dataframe\">\n",
       "  <thead>\n",
       "    <tr style=\"text-align: right;\">\n",
       "      <th></th>\n",
       "      <th>token</th>\n",
       "      <th>pos_tag</th>\n",
       "      <th>lemma</th>\n",
       "      <th>ner_tag</th>\n",
       "      <th>word_net_sense_number</th>\n",
       "      <th>verb_net_roles</th>\n",
       "      <th>semantic_relation</th>\n",
       "      <th>animacy_tag</th>\n",
       "      <th>super_tag</th>\n",
       "      <th>lambda_dsr</th>\n",
       "    </tr>\n",
       "  </thead>\n",
       "  <tbody>\n",
       "    <tr>\n",
       "      <th>0</th>\n",
       "      <td>Former</td>\n",
       "      <td>JJ</td>\n",
       "      <td>former</td>\n",
       "      <td>O</td>\n",
       "      <td>1</td>\n",
       "      <td>[Topic]</td>\n",
       "      <td>O</td>\n",
       "      <td>O</td>\n",
       "      <td>N/N</td>\n",
       "      <td>lam(v1,lam(v2,merge(b1:drs([b1:[]:s1],[b1:[]:r...</td>\n",
       "    </tr>\n",
       "    <tr>\n",
       "      <th>1</th>\n",
       "      <td>Ecuadorean</td>\n",
       "      <td>NNP</td>\n",
       "      <td>ecuadorean</td>\n",
       "      <td>O</td>\n",
       "      <td>0</td>\n",
       "      <td>[]</td>\n",
       "      <td>=</td>\n",
       "      <td>Human</td>\n",
       "      <td>N/N</td>\n",
       "      <td>lam(v1,lam(v2,merge(b1:drs([b1:[]:x1],[b1:[100...</td>\n",
       "    </tr>\n",
       "    <tr>\n",
       "      <th>2</th>\n",
       "      <td>President</td>\n",
       "      <td>NNP</td>\n",
       "      <td>president</td>\n",
       "      <td>B-per</td>\n",
       "      <td>1</td>\n",
       "      <td>[]</td>\n",
       "      <td>=</td>\n",
       "      <td>Human</td>\n",
       "      <td>N/N</td>\n",
       "      <td>lam(v1,lam(v2,merge(b1:drs([b1:[]:x1],[b1:[100...</td>\n",
       "    </tr>\n",
       "    <tr>\n",
       "      <th>3</th>\n",
       "      <td>Lucio</td>\n",
       "      <td>NNP</td>\n",
       "      <td>lucio</td>\n",
       "      <td>I-per</td>\n",
       "      <td>0</td>\n",
       "      <td>[]</td>\n",
       "      <td>=</td>\n",
       "      <td>Human</td>\n",
       "      <td>N/N</td>\n",
       "      <td>lam(v1,lam(v2,merge(b1:drs([b1:[]:x1],[b1:[100...</td>\n",
       "    </tr>\n",
       "    <tr>\n",
       "      <th>4</th>\n",
       "      <td>Gutierrez</td>\n",
       "      <td>NNP</td>\n",
       "      <td>gutierrez</td>\n",
       "      <td>I-per</td>\n",
       "      <td>0</td>\n",
       "      <td>[]</td>\n",
       "      <td>O</td>\n",
       "      <td>Human</td>\n",
       "      <td>N</td>\n",
       "      <td>lam(v1,b1:drs([],[b1:[1005]:named(v1,gutierrez...</td>\n",
       "    </tr>\n",
       "    <tr>\n",
       "      <th>6</th>\n",
       "      <td>formally</td>\n",
       "      <td>RB</td>\n",
       "      <td>formally</td>\n",
       "      <td>O</td>\n",
       "      <td>1</td>\n",
       "      <td>[]</td>\n",
       "      <td>O</td>\n",
       "      <td>O</td>\n",
       "      <td>(S[dcl]\\NP)\\(S[dcl]\\NP)</td>\n",
       "      <td>lam(v1,lam(v2,lam(v3,app(app(v1,v2),lam(v4,mer...</td>\n",
       "    </tr>\n",
       "    <tr>\n",
       "      <th>7</th>\n",
       "      <td>requested</td>\n",
       "      <td>VBN</td>\n",
       "      <td>request</td>\n",
       "      <td>O</td>\n",
       "      <td>1</td>\n",
       "      <td>[Topic,Agent]</td>\n",
       "      <td>O</td>\n",
       "      <td>O</td>\n",
       "      <td>(S[pt]\\NP)/NP</td>\n",
       "      <td>lam(v1,lam(v2,lam(v3,app(v2,lam(v4,app(v1,lam(...</td>\n",
       "    </tr>\n",
       "    <tr>\n",
       "      <th>8</th>\n",
       "      <td>political</td>\n",
       "      <td>JJ</td>\n",
       "      <td>political</td>\n",
       "      <td>O</td>\n",
       "      <td>1</td>\n",
       "      <td>[Topic]</td>\n",
       "      <td>O</td>\n",
       "      <td>O</td>\n",
       "      <td>N/N</td>\n",
       "      <td>lam(v1,lam(v2,merge(b1:drs([b1:[]:s1],[b1:[]:r...</td>\n",
       "    </tr>\n",
       "    <tr>\n",
       "      <th>9</th>\n",
       "      <td>asylum</td>\n",
       "      <td>NN</td>\n",
       "      <td>asylum</td>\n",
       "      <td>O</td>\n",
       "      <td>1</td>\n",
       "      <td>[]</td>\n",
       "      <td>O</td>\n",
       "      <td>Non-concrete</td>\n",
       "      <td>N</td>\n",
       "      <td>lam(v1,b1:drs([],[b1:[1010]:pred(v1,asylum,n,'...</td>\n",
       "    </tr>\n",
       "    <tr>\n",
       "      <th>11</th>\n",
       "      <td>Colombia</td>\n",
       "      <td>NNP</td>\n",
       "      <td>colombia</td>\n",
       "      <td>B-geo</td>\n",
       "      <td>1</td>\n",
       "      <td>[]</td>\n",
       "      <td>O</td>\n",
       "      <td>Place</td>\n",
       "      <td>N</td>\n",
       "      <td>lam(v1,b1:drs([],[b1:[1012]:named(v1,colombia,...</td>\n",
       "    </tr>\n",
       "    <tr>\n",
       "      <th>13</th>\n",
       "      <td>receiving</td>\n",
       "      <td>VBG</td>\n",
       "      <td>receive</td>\n",
       "      <td>O</td>\n",
       "      <td>1</td>\n",
       "      <td>[Theme,Agent]</td>\n",
       "      <td>O</td>\n",
       "      <td>O</td>\n",
       "      <td>(S[ng]\\NP)/NP</td>\n",
       "      <td>lam(v1,lam(v2,lam(v3,app(v2,lam(v4,app(v1,lam(...</td>\n",
       "    </tr>\n",
       "    <tr>\n",
       "      <th>14</th>\n",
       "      <td>reports</td>\n",
       "      <td>NNS</td>\n",
       "      <td>report</td>\n",
       "      <td>O</td>\n",
       "      <td>1</td>\n",
       "      <td>[]</td>\n",
       "      <td>O</td>\n",
       "      <td>Human</td>\n",
       "      <td>N</td>\n",
       "      <td>lam(v1,b1:drs([],[b1:[1015]:pred(v1,report,n,'...</td>\n",
       "    </tr>\n",
       "    <tr>\n",
       "      <th>17</th>\n",
       "      <td>wanted</td>\n",
       "      <td>VBN</td>\n",
       "      <td>want</td>\n",
       "      <td>O</td>\n",
       "      <td>1</td>\n",
       "      <td>[Theme,Agent]</td>\n",
       "      <td>O</td>\n",
       "      <td>O</td>\n",
       "      <td>(S[pss]\\NP)/PP</td>\n",
       "      <td>lam(v1,lam(v2,lam(v3,app(v2,lam(v4,merge(b1:dr...</td>\n",
       "    </tr>\n",
       "    <tr>\n",
       "      <th>20</th>\n",
       "      <td>homeland</td>\n",
       "      <td>NN</td>\n",
       "      <td>homeland</td>\n",
       "      <td>O</td>\n",
       "      <td>1</td>\n",
       "      <td>[]</td>\n",
       "      <td>O</td>\n",
       "      <td>Non-concrete</td>\n",
       "      <td>N</td>\n",
       "      <td>lam(v1,b1:drs([],[b1:[1021]:pred(v1,homeland,n...</td>\n",
       "    </tr>\n",
       "    <tr>\n",
       "      <th>22</th>\n",
       "      <td>treason</td>\n",
       "      <td>NN</td>\n",
       "      <td>treason</td>\n",
       "      <td>O</td>\n",
       "      <td>1</td>\n",
       "      <td>[]</td>\n",
       "      <td>of</td>\n",
       "      <td>Non-concrete</td>\n",
       "      <td>N/N</td>\n",
       "      <td>lam(v1,lam(v2,merge(b1:drs([b1:[]:x1],[b1:[102...</td>\n",
       "    </tr>\n",
       "    <tr>\n",
       "      <th>23</th>\n",
       "      <td>charges</td>\n",
       "      <td>NNS</td>\n",
       "      <td>charge</td>\n",
       "      <td>O</td>\n",
       "      <td>1</td>\n",
       "      <td>[]</td>\n",
       "      <td>O</td>\n",
       "      <td>Non-concrete</td>\n",
       "      <td>N</td>\n",
       "      <td>lam(v1,b1:drs([],[b1:[1024]:pred(v1,charge,n,'...</td>\n",
       "    </tr>\n",
       "    <tr>\n",
       "      <th>24</th>\n",
       "      <td>.</td>\n",
       "      <td>.</td>\n",
       "      <td>.</td>\n",
       "      <td>O</td>\n",
       "      <td>0</td>\n",
       "      <td>[]</td>\n",
       "      <td>O</td>\n",
       "      <td>O</td>\n",
       "      <td>S[dcl]\\S[dcl]</td>\n",
       "      <td>lam(v1,v1)</td>\n",
       "    </tr>\n",
       "    <tr>\n",
       "      <th>25</th>\n",
       "      <td>Colombian</td>\n",
       "      <td>JJ</td>\n",
       "      <td>colombia</td>\n",
       "      <td>B-gpe</td>\n",
       "      <td>0</td>\n",
       "      <td>[]</td>\n",
       "      <td>of</td>\n",
       "      <td>Human</td>\n",
       "      <td>N/N</td>\n",
       "      <td>lam(v1,lam(v2,merge(b1:drs([b1:[]:x1],[b1:[200...</td>\n",
       "    </tr>\n",
       "    <tr>\n",
       "      <th>26</th>\n",
       "      <td>officials</td>\n",
       "      <td>NNS</td>\n",
       "      <td>official</td>\n",
       "      <td>O</td>\n",
       "      <td>1</td>\n",
       "      <td>[]</td>\n",
       "      <td>O</td>\n",
       "      <td>Human</td>\n",
       "      <td>N</td>\n",
       "      <td>lam(v1,b1:drs([],[b1:[2002]:pred(v1,official,n...</td>\n",
       "    </tr>\n",
       "    <tr>\n",
       "      <th>27</th>\n",
       "      <td>say</td>\n",
       "      <td>VBP</td>\n",
       "      <td>say</td>\n",
       "      <td>O</td>\n",
       "      <td>1</td>\n",
       "      <td>[Topic,Cause]</td>\n",
       "      <td>O</td>\n",
       "      <td>O</td>\n",
       "      <td>(S[dcl]\\NP)/S[dcl]</td>\n",
       "      <td>lam(v1,lam(v2,lam(v3,app(v2,lam(v4,merge(b1:dr...</td>\n",
       "    </tr>\n",
       "    <tr>\n",
       "      <th>28</th>\n",
       "      <td>Mr.</td>\n",
       "      <td>NNP</td>\n",
       "      <td>mr.</td>\n",
       "      <td>B-per</td>\n",
       "      <td>1</td>\n",
       "      <td>[]</td>\n",
       "      <td>=</td>\n",
       "      <td>Human</td>\n",
       "      <td>N/N</td>\n",
       "      <td>lam(v1,lam(v2,merge(b1:drs([b1:[]:x1],[b1:[200...</td>\n",
       "    </tr>\n",
       "    <tr>\n",
       "      <th>29</th>\n",
       "      <td>Gutierrez</td>\n",
       "      <td>NNP</td>\n",
       "      <td>gutierrez</td>\n",
       "      <td>I-per</td>\n",
       "      <td>0</td>\n",
       "      <td>[]</td>\n",
       "      <td>O</td>\n",
       "      <td>Human</td>\n",
       "      <td>N</td>\n",
       "      <td>lam(v1,b1:drs([],[b1:[2005]:named(v1,gutierrez...</td>\n",
       "    </tr>\n",
       "    <tr>\n",
       "      <th>30</th>\n",
       "      <td>submitted</td>\n",
       "      <td>VBD</td>\n",
       "      <td>submit</td>\n",
       "      <td>O</td>\n",
       "      <td>1</td>\n",
       "      <td>[Theme,Agent]</td>\n",
       "      <td>O</td>\n",
       "      <td>O</td>\n",
       "      <td>(S[dcl]\\NP)/NP</td>\n",
       "      <td>lam(v1,lam(v2,lam(v3,app(v2,lam(v4,app(v1,lam(...</td>\n",
       "    </tr>\n",
       "    <tr>\n",
       "      <th>32</th>\n",
       "      <td>application</td>\n",
       "      <td>NN</td>\n",
       "      <td>application</td>\n",
       "      <td>O</td>\n",
       "      <td>1</td>\n",
       "      <td>[]</td>\n",
       "      <td>O</td>\n",
       "      <td>Concrete</td>\n",
       "      <td>N</td>\n",
       "      <td>lam(v1,b1:drs([],[b1:[2008]:pred(v1,applicatio...</td>\n",
       "    </tr>\n",
       "    <tr>\n",
       "      <th>34</th>\n",
       "      <td>arriving</td>\n",
       "      <td>VBG</td>\n",
       "      <td>arrive</td>\n",
       "      <td>O</td>\n",
       "      <td>1</td>\n",
       "      <td>[Topic,Agent]</td>\n",
       "      <td>O</td>\n",
       "      <td>O</td>\n",
       "      <td>((S[ng]\\NP)/NP)/PP</td>\n",
       "      <td>lam(v1,lam(v2,lam(v3,lam(v4,app(v3,lam(v5,app(...</td>\n",
       "    </tr>\n",
       "    <tr>\n",
       "      <th>36</th>\n",
       "      <td>Peru</td>\n",
       "      <td>NNP</td>\n",
       "      <td>peru</td>\n",
       "      <td>B-geo</td>\n",
       "      <td>1</td>\n",
       "      <td>[]</td>\n",
       "      <td>O</td>\n",
       "      <td>Time</td>\n",
       "      <td>N</td>\n",
       "      <td>lam(v1,b1:drs([],[b1:[2012]:named(v1,peru,geo,...</td>\n",
       "    </tr>\n",
       "    <tr>\n",
       "      <th>37</th>\n",
       "      <td>Wednesday</td>\n",
       "      <td>NNP</td>\n",
       "      <td>wednesday</td>\n",
       "      <td>B-tim</td>\n",
       "      <td>1</td>\n",
       "      <td>[]</td>\n",
       "      <td>on</td>\n",
       "      <td>Time</td>\n",
       "      <td>NP\\NP</td>\n",
       "      <td>lam(v1,lam(v2,app(v1,lam(v3,merge(b1:drs([b1:[...</td>\n",
       "    </tr>\n",
       "    <tr>\n",
       "      <th>42</th>\n",
       "      <td>permission</td>\n",
       "      <td>NN</td>\n",
       "      <td>permission</td>\n",
       "      <td>O</td>\n",
       "      <td>1</td>\n",
       "      <td>[]</td>\n",
       "      <td>O</td>\n",
       "      <td>Non-concrete</td>\n",
       "      <td>N</td>\n",
       "      <td>lam(v1,b1:drs([],[b1:[2018]:pred(v1,permission...</td>\n",
       "    </tr>\n",
       "    <tr>\n",
       "      <th>44</th>\n",
       "      <td>remain</td>\n",
       "      <td>VB</td>\n",
       "      <td>remain</td>\n",
       "      <td>O</td>\n",
       "      <td>1</td>\n",
       "      <td>[Theme]</td>\n",
       "      <td>O</td>\n",
       "      <td>O</td>\n",
       "      <td>S[b]\\NP</td>\n",
       "      <td>lam(v1,lam(v2,app(v1,lam(v3,merge(b1:drs([b1:[...</td>\n",
       "    </tr>\n",
       "    <tr>\n",
       "      <th>46</th>\n",
       "      <td>Colombia</td>\n",
       "      <td>NNP</td>\n",
       "      <td>colombia</td>\n",
       "      <td>B-geo</td>\n",
       "      <td>1</td>\n",
       "      <td>[]</td>\n",
       "      <td>O</td>\n",
       "      <td>Place</td>\n",
       "      <td>N</td>\n",
       "      <td>lam(v1,b1:drs([],[b1:[2022]:named(v1,colombia,...</td>\n",
       "    </tr>\n",
       "  </tbody>\n",
       "</table>\n",
       "</div>"
      ],
      "text/plain": [
       "          token pos_tag        lemma ner_tag word_net_sense_number  \\\n",
       "0        Former      JJ       former       O                     1   \n",
       "1    Ecuadorean     NNP   ecuadorean       O                     0   \n",
       "2     President     NNP    president   B-per                     1   \n",
       "3         Lucio     NNP        lucio   I-per                     0   \n",
       "4     Gutierrez     NNP    gutierrez   I-per                     0   \n",
       "6      formally      RB     formally       O                     1   \n",
       "7     requested     VBN      request       O                     1   \n",
       "8     political      JJ    political       O                     1   \n",
       "9        asylum      NN       asylum       O                     1   \n",
       "11     Colombia     NNP     colombia   B-geo                     1   \n",
       "13    receiving     VBG      receive       O                     1   \n",
       "14      reports     NNS       report       O                     1   \n",
       "17       wanted     VBN         want       O                     1   \n",
       "20     homeland      NN     homeland       O                     1   \n",
       "22      treason      NN      treason       O                     1   \n",
       "23      charges     NNS       charge       O                     1   \n",
       "24            .       .            .       O                     0   \n",
       "25    Colombian      JJ     colombia   B-gpe                     0   \n",
       "26    officials     NNS     official       O                     1   \n",
       "27          say     VBP          say       O                     1   \n",
       "28          Mr.     NNP          mr.   B-per                     1   \n",
       "29    Gutierrez     NNP    gutierrez   I-per                     0   \n",
       "30    submitted     VBD       submit       O                     1   \n",
       "32  application      NN  application       O                     1   \n",
       "34     arriving     VBG       arrive       O                     1   \n",
       "36         Peru     NNP         peru   B-geo                     1   \n",
       "37    Wednesday     NNP    wednesday   B-tim                     1   \n",
       "42   permission      NN   permission       O                     1   \n",
       "44       remain      VB       remain       O                     1   \n",
       "46     Colombia     NNP     colombia   B-geo                     1   \n",
       "\n",
       "   verb_net_roles semantic_relation   animacy_tag                super_tag  \\\n",
       "0         [Topic]                 O             O                      N/N   \n",
       "1              []                 =         Human                      N/N   \n",
       "2              []                 =         Human                      N/N   \n",
       "3              []                 =         Human                      N/N   \n",
       "4              []                 O         Human                        N   \n",
       "6              []                 O             O  (S[dcl]\\NP)\\(S[dcl]\\NP)   \n",
       "7   [Topic,Agent]                 O             O            (S[pt]\\NP)/NP   \n",
       "8         [Topic]                 O             O                      N/N   \n",
       "9              []                 O  Non-concrete                        N   \n",
       "11             []                 O         Place                        N   \n",
       "13  [Theme,Agent]                 O             O            (S[ng]\\NP)/NP   \n",
       "14             []                 O         Human                        N   \n",
       "17  [Theme,Agent]                 O             O           (S[pss]\\NP)/PP   \n",
       "20             []                 O  Non-concrete                        N   \n",
       "22             []                of  Non-concrete                      N/N   \n",
       "23             []                 O  Non-concrete                        N   \n",
       "24             []                 O             O            S[dcl]\\S[dcl]   \n",
       "25             []                of         Human                      N/N   \n",
       "26             []                 O         Human                        N   \n",
       "27  [Topic,Cause]                 O             O       (S[dcl]\\NP)/S[dcl]   \n",
       "28             []                 =         Human                      N/N   \n",
       "29             []                 O         Human                        N   \n",
       "30  [Theme,Agent]                 O             O           (S[dcl]\\NP)/NP   \n",
       "32             []                 O      Concrete                        N   \n",
       "34  [Topic,Agent]                 O             O       ((S[ng]\\NP)/NP)/PP   \n",
       "36             []                 O          Time                        N   \n",
       "37             []                on          Time                    NP\\NP   \n",
       "42             []                 O  Non-concrete                        N   \n",
       "44        [Theme]                 O             O                  S[b]\\NP   \n",
       "46             []                 O         Place                        N   \n",
       "\n",
       "                                           lambda_dsr  \n",
       "0   lam(v1,lam(v2,merge(b1:drs([b1:[]:s1],[b1:[]:r...  \n",
       "1   lam(v1,lam(v2,merge(b1:drs([b1:[]:x1],[b1:[100...  \n",
       "2   lam(v1,lam(v2,merge(b1:drs([b1:[]:x1],[b1:[100...  \n",
       "3   lam(v1,lam(v2,merge(b1:drs([b1:[]:x1],[b1:[100...  \n",
       "4   lam(v1,b1:drs([],[b1:[1005]:named(v1,gutierrez...  \n",
       "6   lam(v1,lam(v2,lam(v3,app(app(v1,v2),lam(v4,mer...  \n",
       "7   lam(v1,lam(v2,lam(v3,app(v2,lam(v4,app(v1,lam(...  \n",
       "8   lam(v1,lam(v2,merge(b1:drs([b1:[]:s1],[b1:[]:r...  \n",
       "9   lam(v1,b1:drs([],[b1:[1010]:pred(v1,asylum,n,'...  \n",
       "11  lam(v1,b1:drs([],[b1:[1012]:named(v1,colombia,...  \n",
       "13  lam(v1,lam(v2,lam(v3,app(v2,lam(v4,app(v1,lam(...  \n",
       "14  lam(v1,b1:drs([],[b1:[1015]:pred(v1,report,n,'...  \n",
       "17  lam(v1,lam(v2,lam(v3,app(v2,lam(v4,merge(b1:dr...  \n",
       "20  lam(v1,b1:drs([],[b1:[1021]:pred(v1,homeland,n...  \n",
       "22  lam(v1,lam(v2,merge(b1:drs([b1:[]:x1],[b1:[102...  \n",
       "23  lam(v1,b1:drs([],[b1:[1024]:pred(v1,charge,n,'...  \n",
       "24                                         lam(v1,v1)  \n",
       "25  lam(v1,lam(v2,merge(b1:drs([b1:[]:x1],[b1:[200...  \n",
       "26  lam(v1,b1:drs([],[b1:[2002]:pred(v1,official,n...  \n",
       "27  lam(v1,lam(v2,lam(v3,app(v2,lam(v4,merge(b1:dr...  \n",
       "28  lam(v1,lam(v2,merge(b1:drs([b1:[]:x1],[b1:[200...  \n",
       "29  lam(v1,b1:drs([],[b1:[2005]:named(v1,gutierrez...  \n",
       "30  lam(v1,lam(v2,lam(v3,app(v2,lam(v4,app(v1,lam(...  \n",
       "32  lam(v1,b1:drs([],[b1:[2008]:pred(v1,applicatio...  \n",
       "34  lam(v1,lam(v2,lam(v3,lam(v4,app(v3,lam(v5,app(...  \n",
       "36  lam(v1,b1:drs([],[b1:[2012]:named(v1,peru,geo,...  \n",
       "37  lam(v1,lam(v2,app(v1,lam(v3,merge(b1:drs([b1:[...  \n",
       "42  lam(v1,b1:drs([],[b1:[2018]:pred(v1,permission...  \n",
       "44  lam(v1,lam(v2,app(v1,lam(v3,merge(b1:drs([b1:[...  \n",
       "46  lam(v1,b1:drs([],[b1:[2022]:named(v1,colombia,...  "
      ]
     },
     "execution_count": 25,
     "metadata": {},
     "output_type": "execute_result"
    }
   ],
   "source": [
    "X.head(30)"
   ]
  },
  {
   "cell_type": "code",
   "execution_count": 26,
   "metadata": {},
   "outputs": [
    {
     "data": {
      "text/plain": [
       "O        590495\n",
       "B-geo     42533\n",
       "B-org     23134\n",
       "B-tim     22603\n",
       "I-per     22211\n",
       "B-per     20861\n",
       "I-org     19331\n",
       "B-gpe     19104\n",
       "I-geo     12438\n",
       "I-tim      5481\n",
       "I-gpe       579\n",
       "B-art       409\n",
       "I-art       322\n",
       "B-eve       310\n",
       "I-eve       248\n",
       "B-nat       208\n",
       "I-nat        72\n",
       "Name: ner_tag, dtype: int64"
      ]
     },
     "execution_count": 26,
     "metadata": {},
     "output_type": "execute_result"
    }
   ],
   "source": [
    "X.ner_tag.value_counts()"
   ]
  },
  {
   "cell_type": "code",
   "execution_count": 27,
   "metadata": {},
   "outputs": [
    {
     "data": {
      "text/plain": [
       "17"
      ]
     },
     "execution_count": 27,
     "metadata": {},
     "output_type": "execute_result"
    }
   ],
   "source": [
    "X.ner_tag.nunique()"
   ]
  },
  {
   "cell_type": "markdown",
   "metadata": {},
   "source": [
    "The approach proposed in the article mentioned above is divided into three steps:\n",
    "- Data preparation;\n",
    "- Parameter estimation (or training);\n",
    "- Usage of parameters estimated (or testing)."
   ]
  },
  {
   "cell_type": "markdown",
   "metadata": {},
   "source": [
    "## Step 1: Data preparation"
   ]
  },
  {
   "cell_type": "code",
   "execution_count": 28,
   "metadata": {},
   "outputs": [],
   "source": [
    "X, y = SentenceExtractor().fit_transform(X)"
   ]
  },
  {
   "cell_type": "code",
   "execution_count": 29,
   "metadata": {},
   "outputs": [],
   "source": [
    "lemma_sentence_lenghts = list(map(len, X))"
   ]
  },
  {
   "cell_type": "code",
   "execution_count": 30,
   "metadata": {},
   "outputs": [],
   "source": [
    "tag_sentence_lenghts = list(map(len, y))"
   ]
  },
  {
   "cell_type": "code",
   "execution_count": 31,
   "metadata": {},
   "outputs": [
    {
     "data": {
      "text/plain": [
       "61"
      ]
     },
     "execution_count": 31,
     "metadata": {},
     "output_type": "execute_result"
    }
   ],
   "source": [
    "max(lemma_sentence_lenghts)"
   ]
  },
  {
   "cell_type": "code",
   "execution_count": 32,
   "metadata": {},
   "outputs": [
    {
     "data": {
      "text/plain": [
       "61"
      ]
     },
     "execution_count": 32,
     "metadata": {},
     "output_type": "execute_result"
    }
   ],
   "source": [
    "max(tag_sentence_lenghts)"
   ]
  },
  {
   "cell_type": "code",
   "execution_count": 33,
   "metadata": {},
   "outputs": [
    {
     "data": {
      "text/plain": [
       "True"
      ]
     },
     "execution_count": 33,
     "metadata": {},
     "output_type": "execute_result"
    }
   ],
   "source": [
    "all(len_lemmas == len_tags for len_lemmas, len_tags in zip(lemma_sentence_lenghts, tag_sentence_lenghts))"
   ]
  },
  {
   "cell_type": "code",
   "execution_count": 34,
   "metadata": {},
   "outputs": [],
   "source": [
    "X_train, X_test, y_train, y_test = train_test_split(X, y, test_size=0.33, random_state=42)"
   ]
  },
  {
   "cell_type": "markdown",
   "metadata": {},
   "source": [
    "## Step 2: HMM Parameter Estimation"
   ]
  },
  {
   "cell_type": "markdown",
   "metadata": {},
   "source": [
    "### Step 2.1: Find states."
   ]
  },
  {
   "cell_type": "code",
   "execution_count": 96,
   "metadata": {},
   "outputs": [],
   "source": [
    "states = list(set([tag for sentence in y_train for tag in sentence]))\n",
    "tag2idx = {t: i for i, t in enumerate(states)}\n",
    "idx2tag = {i: w for w, i in tag2idx.items()}"
   ]
  },
  {
   "cell_type": "code",
   "execution_count": 97,
   "metadata": {},
   "outputs": [
    {
     "data": {
      "text/plain": [
       "17"
      ]
     },
     "execution_count": 97,
     "metadata": {},
     "output_type": "execute_result"
    }
   ],
   "source": [
    "len(states)"
   ]
  },
  {
   "cell_type": "code",
   "execution_count": 98,
   "metadata": {},
   "outputs": [
    {
     "data": {
      "text/plain": [
       "['I-per',\n",
       " 'I-eve',\n",
       " 'I-gpe',\n",
       " 'B-art',\n",
       " 'B-tim',\n",
       " 'B-nat',\n",
       " 'B-gpe',\n",
       " 'I-tim',\n",
       " 'O',\n",
       " 'B-org',\n",
       " 'I-geo',\n",
       " 'B-eve',\n",
       " 'I-art',\n",
       " 'B-geo',\n",
       " 'I-nat',\n",
       " 'I-org',\n",
       " 'B-per']"
      ]
     },
     "execution_count": 98,
     "metadata": {},
     "output_type": "execute_result"
    }
   ],
   "source": [
    "states"
   ]
  },
  {
   "cell_type": "markdown",
   "metadata": {},
   "source": [
    "### Step 2.2: Calculate Start probability (π)"
   ]
  },
  {
   "cell_type": "code",
   "execution_count": 99,
   "metadata": {},
   "outputs": [],
   "source": [
    "pi = np.zeros(len(states))"
   ]
  },
  {
   "cell_type": "code",
   "execution_count": 100,
   "metadata": {},
   "outputs": [],
   "source": [
    "for sentence in y_train:\n",
    "    if len(sentence) > 0:\n",
    "        pi[tag2idx[sentence[0]]] += 1"
   ]
  },
  {
   "cell_type": "code",
   "execution_count": 101,
   "metadata": {
    "scrolled": true
   },
   "outputs": [],
   "source": [
    "pi = pi / len(y_train)"
   ]
  },
  {
   "cell_type": "markdown",
   "metadata": {},
   "source": [
    "### Step 2.3: Calculate transition probability (A)"
   ]
  },
  {
   "cell_type": "code",
   "execution_count": 102,
   "metadata": {},
   "outputs": [],
   "source": [
    "A = np.zeros((len(states), len(states)))\n",
    "A_i = np.zeros(len(states))"
   ]
  },
  {
   "cell_type": "code",
   "execution_count": 103,
   "metadata": {},
   "outputs": [],
   "source": [
    "for i in range(len(y_train)):\n",
    "    if len(y_train[i]) > 1:\n",
    "        for j in range(len(y_train[i]) - 1):\n",
    "            A[tag2idx[y_train[i][j]]][tag2idx[y_train[i][j + 1]]] += 1\n",
    "            A_i[tag2idx[y_train[i][j]]] += 1\n",
    "        A_i[tag2idx[y_train[i][len(y_train[i]) - 1]]] += 1\n",
    "for i in range(len(states)):\n",
    "    A[i] = A[i] / A_i[i]"
   ]
  },
  {
   "cell_type": "code",
   "execution_count": 104,
   "metadata": {},
   "outputs": [
    {
     "data": {
      "image/png": "[encoded data removed]",
      "text/plain": [
       "<Figure size 1440x864 with 2 Axes>"
      ]
     },
     "metadata": {
      "needs_background": "light"
     },
     "output_type": "display_data"
    }
   ],
   "source": [
    "plt.figure(figsize=(20, 12))\n",
    "sns.heatmap(A, annot=True, xticklabels=states, yticklabels=states, fmt='.2g')\n",
    "plt.tight_layout()\n",
    "plt.show()"
   ]
  },
  {
   "cell_type": "markdown",
   "metadata": {},
   "source": [
    "### Step 2.4: Calculate emission probability (B)"
   ]
  },
  {
   "cell_type": "code",
   "execution_count": 105,
   "metadata": {},
   "outputs": [],
   "source": [
    "words = list(set([word for sentence in X_train for word in sentence]))\n",
    "words.append('unknown_word')\n",
    "word2idx = {t: i for i, t in enumerate(words)}\n",
    "idx2word = {i: w for w, i in word2idx.items()}"
   ]
  },
  {
   "cell_type": "code",
   "execution_count": 106,
   "metadata": {},
   "outputs": [
    {
     "data": {
      "text/plain": [
       "22896"
      ]
     },
     "execution_count": 106,
     "metadata": {},
     "output_type": "execute_result"
    }
   ],
   "source": [
    "len(words)"
   ]
  },
  {
   "cell_type": "code",
   "execution_count": 107,
   "metadata": {},
   "outputs": [],
   "source": [
    "B = np.zeros((len(words), len(states)))\n",
    "B_i = np.zeros(len(states))"
   ]
  },
  {
   "cell_type": "code",
   "execution_count": 108,
   "metadata": {},
   "outputs": [],
   "source": [
    "for i in range(len(X_train)):\n",
    "    if len(X_train[i]) > 0:\n",
    "        for j in range(len(X_train[i])):\n",
    "            B[\n",
    "                word2idx[\n",
    "                    X_train[i][j]\n",
    "                ]\n",
    "            ][\n",
    "                tag2idx[\n",
    "                    y_train[i][j]\n",
    "                ]\n",
    "            ] += 1\n",
    "            B_i[tag2idx[y_train[i][j]]] += 1\n",
    "for i in range(len(states)):\n",
    "    B[:, i] = B[:, i] / B_i[i]"
   ]
  },
  {
   "cell_type": "code",
   "execution_count": 109,
   "metadata": {},
   "outputs": [
    {
     "data": {
      "text/plain": [
       "(17,)"
      ]
     },
     "execution_count": 109,
     "metadata": {},
     "output_type": "execute_result"
    }
   ],
   "source": [
    "np.shape(pi)"
   ]
  },
  {
   "cell_type": "code",
   "execution_count": 110,
   "metadata": {},
   "outputs": [
    {
     "data": {
      "text/plain": [
       "(17, 17)"
      ]
     },
     "execution_count": 110,
     "metadata": {},
     "output_type": "execute_result"
    }
   ],
   "source": [
    "np.shape(A)"
   ]
  },
  {
   "cell_type": "code",
   "execution_count": 111,
   "metadata": {},
   "outputs": [
    {
     "data": {
      "text/plain": [
       "(17, 22896)"
      ]
     },
     "execution_count": 111,
     "metadata": {},
     "output_type": "execute_result"
    }
   ],
   "source": [
    "np.shape(B.T)"
   ]
  },
  {
   "cell_type": "markdown",
   "metadata": {},
   "source": [
    "## Step 3: Testing"
   ]
  },
  {
   "cell_type": "markdown",
   "metadata": {},
   "source": [
    "### Step 3.1: Viterby implementation"
   ]
  },
  {
   "cell_type": "code",
   "execution_count": 123,
   "metadata": {},
   "outputs": [],
   "source": [
    "def viterbi(pi, A, B, obs):\n",
    "    nStates = np.shape(B)[0]\n",
    "    T = np.shape(obs)[0]\n",
    "    path = np.zeros(T)\n",
    "    delta = np.zeros((nStates, T))\n",
    "    phi = np.zeros((nStates, T))\n",
    "\n",
    "    try:\n",
    "        delta[:, 0] = pi * B[:, obs[0]]\n",
    "        phi[:, 0] = 0\n",
    "    except:\n",
    "        print('\\t', len(obs))\n",
    "\n",
    "    for t in range(1, T):\n",
    "        for s in range(nStates):\n",
    "            delta[s, t] = np.max(delta[:, t - 1] * A[:, s]) * B[s, obs[t]]\n",
    "            phi[s, t] = np.argmax(delta[:, t - 1] * A[:, s])\n",
    "\n",
    "    path[T - 1] = np.argmax(delta[:, T - 1])\n",
    "    for t in range(T - 2, -1, -1):\n",
    "        #path[t] = phi[int(path[t+1]): int(t+1) , int(t+1)]\n",
    "        path[t] = phi[int(path[t + 1]) , int(t + 1)]\n",
    "\n",
    "    return path, delta, phi"
   ]
  },
  {
   "cell_type": "code",
   "execution_count": 113,
   "metadata": {},
   "outputs": [],
   "source": [
    "X_test_num = [[word2idx[word] if word in word2idx else word2idx['unknown_word'] for word in sentence] for sentence in X_test]"
   ]
  },
  {
   "cell_type": "code",
   "execution_count": 128,
   "metadata": {},
   "outputs": [],
   "source": [
    "X_test_num = [sentence for sentence in X_test_num if len(sentence) > 0]"
   ]
  },
  {
   "cell_type": "code",
   "execution_count": 144,
   "metadata": {},
   "outputs": [],
   "source": [
    "y_test = [sentence.tolist() for sentence in y_test if len(sentence) > 0]"
   ]
  },
  {
   "cell_type": "code",
   "execution_count": 133,
   "metadata": {},
   "outputs": [],
   "source": [
    "y_pred = []\n",
    "for sentence in X_test_num:\n",
    "    path, _, _ = viterbi(pi, A, B.T, sentence)\n",
    "    y_pred.append([idx2tag[step] for step in path])"
   ]
  },
  {
   "cell_type": "code",
   "execution_count": 134,
   "metadata": {},
   "outputs": [
    {
     "name": "stdout",
     "output_type": "stream",
     "text": [
      "              precision    recall  f1-score   support\n",
      "\n",
      "       B-art       0.33      0.21      0.25       146\n",
      "       B-eve       0.18      0.16      0.17       116\n",
      "       B-geo       0.74      0.58      0.65     13941\n",
      "       B-gpe       0.62      0.63      0.62      6329\n",
      "       B-nat       0.30      0.29      0.30        78\n",
      "       B-org       0.75      0.51      0.61      7629\n",
      "       B-per       0.69      0.70      0.70      6861\n",
      "       B-tim       0.92      0.66      0.77      7456\n",
      "       I-art       0.15      0.12      0.13       119\n",
      "       I-eve       0.18      0.22      0.20        98\n",
      "       I-geo       0.69      0.62      0.65      3999\n",
      "       I-gpe       0.45      0.44      0.45       172\n",
      "       I-nat       0.25      0.65      0.36        26\n",
      "       I-org       0.66      0.49      0.56      6375\n",
      "       I-per       0.14      0.94      0.24      7271\n",
      "       I-tim       0.79      0.53      0.64      1846\n",
      "           O       0.97      0.79      0.87    175612\n",
      "\n",
      "   micro avg       0.75      0.75      0.75    238074\n",
      "   macro avg       0.52      0.50      0.48    238074\n",
      "weighted avg       0.89      0.75      0.80    238074\n",
      "\n"
     ]
    }
   ],
   "source": [
    "crfsuite_report = crfsuite_classification_report(y_pred=y_pred, y_true=y_test)\n",
    "print(crfsuite_report)"
   ]
  },
  {
   "cell_type": "code",
   "execution_count": 146,
   "metadata": {},
   "outputs": [
    {
     "name": "stdout",
     "output_type": "stream",
     "text": [
      "             precision    recall  f1-score   support\n",
      "\n",
      "        geo       0.71      0.56      0.62     13941\n",
      "        per       0.42      0.53      0.47      6861\n",
      "        tim       0.88      0.63      0.74      7456\n",
      "        org       0.64      0.44      0.52      7629\n",
      "        gpe       0.62      0.63      0.62      6329\n",
      "        art       0.27      0.17      0.21       146\n",
      "        eve       0.17      0.15      0.16       116\n",
      "        nat       0.28      0.27      0.27        78\n",
      "\n",
      "avg / total       0.66      0.55      0.60     42556\n",
      "\n"
     ]
    }
   ],
   "source": [
    "seqeval_report = seqeval_classification_report(y_pred=y_pred, y_true=y_test)\n",
    "print(seqeval_report)"
   ]
  },
  {
   "cell_type": "markdown",
   "metadata": {},
   "source": [
    "# CRF"
   ]
  },
  {
   "cell_type": "code",
   "execution_count": null,
   "metadata": {},
   "outputs": [],
   "source": [
    "target_subcorpus_folders = filter_by_subcorpus('../data/datasets/gmb-2.2.0/', 'subcorpus: Voice of America')"
   ]
  },
  {
   "cell_type": "code",
   "execution_count": null,
   "metadata": {},
   "outputs": [],
   "source": [
    "X = get_tagged_texts_as_pd(target_subcorpus_folders, '../data/datasets/gmb-2.2.0/')"
   ]
  },
  {
   "cell_type": "code",
   "execution_count": null,
   "metadata": {},
   "outputs": [],
   "source": [
    "X.ner_tag.value_counts()"
   ]
  },
  {
   "cell_type": "code",
   "execution_count": null,
   "metadata": {},
   "outputs": [],
   "source": [
    "X = filtrations(X, with_dots=True)"
   ]
  },
  {
   "cell_type": "code",
   "execution_count": null,
   "metadata": {},
   "outputs": [],
   "source": [
    "X.ner_tag.value_counts()"
   ]
  },
  {
   "cell_type": "code",
   "execution_count": null,
   "metadata": {},
   "outputs": [],
   "source": [
    "X = additional_features(X)"
   ]
  },
  {
   "cell_type": "code",
   "execution_count": null,
   "metadata": {},
   "outputs": [],
   "source": [
    "X.info()"
   ]
  },
  {
   "cell_type": "code",
   "execution_count": null,
   "metadata": {},
   "outputs": [],
   "source": [
    "X, y = crf_filtration_and_pre_processing(X)"
   ]
  },
  {
   "cell_type": "code",
   "execution_count": null,
   "metadata": {},
   "outputs": [],
   "source": [
    "X_train, X_test, y_train, y_test = train_test_split(X, y, test_size=0.33, random_state=42)"
   ]
  },
  {
   "cell_type": "code",
   "execution_count": null,
   "metadata": {},
   "outputs": [],
   "source": [
    "estimator = sklearn_crf(algorithm='lbfgs', c1=0.1, c2=0.1, max_iterations=100, all_possible_transitions=False)"
   ]
  },
  {
   "cell_type": "code",
   "execution_count": null,
   "metadata": {},
   "outputs": [],
   "source": [
    "scores = cross_val_score(estimator, X_train, y_train, cv=5, verbose=True, n_jobs=-1)"
   ]
  },
  {
   "cell_type": "code",
   "execution_count": null,
   "metadata": {},
   "outputs": [],
   "source": [
    "scores"
   ]
  },
  {
   "cell_type": "code",
   "execution_count": null,
   "metadata": {},
   "outputs": [],
   "source": [
    "estimator.fit(X_train, y_train)"
   ]
  },
  {
   "cell_type": "code",
   "execution_count": null,
   "metadata": {},
   "outputs": [],
   "source": [
    "report = crfsuite_classification_report(y_pred=estimator.predict(X_test), y_true=y_test)\n",
    "print(report)"
   ]
  },
  {
   "cell_type": "markdown",
   "metadata": {},
   "source": [
    "# Bi-LSTM"
   ]
  },
  {
   "cell_type": "code",
   "execution_count": null,
   "metadata": {
    "scrolled": true
   },
   "outputs": [],
   "source": [
    "target_subcorpus_folders = filter_by_subcorpus('../data/datasets/gmb-2.2.0/', 'subcorpus: Voice of America')"
   ]
  },
  {
   "cell_type": "code",
   "execution_count": null,
   "metadata": {},
   "outputs": [],
   "source": [
    "X = get_tagged_texts_as_pd(target_subcorpus_folders, '../data/datasets/gmb-2.2.0/')"
   ]
  },
  {
   "cell_type": "code",
   "execution_count": null,
   "metadata": {
    "scrolled": false
   },
   "outputs": [],
   "source": [
    "X.head(30)"
   ]
  },
  {
   "cell_type": "code",
   "execution_count": null,
   "metadata": {},
   "outputs": [],
   "source": [
    "X.ner_tag.value_counts()"
   ]
  },
  {
   "cell_type": "code",
   "execution_count": null,
   "metadata": {},
   "outputs": [],
   "source": [
    "X = filtrations(X, with_dots=True)"
   ]
  },
  {
   "cell_type": "code",
   "execution_count": null,
   "metadata": {},
   "outputs": [],
   "source": [
    "X.ner_tag.value_counts()"
   ]
  },
  {
   "cell_type": "code",
   "execution_count": null,
   "metadata": {},
   "outputs": [],
   "source": [
    "X.ner_tag.nunique()"
   ]
  },
  {
   "cell_type": "code",
   "execution_count": null,
   "metadata": {},
   "outputs": [],
   "source": [
    "X, y = SentenceExtractor().fit_transform(X)"
   ]
  },
  {
   "cell_type": "code",
   "execution_count": null,
   "metadata": {},
   "outputs": [],
   "source": [
    "X_train, X_test, y_train, y_test = train_test_split(X, y, test_size=0.33, random_state=42)"
   ]
  },
  {
   "cell_type": "code",
   "execution_count": null,
   "metadata": {},
   "outputs": [],
   "source": [
    "estimator = BiLSTMTagger(checkpoint_dir='../data/datasets/keras_model/')"
   ]
  },
  {
   "cell_type": "code",
   "execution_count": null,
   "metadata": {
    "scrolled": false
   },
   "outputs": [],
   "source": [
    "estimator.fit(X_train, y_train)"
   ]
  },
  {
   "cell_type": "code",
   "execution_count": null,
   "metadata": {},
   "outputs": [],
   "source": [
    "y_pred = estimator.predict(X_test)"
   ]
  },
  {
   "cell_type": "code",
   "execution_count": null,
   "metadata": {},
   "outputs": [],
   "source": [
    "y_test = [[estimator.tag2idx[w] for w in s] for s in y_test]\n",
    "y_test = pad_sequences(maxlen=75, sequences=y_test, padding=\"post\", value=estimator.tag2idx[\"O\"])\n",
    "y_test = [[estimator.idx2tag[w] for w in s] for s in y_test]"
   ]
  },
  {
   "cell_type": "code",
   "execution_count": null,
   "metadata": {},
   "outputs": [],
   "source": [
    "crfsuite_report = crfsuite_classification_report(y_pred=y_pred, y_true=y_test)\n",
    "print(crfsuite_report)"
   ]
  },
  {
   "cell_type": "code",
   "execution_count": null,
   "metadata": {},
   "outputs": [],
   "source": [
    "seqeval_report = seqeval_classification_report(y_pred=y_pred, y_true=y_test)\n",
    "print(seqeval_report)"
   ]
  },
  {
   "cell_type": "markdown",
   "metadata": {
    "heading_collapsed": true
   },
   "source": [
    "# Conclusion"
   ]
  },
  {
   "cell_type": "code",
   "execution_count": null,
   "metadata": {
    "hidden": true
   },
   "outputs": [],
   "source": []
  }
 ],
 "metadata": {
  "hide_input": false,
  "kernelspec": {
   "display_name": "NLP",
   "language": "python",
   "name": "nlp"
  },
  "language_info": {
   "codemirror_mode": {
    "name": "ipython",
    "version": 3
   },
   "file_extension": ".py",
   "mimetype": "text/x-python",
   "name": "python",
   "nbconvert_exporter": "python",
   "pygments_lexer": "ipython3",
   "version": "3.6.5"
  },
  "toc": {
   "base_numbering": 1,
   "nav_menu": {},
   "number_sections": true,
   "sideBar": true,
   "skip_h1_title": false,
   "title_cell": "Table of Contents",
   "title_sidebar": "Contents",
   "toc_cell": false,
   "toc_position": {
    "height": "calc(100% - 180px)",
    "left": "10px",
    "top": "150px",
    "width": "384px"
   },
   "toc_section_display": true,
   "toc_window_display": true
  }
 },
 "nbformat": 4,
 "nbformat_minor": 1
}
