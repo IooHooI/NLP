{
 "cells": [
  {
   "cell_type": "markdown",
   "metadata": {
    "collapsed": true
   },
   "source": [
    "# All imports necessary"
   ]
  },
  {
   "cell_type": "code",
   "execution_count": 1,
   "metadata": {},
   "outputs": [],
   "source": [
    "import warnings\n",
    "warnings.filterwarnings(\"ignore\")"
   ]
  },
  {
   "cell_type": "code",
   "execution_count": 2,
   "metadata": {},
   "outputs": [],
   "source": [
    "import sys"
   ]
  },
  {
   "cell_type": "code",
   "execution_count": 3,
   "metadata": {},
   "outputs": [],
   "source": [
    "sys.path.append('..')"
   ]
  },
  {
   "cell_type": "code",
   "execution_count": 4,
   "metadata": {},
   "outputs": [],
   "source": [
    "import os"
   ]
  },
  {
   "cell_type": "code",
   "execution_count": 5,
   "metadata": {},
   "outputs": [],
   "source": [
    "import numpy as np"
   ]
  },
  {
   "cell_type": "code",
   "execution_count": 7,
   "metadata": {},
   "outputs": [],
   "source": [
    "import pandas as pd"
   ]
  },
  {
   "cell_type": "code",
   "execution_count": 6,
   "metadata": {},
   "outputs": [
    {
     "name": "stderr",
     "output_type": "stream",
     "text": [
      "Using TensorFlow backend.\n"
     ]
    }
   ],
   "source": [
    "from source.code.utils.utils import filter_by_subcorpus\n",
    "from source.code.utils.utils import get_tagged_texts_as_pd\n",
    "\n",
    "from source.code.transformers.sentenceextractor import SentenceExtractor\n",
    "from source.code.models.memorytagger import MemoryTagger\n",
    "from source.code.models.bilstmtagger import BiLSTMTagger\n",
    "\n",
    "from source.code.utils.preprocessing import filtrations\n",
    "from source.code.utils.preprocessing import additional_features\n",
    "from source.code.utils.preprocessing import crf_pre_processing"
   ]
  },
  {
   "cell_type": "code",
   "execution_count": 8,
   "metadata": {},
   "outputs": [],
   "source": [
    "from sklearn_crfsuite.metrics import flat_classification_report as crfsuite_classification_report\n",
    "\n",
    "from sklearn_crfsuite import metrics\n",
    "\n",
    "from sklearn_crfsuite import CRF as sklearn_crf"
   ]
  },
  {
   "cell_type": "code",
   "execution_count": 9,
   "metadata": {},
   "outputs": [],
   "source": [
    "from seqeval.metrics import classification_report as seqeval_classification_report"
   ]
  },
  {
   "cell_type": "code",
   "execution_count": 11,
   "metadata": {},
   "outputs": [],
   "source": [
    "from sklearn.metrics import classification_report as sklearn_classification_report\n",
    "\n",
    "from sklearn.ensemble import RandomForestClassifier\n",
    "\n",
    "from sklearn.model_selection import train_test_split\n",
    "\n",
    "from sklearn.model_selection import cross_val_score"
   ]
  },
  {
   "cell_type": "code",
   "execution_count": 10,
   "metadata": {},
   "outputs": [],
   "source": [
    "from keras.preprocessing.sequence import pad_sequences"
   ]
  },
  {
   "cell_type": "code",
   "execution_count": 12,
   "metadata": {},
   "outputs": [],
   "source": [
    "import seaborn as sns"
   ]
  },
  {
   "cell_type": "code",
   "execution_count": 15,
   "metadata": {},
   "outputs": [],
   "source": [
    "import matplotlib.pyplot as plt"
   ]
  },
  {
   "cell_type": "code",
   "execution_count": 14,
   "metadata": {},
   "outputs": [],
   "source": [
    "sns.set(color_codes=True)"
   ]
  },
  {
   "cell_type": "code",
   "execution_count": 13,
   "metadata": {},
   "outputs": [],
   "source": [
    "sns.set(font_scale=2)"
   ]
  },
  {
   "cell_type": "code",
   "execution_count": 16,
   "metadata": {},
   "outputs": [],
   "source": [
    "%matplotlib inline"
   ]
  },
  {
   "cell_type": "code",
   "execution_count": 17,
   "metadata": {},
   "outputs": [],
   "source": [
    "features = ['semantic_relation_tagged', 'animacy_tagged', 'lambda_dsr_len', 'word_sense_exists', 'is_title', 'contains_digits', 'word_len']\n",
    "target = 'ner_tag'"
   ]
  },
  {
   "cell_type": "code",
   "execution_count": 18,
   "metadata": {},
   "outputs": [],
   "source": [
    "pd.set_option('display.max_rows', 30000)"
   ]
  },
  {
   "cell_type": "markdown",
   "metadata": {},
   "source": [
    "# Naive tag frequency memorization"
   ]
  },
  {
   "cell_type": "markdown",
   "metadata": {},
   "source": [
    "## Data reading"
   ]
  },
  {
   "cell_type": "code",
   "execution_count": 19,
   "metadata": {},
   "outputs": [
    {
     "data": {
      "application/vnd.jupyter.widget-view+json": {
       "model_id": "6a06bf2ff5f446498b1fe0295fafb9b5",
       "version_major": 2,
       "version_minor": 0
      },
      "text/plain": [
       "HBox(children=(IntProgress(value=0, description='Read folders: '), HTML(value='')))"
      ]
     },
     "metadata": {},
     "output_type": "display_data"
    },
    {
     "name": "stdout",
     "output_type": "stream",
     "text": [
      "\n"
     ]
    },
    {
     "data": {
      "application/vnd.jupyter.widget-view+json": {
       "model_id": "a2388cffd0124e52a6fdb6b2132753ae",
       "version_major": 2,
       "version_minor": 0
      },
      "text/plain": [
       "HBox(children=(IntProgress(value=0, description='Filter folders: ', max=10000), HTML(value='')))"
      ]
     },
     "metadata": {},
     "output_type": "display_data"
    },
    {
     "name": "stdout",
     "output_type": "stream",
     "text": [
      "\n"
     ]
    }
   ],
   "source": [
    "target_subcorpus_folders = filter_by_subcorpus('../data/datasets/gmb-2.2.0/', 'subcorpus: Voice of America')"
   ]
  },
  {
   "cell_type": "code",
   "execution_count": 20,
   "metadata": {},
   "outputs": [],
   "source": [
    "X = get_tagged_texts_as_pd(target_subcorpus_folders, '../data/datasets/gmb-2.2.0/')"
   ]
  },
  {
   "cell_type": "code",
   "execution_count": 21,
   "metadata": {},
   "outputs": [
    {
     "data": {
      "text/plain": [
       "O          1032479\n",
       "geo-nam      55480\n",
       "org-nam      44646\n",
       "per-nam      22931\n",
       "gpe-nam      19685\n",
       "tim-dow      11398\n",
       "tim-dat      10929\n",
       "per-tit       9672\n",
       "per-fam       8098\n",
       "[]            4064\n",
       "tim-moy       3811\n",
       "tim-yoc       3009\n",
       "per-giv       2376\n",
       "tim-clo        810\n",
       "art-nam        789\n",
       "eve-nam        514\n",
       "nat-nam        280\n",
       "tim-nam        132\n",
       "eve-ord         63\n",
       "per-ini         55\n",
       "per-ord         35\n",
       "org-leg         13\n",
       "tim-dom          8\n",
       "per-mid          1\n",
       "art-add          1\n",
       "Name: ner_tag, dtype: int64"
      ]
     },
     "execution_count": 21,
     "metadata": {},
     "output_type": "execute_result"
    }
   ],
   "source": [
    "X.ner_tag.value_counts()"
   ]
  },
  {
   "cell_type": "code",
   "execution_count": 22,
   "metadata": {},
   "outputs": [
    {
     "data": {
      "application/vnd.jupyter.widget-view+json": {
       "model_id": "7aa46e901f5f422f8ac27d9a74a671cf",
       "version_major": 2,
       "version_minor": 0
      },
      "text/plain": [
       "HBox(children=(IntProgress(value=0, description='Punctuation with dots: ', max=1231279), HTML(value='')))"
      ]
     },
     "metadata": {},
     "output_type": "display_data"
    },
    {
     "name": "stdout",
     "output_type": "stream",
     "text": [
      "\n"
     ]
    },
    {
     "data": {
      "application/vnd.jupyter.widget-view+json": {
       "model_id": "aca70b5c91934178a0b45f40334391c3",
       "version_major": 2,
       "version_minor": 0
      },
      "text/plain": [
       "HBox(children=(IntProgress(value=0, description='Target tags: ', max=723600), HTML(value='')))"
      ]
     },
     "metadata": {},
     "output_type": "display_data"
    },
    {
     "name": "stdout",
     "output_type": "stream",
     "text": [
      "\n"
     ]
    },
    {
     "data": {
      "application/vnd.jupyter.widget-view+json": {
       "model_id": "bb5c5f9f307541358075c243bb0fd311",
       "version_major": 2,
       "version_minor": 0
      },
      "text/plain": [
       "HBox(children=(IntProgress(value=0, description='IOB to BIO: ', max=723600), HTML(value='')))"
      ]
     },
     "metadata": {},
     "output_type": "display_data"
    },
    {
     "name": "stdout",
     "output_type": "stream",
     "text": [
      "\n"
     ]
    }
   ],
   "source": [
    "X = filtrations(X)"
   ]
  },
  {
   "cell_type": "code",
   "execution_count": 23,
   "metadata": {},
   "outputs": [
    {
     "data": {
      "text/plain": [
       "O        533756\n",
       "B-geo     41791\n",
       "B-org     22916\n",
       "B-tim     22481\n",
       "I-per     22429\n",
       "B-per     20643\n",
       "I-org     19549\n",
       "B-gpe     19077\n",
       "I-geo     13180\n",
       "I-tim      5603\n",
       "I-gpe       606\n",
       "B-art       407\n",
       "I-art       324\n",
       "B-eve       310\n",
       "I-eve       248\n",
       "B-nat       208\n",
       "I-nat        72\n",
       "Name: ner_tag, dtype: int64"
      ]
     },
     "execution_count": 23,
     "metadata": {},
     "output_type": "execute_result"
    }
   ],
   "source": [
    "X.ner_tag.value_counts()"
   ]
  },
  {
   "cell_type": "code",
   "execution_count": 24,
   "metadata": {},
   "outputs": [
    {
     "data": {
      "application/vnd.jupyter.widget-view+json": {
       "model_id": "6dba2f0200b84343b093c516752d6113",
       "version_major": 2,
       "version_minor": 0
      },
      "text/plain": [
       "HBox(children=(IntProgress(value=0, description='Semantic relation: ', max=723600), HTML(value='')))"
      ]
     },
     "metadata": {},
     "output_type": "display_data"
    },
    {
     "name": "stdout",
     "output_type": "stream",
     "text": [
      "\n"
     ]
    },
    {
     "data": {
      "application/vnd.jupyter.widget-view+json": {
       "model_id": "0654fdfc2fcf46b8a1087eb8235588c0",
       "version_major": 2,
       "version_minor": 0
      },
      "text/plain": [
       "HBox(children=(IntProgress(value=0, description='Animacy tagged: ', max=723600), HTML(value='')))"
      ]
     },
     "metadata": {},
     "output_type": "display_data"
    },
    {
     "name": "stdout",
     "output_type": "stream",
     "text": [
      "\n"
     ]
    },
    {
     "data": {
      "application/vnd.jupyter.widget-view+json": {
       "model_id": "2bea6bdf78034c10b9b78bed4c085cf8",
       "version_major": 2,
       "version_minor": 0
      },
      "text/plain": [
       "HBox(children=(IntProgress(value=0, description='Lambda-DSR len: ', max=723600), HTML(value='')))"
      ]
     },
     "metadata": {},
     "output_type": "display_data"
    },
    {
     "name": "stdout",
     "output_type": "stream",
     "text": [
      "\n"
     ]
    },
    {
     "data": {
      "application/vnd.jupyter.widget-view+json": {
       "model_id": "0a90d091f8194ba3b5145826959c1a00",
       "version_major": 2,
       "version_minor": 0
      },
      "text/plain": [
       "HBox(children=(IntProgress(value=0, description='Word sense: ', max=723600), HTML(value='')))"
      ]
     },
     "metadata": {},
     "output_type": "display_data"
    },
    {
     "name": "stdout",
     "output_type": "stream",
     "text": [
      "\n"
     ]
    },
    {
     "data": {
      "application/vnd.jupyter.widget-view+json": {
       "model_id": "4891d054864f4256a0f229589e16dba7",
       "version_major": 2,
       "version_minor": 0
      },
      "text/plain": [
       "HBox(children=(IntProgress(value=0, description='Is title: ', max=723600), HTML(value='')))"
      ]
     },
     "metadata": {},
     "output_type": "display_data"
    },
    {
     "name": "stdout",
     "output_type": "stream",
     "text": [
      "\n"
     ]
    },
    {
     "data": {
      "application/vnd.jupyter.widget-view+json": {
       "model_id": "6a65436592ce4c37a007284d10578bba",
       "version_major": 2,
       "version_minor": 0
      },
      "text/plain": [
       "HBox(children=(IntProgress(value=0, description='Contains digits: ', max=723600), HTML(value='')))"
      ]
     },
     "metadata": {},
     "output_type": "display_data"
    },
    {
     "name": "stdout",
     "output_type": "stream",
     "text": [
      "\n"
     ]
    },
    {
     "data": {
      "application/vnd.jupyter.widget-view+json": {
       "model_id": "faefac5b75f04eb0987a36e502c163cc",
       "version_major": 2,
       "version_minor": 0
      },
      "text/plain": [
       "HBox(children=(IntProgress(value=0, description='Word len: ', max=723600), HTML(value='')))"
      ]
     },
     "metadata": {},
     "output_type": "display_data"
    },
    {
     "name": "stdout",
     "output_type": "stream",
     "text": [
      "\n"
     ]
    }
   ],
   "source": [
    "X = additional_features(X)"
   ]
  },
  {
   "cell_type": "code",
   "execution_count": 25,
   "metadata": {},
   "outputs": [
    {
     "name": "stdout",
     "output_type": "stream",
     "text": [
      "<class 'pandas.core.frame.DataFrame'>\n",
      "Int64Index: 723600 entries, 0 to 1231277\n",
      "Data columns (total 17 columns):\n",
      "token                       723600 non-null object\n",
      "pos_tag                     723600 non-null object\n",
      "lemma                       723600 non-null object\n",
      "ner_tag                     723600 non-null object\n",
      "word_net_sense_number       723600 non-null object\n",
      "verb_net_roles              723600 non-null object\n",
      "semantic_relation           723600 non-null object\n",
      "animacy_tag                 723600 non-null object\n",
      "super_tag                   723600 non-null object\n",
      "lambda_dsr                  723600 non-null object\n",
      "semantic_relation_tagged    723600 non-null int64\n",
      "animacy_tagged              723600 non-null int64\n",
      "lambda_dsr_len              723600 non-null int64\n",
      "word_sense_exists           723600 non-null int64\n",
      "is_title                    723600 non-null int64\n",
      "contains_digits             723600 non-null int64\n",
      "word_len                    723600 non-null int64\n",
      "dtypes: int64(7), object(10)\n",
      "memory usage: 99.4+ MB\n"
     ]
    }
   ],
   "source": [
    "X.info()"
   ]
  },
  {
   "cell_type": "code",
   "execution_count": 27,
   "metadata": {},
   "outputs": [],
   "source": [
    "X, y = X.token, X.ner_tag"
   ]
  },
  {
   "cell_type": "code",
   "execution_count": 28,
   "metadata": {},
   "outputs": [],
   "source": [
    "X_train, X_test, y_train, y_test = train_test_split(X, y, test_size=0.33, random_state=42, stratify=y)"
   ]
  },
  {
   "cell_type": "code",
   "execution_count": 29,
   "metadata": {},
   "outputs": [],
   "source": [
    "estimator = MemoryTagger()"
   ]
  },
  {
   "cell_type": "code",
   "execution_count": 30,
   "metadata": {},
   "outputs": [
    {
     "name": "stderr",
     "output_type": "stream",
     "text": [
      "[Parallel(n_jobs=-1)]: Using backend LokyBackend with 8 concurrent workers.\n",
      "[Parallel(n_jobs=-1)]: Done   2 out of   5 | elapsed:    5.6s remaining:    8.4s\n",
      "[Parallel(n_jobs=-1)]: Done   5 out of   5 | elapsed:    6.0s finished\n"
     ]
    }
   ],
   "source": [
    "scores = cross_val_score(estimator, X_train, y_train, cv=5, verbose=True, n_jobs=-1)"
   ]
  },
  {
   "cell_type": "code",
   "execution_count": 31,
   "metadata": {},
   "outputs": [
    {
     "data": {
      "text/plain": [
       "array([0.49129128, 0.50843342, 0.50845052, 0.50356955, 0.51533612])"
      ]
     },
     "execution_count": 31,
     "metadata": {},
     "output_type": "execute_result"
    }
   ],
   "source": [
    "scores"
   ]
  },
  {
   "cell_type": "code",
   "execution_count": 32,
   "metadata": {},
   "outputs": [],
   "source": [
    "estimator.fit(X_train, y_train)"
   ]
  },
  {
   "cell_type": "markdown",
   "metadata": {},
   "source": [
    "## Testing"
   ]
  },
  {
   "cell_type": "code",
   "execution_count": 33,
   "metadata": {},
   "outputs": [
    {
     "name": "stdout",
     "output_type": "stream",
     "text": [
      "              precision    recall  f1-score   support\n",
      "\n",
      "       B-art       0.42      0.16      0.24       134\n",
      "       B-eve       0.46      0.25      0.32       102\n",
      "       B-geo       0.72      0.85      0.78     13791\n",
      "       B-gpe       0.93      0.95      0.94      6295\n",
      "       B-nat       0.62      0.07      0.13        69\n",
      "       B-org       0.65      0.52      0.58      7562\n",
      "       B-per       0.76      0.66      0.71      6812\n",
      "       B-tim       0.88      0.79      0.83      7419\n",
      "       I-art       0.23      0.06      0.09       107\n",
      "       I-eve       0.31      0.12      0.18        82\n",
      "       I-geo       0.70      0.45      0.55      4349\n",
      "       I-gpe       0.60      0.17      0.27       200\n",
      "       I-nat       0.77      0.42      0.54        24\n",
      "       I-org       0.70      0.57      0.63      6451\n",
      "       I-per       0.72      0.68      0.70      7402\n",
      "       I-tim       0.58      0.16      0.25      1849\n",
      "           O       0.96      0.99      0.97    176140\n",
      "\n",
      "   micro avg       0.91      0.91      0.91    238788\n",
      "   macro avg       0.65      0.46      0.51    238788\n",
      "weighted avg       0.90      0.91      0.90    238788\n",
      "\n"
     ]
    }
   ],
   "source": [
    "sklearn_report = sklearn_classification_report(y_pred=estimator.predict(X_test), y_true=y_test)\n",
    "print(sklearn_report)"
   ]
  },
  {
   "cell_type": "markdown",
   "metadata": {},
   "source": [
    "# Random Forest Classifier"
   ]
  },
  {
   "cell_type": "markdown",
   "metadata": {},
   "source": [
    "## Data reading"
   ]
  },
  {
   "cell_type": "code",
   "execution_count": 34,
   "metadata": {},
   "outputs": [
    {
     "data": {
      "application/vnd.jupyter.widget-view+json": {
       "model_id": "8673db4cc43c41ec9e7f3963d7530446",
       "version_major": 2,
       "version_minor": 0
      },
      "text/plain": [
       "HBox(children=(IntProgress(value=0, description='Read folders: '), HTML(value='')))"
      ]
     },
     "metadata": {},
     "output_type": "display_data"
    },
    {
     "name": "stdout",
     "output_type": "stream",
     "text": [
      "\n"
     ]
    },
    {
     "data": {
      "application/vnd.jupyter.widget-view+json": {
       "model_id": "4ced2f5df3a841e9b9d36f6975cdbce7",
       "version_major": 2,
       "version_minor": 0
      },
      "text/plain": [
       "HBox(children=(IntProgress(value=0, description='Filter folders: ', max=10000), HTML(value='')))"
      ]
     },
     "metadata": {},
     "output_type": "display_data"
    },
    {
     "name": "stdout",
     "output_type": "stream",
     "text": [
      "\n"
     ]
    }
   ],
   "source": [
    "target_subcorpus_folders = filter_by_subcorpus('../data/datasets/gmb-2.2.0/', 'subcorpus: Voice of America')"
   ]
  },
  {
   "cell_type": "code",
   "execution_count": 121,
   "metadata": {},
   "outputs": [],
   "source": [
    "X = get_tagged_texts_as_pd(target_subcorpus_folders, '../data/datasets/gmb-2.2.0/')"
   ]
  },
  {
   "cell_type": "code",
   "execution_count": 36,
   "metadata": {},
   "outputs": [
    {
     "data": {
      "text/plain": [
       "O          1032479\n",
       "geo-nam      55480\n",
       "org-nam      44646\n",
       "per-nam      22931\n",
       "gpe-nam      19685\n",
       "tim-dow      11398\n",
       "tim-dat      10929\n",
       "per-tit       9672\n",
       "per-fam       8098\n",
       "[]            4064\n",
       "tim-moy       3811\n",
       "tim-yoc       3009\n",
       "per-giv       2376\n",
       "tim-clo        810\n",
       "art-nam        789\n",
       "eve-nam        514\n",
       "nat-nam        280\n",
       "tim-nam        132\n",
       "eve-ord         63\n",
       "per-ini         55\n",
       "per-ord         35\n",
       "org-leg         13\n",
       "tim-dom          8\n",
       "per-mid          1\n",
       "art-add          1\n",
       "Name: ner_tag, dtype: int64"
      ]
     },
     "execution_count": 36,
     "metadata": {},
     "output_type": "execute_result"
    }
   ],
   "source": [
    "X.ner_tag.value_counts()"
   ]
  },
  {
   "cell_type": "code",
   "execution_count": 37,
   "metadata": {},
   "outputs": [
    {
     "data": {
      "application/vnd.jupyter.widget-view+json": {
       "model_id": "db7c5e54c355432cb1ebea37138d9aa1",
       "version_major": 2,
       "version_minor": 0
      },
      "text/plain": [
       "HBox(children=(IntProgress(value=0, description='Punctuation with dots: ', max=1231279), HTML(value='')))"
      ]
     },
     "metadata": {},
     "output_type": "display_data"
    },
    {
     "name": "stdout",
     "output_type": "stream",
     "text": [
      "\n"
     ]
    },
    {
     "data": {
      "application/vnd.jupyter.widget-view+json": {
       "model_id": "5880ead5886142c584aa828a53f0afb2",
       "version_major": 2,
       "version_minor": 0
      },
      "text/plain": [
       "HBox(children=(IntProgress(value=0, description='Target tags: ', max=723600), HTML(value='')))"
      ]
     },
     "metadata": {},
     "output_type": "display_data"
    },
    {
     "name": "stdout",
     "output_type": "stream",
     "text": [
      "\n"
     ]
    },
    {
     "data": {
      "application/vnd.jupyter.widget-view+json": {
       "model_id": "6dc864eb413d49d79006c8bd185edcbb",
       "version_major": 2,
       "version_minor": 0
      },
      "text/plain": [
       "HBox(children=(IntProgress(value=0, description='IOB to BIO: ', max=723600), HTML(value='')))"
      ]
     },
     "metadata": {},
     "output_type": "display_data"
    },
    {
     "name": "stdout",
     "output_type": "stream",
     "text": [
      "\n"
     ]
    }
   ],
   "source": [
    "X = filtrations(X)"
   ]
  },
  {
   "cell_type": "code",
   "execution_count": 38,
   "metadata": {},
   "outputs": [
    {
     "data": {
      "text/plain": [
       "O        533756\n",
       "B-geo     41791\n",
       "B-org     22916\n",
       "B-tim     22481\n",
       "I-per     22429\n",
       "B-per     20643\n",
       "I-org     19549\n",
       "B-gpe     19077\n",
       "I-geo     13180\n",
       "I-tim      5603\n",
       "I-gpe       606\n",
       "B-art       407\n",
       "I-art       324\n",
       "B-eve       310\n",
       "I-eve       248\n",
       "B-nat       208\n",
       "I-nat        72\n",
       "Name: ner_tag, dtype: int64"
      ]
     },
     "execution_count": 38,
     "metadata": {},
     "output_type": "execute_result"
    }
   ],
   "source": [
    "X.ner_tag.value_counts()"
   ]
  },
  {
   "cell_type": "code",
   "execution_count": 39,
   "metadata": {},
   "outputs": [
    {
     "data": {
      "application/vnd.jupyter.widget-view+json": {
       "model_id": "cfee7c193cc042ffa7cab6223905be32",
       "version_major": 2,
       "version_minor": 0
      },
      "text/plain": [
       "HBox(children=(IntProgress(value=0, description='Semantic relation: ', max=723600), HTML(value='')))"
      ]
     },
     "metadata": {},
     "output_type": "display_data"
    },
    {
     "name": "stdout",
     "output_type": "stream",
     "text": [
      "\n"
     ]
    },
    {
     "data": {
      "application/vnd.jupyter.widget-view+json": {
       "model_id": "629c1453001c445fbade01a4700bdb9d",
       "version_major": 2,
       "version_minor": 0
      },
      "text/plain": [
       "HBox(children=(IntProgress(value=0, description='Animacy tagged: ', max=723600), HTML(value='')))"
      ]
     },
     "metadata": {},
     "output_type": "display_data"
    },
    {
     "name": "stdout",
     "output_type": "stream",
     "text": [
      "\n"
     ]
    },
    {
     "data": {
      "application/vnd.jupyter.widget-view+json": {
       "model_id": "a1ecbcae462946a4909b9e67a4ab638d",
       "version_major": 2,
       "version_minor": 0
      },
      "text/plain": [
       "HBox(children=(IntProgress(value=0, description='Lambda-DSR len: ', max=723600), HTML(value='')))"
      ]
     },
     "metadata": {},
     "output_type": "display_data"
    },
    {
     "name": "stdout",
     "output_type": "stream",
     "text": [
      "\n"
     ]
    },
    {
     "data": {
      "application/vnd.jupyter.widget-view+json": {
       "model_id": "2366ff85872142b3a0fbfc3c672704ff",
       "version_major": 2,
       "version_minor": 0
      },
      "text/plain": [
       "HBox(children=(IntProgress(value=0, description='Word sense: ', max=723600), HTML(value='')))"
      ]
     },
     "metadata": {},
     "output_type": "display_data"
    },
    {
     "name": "stdout",
     "output_type": "stream",
     "text": [
      "\n"
     ]
    },
    {
     "data": {
      "application/vnd.jupyter.widget-view+json": {
       "model_id": "614aae49c356448fa352f8b9a1d98018",
       "version_major": 2,
       "version_minor": 0
      },
      "text/plain": [
       "HBox(children=(IntProgress(value=0, description='Is title: ', max=723600), HTML(value='')))"
      ]
     },
     "metadata": {},
     "output_type": "display_data"
    },
    {
     "name": "stdout",
     "output_type": "stream",
     "text": [
      "\n"
     ]
    },
    {
     "data": {
      "application/vnd.jupyter.widget-view+json": {
       "model_id": "a1c151b5ce444f5482e5dd16233e89ab",
       "version_major": 2,
       "version_minor": 0
      },
      "text/plain": [
       "HBox(children=(IntProgress(value=0, description='Contains digits: ', max=723600), HTML(value='')))"
      ]
     },
     "metadata": {},
     "output_type": "display_data"
    },
    {
     "name": "stdout",
     "output_type": "stream",
     "text": [
      "\n"
     ]
    },
    {
     "data": {
      "application/vnd.jupyter.widget-view+json": {
       "model_id": "8c1884ffadd24a899128d8b774485bef",
       "version_major": 2,
       "version_minor": 0
      },
      "text/plain": [
       "HBox(children=(IntProgress(value=0, description='Word len: ', max=723600), HTML(value='')))"
      ]
     },
     "metadata": {},
     "output_type": "display_data"
    },
    {
     "name": "stdout",
     "output_type": "stream",
     "text": [
      "\n"
     ]
    }
   ],
   "source": [
    "X = additional_features(X)"
   ]
  },
  {
   "cell_type": "code",
   "execution_count": 40,
   "metadata": {},
   "outputs": [
    {
     "name": "stdout",
     "output_type": "stream",
     "text": [
      "<class 'pandas.core.frame.DataFrame'>\n",
      "Int64Index: 723600 entries, 0 to 1231277\n",
      "Data columns (total 17 columns):\n",
      "token                       723600 non-null object\n",
      "pos_tag                     723600 non-null object\n",
      "lemma                       723600 non-null object\n",
      "ner_tag                     723600 non-null object\n",
      "word_net_sense_number       723600 non-null object\n",
      "verb_net_roles              723600 non-null object\n",
      "semantic_relation           723600 non-null object\n",
      "animacy_tag                 723600 non-null object\n",
      "super_tag                   723600 non-null object\n",
      "lambda_dsr                  723600 non-null object\n",
      "semantic_relation_tagged    723600 non-null int64\n",
      "animacy_tagged              723600 non-null int64\n",
      "lambda_dsr_len              723600 non-null int64\n",
      "word_sense_exists           723600 non-null int64\n",
      "is_title                    723600 non-null int64\n",
      "contains_digits             723600 non-null int64\n",
      "word_len                    723600 non-null int64\n",
      "dtypes: int64(7), object(10)\n",
      "memory usage: 99.4+ MB\n"
     ]
    }
   ],
   "source": [
    "X.info()"
   ]
  },
  {
   "cell_type": "code",
   "execution_count": 41,
   "metadata": {},
   "outputs": [],
   "source": [
    "X, y = X[features], X[target]"
   ]
  },
  {
   "cell_type": "code",
   "execution_count": 42,
   "metadata": {},
   "outputs": [],
   "source": [
    "X_train, X_test, y_train, y_test = train_test_split(X, y, test_size=0.33, random_state=42, stratify=y)"
   ]
  },
  {
   "cell_type": "code",
   "execution_count": 43,
   "metadata": {},
   "outputs": [],
   "source": [
    "estimator = RandomForestClassifier()"
   ]
  },
  {
   "cell_type": "code",
   "execution_count": 44,
   "metadata": {},
   "outputs": [
    {
     "name": "stderr",
     "output_type": "stream",
     "text": [
      "[Parallel(n_jobs=-1)]: Using backend LokyBackend with 8 concurrent workers.\n",
      "[Parallel(n_jobs=-1)]: Done   2 out of   5 | elapsed:    8.4s remaining:   12.6s\n",
      "[Parallel(n_jobs=-1)]: Done   5 out of   5 | elapsed:    8.8s finished\n"
     ]
    }
   ],
   "source": [
    "scores = cross_val_score(estimator, X_train, y_train, cv=5, verbose=True, n_jobs=-1)"
   ]
  },
  {
   "cell_type": "code",
   "execution_count": 45,
   "metadata": {},
   "outputs": [
    {
     "data": {
      "text/plain": [
       "array([0.87134298, 0.8695419 , 0.87108352, 0.86970647, 0.87065133])"
      ]
     },
     "execution_count": 45,
     "metadata": {},
     "output_type": "execute_result"
    }
   ],
   "source": [
    "scores"
   ]
  },
  {
   "cell_type": "code",
   "execution_count": 46,
   "metadata": {},
   "outputs": [
    {
     "data": {
      "text/plain": [
       "RandomForestClassifier(bootstrap=True, class_weight=None, criterion='gini',\n",
       "            max_depth=None, max_features='auto', max_leaf_nodes=None,\n",
       "            min_impurity_decrease=0.0, min_impurity_split=None,\n",
       "            min_samples_leaf=1, min_samples_split=2,\n",
       "            min_weight_fraction_leaf=0.0, n_estimators=10, n_jobs=None,\n",
       "            oob_score=False, random_state=None, verbose=0,\n",
       "            warm_start=False)"
      ]
     },
     "execution_count": 46,
     "metadata": {},
     "output_type": "execute_result"
    }
   ],
   "source": [
    "estimator.fit(X_train, y_train)"
   ]
  },
  {
   "cell_type": "markdown",
   "metadata": {},
   "source": [
    "## Testing"
   ]
  },
  {
   "cell_type": "code",
   "execution_count": 47,
   "metadata": {},
   "outputs": [
    {
     "name": "stdout",
     "output_type": "stream",
     "text": [
      "              precision    recall  f1-score   support\n",
      "\n",
      "       B-art       0.33      0.01      0.01       134\n",
      "       B-eve       0.67      0.02      0.04       102\n",
      "       B-geo       0.42      0.77      0.54     13791\n",
      "       B-gpe       0.97      0.92      0.94      6295\n",
      "       B-nat       0.08      0.01      0.02        69\n",
      "       B-org       0.47      0.44      0.45      7562\n",
      "       B-per       0.50      0.70      0.58      6812\n",
      "       B-tim       0.86      0.60      0.71      7419\n",
      "       I-art       0.00      0.00      0.00       107\n",
      "       I-eve       0.00      0.00      0.00        82\n",
      "       I-geo       0.40      0.01      0.01      4349\n",
      "       I-gpe       0.25      0.02      0.04       200\n",
      "       I-nat       0.00      0.00      0.00        24\n",
      "       I-org       0.47      0.13      0.21      6451\n",
      "       I-per       0.54      0.51      0.52      7402\n",
      "       I-tim       0.74      0.32      0.44      1849\n",
      "           O       0.99      0.99      0.99    176140\n",
      "\n",
      "   micro avg       0.87      0.87      0.87    238788\n",
      "   macro avg       0.45      0.32      0.32    238788\n",
      "weighted avg       0.88      0.87      0.86    238788\n",
      "\n"
     ]
    }
   ],
   "source": [
    "report = sklearn_classification_report(y_pred=estimator.predict(X_test), y_true=y_test)\n",
    "print(report)"
   ]
  },
  {
   "cell_type": "markdown",
   "metadata": {},
   "source": [
    "# HMM"
   ]
  },
  {
   "cell_type": "markdown",
   "metadata": {},
   "source": [
    "[Данная статья](https://pdfs.semanticscholar.org/9528/4b31f27b9b8901fdc18554603610ebbc2752.pdf) дает полное описание того, как расчитать параметры скрытой марковской модели.\n",
    "\n",
    "Из [данной статьи](https://www.digitalvidya.com/blog/inroduction-to-hidden-markov-models-using-python/) взята имплементация алгоритма Витерби."
   ]
  },
  {
   "cell_type": "code",
   "execution_count": 48,
   "metadata": {
    "scrolled": false
   },
   "outputs": [
    {
     "data": {
      "application/vnd.jupyter.widget-view+json": {
       "model_id": "d2a74e06ed15432b96e3c2172bab4977",
       "version_major": 2,
       "version_minor": 0
      },
      "text/plain": [
       "HBox(children=(IntProgress(value=0, description='Read folders: '), HTML(value='')))"
      ]
     },
     "metadata": {},
     "output_type": "display_data"
    },
    {
     "name": "stdout",
     "output_type": "stream",
     "text": [
      "\n"
     ]
    },
    {
     "data": {
      "application/vnd.jupyter.widget-view+json": {
       "model_id": "4ce0177b503a46ebaef907dc710bcff6",
       "version_major": 2,
       "version_minor": 0
      },
      "text/plain": [
       "HBox(children=(IntProgress(value=0, description='Filter folders: ', max=10000), HTML(value='')))"
      ]
     },
     "metadata": {},
     "output_type": "display_data"
    },
    {
     "name": "stdout",
     "output_type": "stream",
     "text": [
      "\n"
     ]
    }
   ],
   "source": [
    "target_subcorpus_folders = filter_by_subcorpus('../data/datasets/gmb-2.2.0/', 'subcorpus: Voice of America')"
   ]
  },
  {
   "cell_type": "code",
   "execution_count": 49,
   "metadata": {},
   "outputs": [],
   "source": [
    "X = get_tagged_texts_as_pd(target_subcorpus_folders, '../data/datasets/gmb-2.2.0/')"
   ]
  },
  {
   "cell_type": "code",
   "execution_count": 50,
   "metadata": {
    "scrolled": false
   },
   "outputs": [
    {
     "data": {
      "text/html": [
       "<div>\n",
       "<style scoped>\n",
       "    .dataframe tbody tr th:only-of-type {\n",
       "        vertical-align: middle;\n",
       "    }\n",
       "\n",
       "    .dataframe tbody tr th {\n",
       "        vertical-align: top;\n",
       "    }\n",
       "\n",
       "    .dataframe thead th {\n",
       "        text-align: right;\n",
       "    }\n",
       "</style>\n",
       "<table border=\"1\" class=\"dataframe\">\n",
       "  <thead>\n",
       "    <tr style=\"text-align: right;\">\n",
       "      <th></th>\n",
       "      <th>token</th>\n",
       "      <th>pos_tag</th>\n",
       "      <th>lemma</th>\n",
       "      <th>ner_tag</th>\n",
       "      <th>word_net_sense_number</th>\n",
       "      <th>verb_net_roles</th>\n",
       "      <th>semantic_relation</th>\n",
       "      <th>animacy_tag</th>\n",
       "      <th>super_tag</th>\n",
       "      <th>lambda_dsr</th>\n",
       "    </tr>\n",
       "  </thead>\n",
       "  <tbody>\n",
       "    <tr>\n",
       "      <th>0</th>\n",
       "      <td>Thousands</td>\n",
       "      <td>NNS</td>\n",
       "      <td>thousand</td>\n",
       "      <td>O</td>\n",
       "      <td>1</td>\n",
       "      <td>[]</td>\n",
       "      <td>O</td>\n",
       "      <td>Human</td>\n",
       "      <td>N</td>\n",
       "      <td>lam(v1,b1:drs([],[b1:[1001]:pred(v1,thousand,n...</td>\n",
       "    </tr>\n",
       "    <tr>\n",
       "      <th>1</th>\n",
       "      <td>of</td>\n",
       "      <td>IN</td>\n",
       "      <td>of</td>\n",
       "      <td>O</td>\n",
       "      <td>0</td>\n",
       "      <td>[]</td>\n",
       "      <td>O</td>\n",
       "      <td>O</td>\n",
       "      <td>(NP\\NP)/NP</td>\n",
       "      <td>lam(v1,lam(v2,lam(v3,app(v2,lam(v4,app(v1,lam(...</td>\n",
       "    </tr>\n",
       "    <tr>\n",
       "      <th>2</th>\n",
       "      <td>demonstrators</td>\n",
       "      <td>NNS</td>\n",
       "      <td>demonstrator</td>\n",
       "      <td>O</td>\n",
       "      <td>1</td>\n",
       "      <td>[]</td>\n",
       "      <td>O</td>\n",
       "      <td>Human</td>\n",
       "      <td>N</td>\n",
       "      <td>lam(v1,b1:drs([],[b1:[1003]:pred(v1,demonstrat...</td>\n",
       "    </tr>\n",
       "    <tr>\n",
       "      <th>3</th>\n",
       "      <td>have</td>\n",
       "      <td>VBP</td>\n",
       "      <td>have</td>\n",
       "      <td>O</td>\n",
       "      <td>0</td>\n",
       "      <td>[]</td>\n",
       "      <td>O</td>\n",
       "      <td>O</td>\n",
       "      <td>(S[dcl]\\NP)/(S[pt]\\NP)</td>\n",
       "      <td>lam(v1,lam(v2,lam(v3,app(app(v1,v2),lam(v4,mer...</td>\n",
       "    </tr>\n",
       "    <tr>\n",
       "      <th>4</th>\n",
       "      <td>marched</td>\n",
       "      <td>VBN</td>\n",
       "      <td>march</td>\n",
       "      <td>O</td>\n",
       "      <td>1</td>\n",
       "      <td>[Theme]</td>\n",
       "      <td>O</td>\n",
       "      <td>O</td>\n",
       "      <td>S[pt]\\NP</td>\n",
       "      <td>lam(v1,lam(v2,app(v1,lam(v3,merge(b1:drs([b1:[...</td>\n",
       "    </tr>\n",
       "    <tr>\n",
       "      <th>5</th>\n",
       "      <td>through</td>\n",
       "      <td>IN</td>\n",
       "      <td>through</td>\n",
       "      <td>O</td>\n",
       "      <td>0</td>\n",
       "      <td>[]</td>\n",
       "      <td>O</td>\n",
       "      <td>O</td>\n",
       "      <td>((S[pt]\\NP)\\(S[pt]\\NP))/NP</td>\n",
       "      <td>lam(v1,lam(v2,lam(v3,lam(v4,app(app(v2,v3),lam...</td>\n",
       "    </tr>\n",
       "    <tr>\n",
       "      <th>6</th>\n",
       "      <td>London</td>\n",
       "      <td>NNP</td>\n",
       "      <td>london</td>\n",
       "      <td>geo-nam</td>\n",
       "      <td>1</td>\n",
       "      <td>[]</td>\n",
       "      <td>O</td>\n",
       "      <td>Place</td>\n",
       "      <td>N</td>\n",
       "      <td>lam(v1,b1:drs([],[b1:[1007]:named(v1,london,ge...</td>\n",
       "    </tr>\n",
       "    <tr>\n",
       "      <th>7</th>\n",
       "      <td>to</td>\n",
       "      <td>TO</td>\n",
       "      <td>to</td>\n",
       "      <td>O</td>\n",
       "      <td>0</td>\n",
       "      <td>[]</td>\n",
       "      <td>O</td>\n",
       "      <td>O</td>\n",
       "      <td>(S[to]\\NP)/(S[b]\\NP)</td>\n",
       "      <td>lam(v1,lam(v2,lam(v3,merge(b1:drs([b1:[1008]:p...</td>\n",
       "    </tr>\n",
       "    <tr>\n",
       "      <th>8</th>\n",
       "      <td>protest</td>\n",
       "      <td>VB</td>\n",
       "      <td>protest</td>\n",
       "      <td>O</td>\n",
       "      <td>1</td>\n",
       "      <td>[Theme,Agent]</td>\n",
       "      <td>O</td>\n",
       "      <td>O</td>\n",
       "      <td>(S[b]\\NP)/NP</td>\n",
       "      <td>lam(v1,lam(v2,lam(v3,app(v2,lam(v4,app(v1,lam(...</td>\n",
       "    </tr>\n",
       "    <tr>\n",
       "      <th>9</th>\n",
       "      <td>the</td>\n",
       "      <td>DT</td>\n",
       "      <td>the</td>\n",
       "      <td>O</td>\n",
       "      <td>0</td>\n",
       "      <td>[]</td>\n",
       "      <td>O</td>\n",
       "      <td>O</td>\n",
       "      <td>NP/N</td>\n",
       "      <td>lam(v1,lam(v2,alfa(def,merge(b1:drs([b1:[1010]...</td>\n",
       "    </tr>\n",
       "    <tr>\n",
       "      <th>10</th>\n",
       "      <td>war</td>\n",
       "      <td>NN</td>\n",
       "      <td>war</td>\n",
       "      <td>O</td>\n",
       "      <td>1</td>\n",
       "      <td>[]</td>\n",
       "      <td>O</td>\n",
       "      <td>Non-concrete</td>\n",
       "      <td>N</td>\n",
       "      <td>lam(v1,b1:drs([],[b1:[1011]:pred(v1,war,n,'1')]))</td>\n",
       "    </tr>\n",
       "    <tr>\n",
       "      <th>11</th>\n",
       "      <td>in</td>\n",
       "      <td>IN</td>\n",
       "      <td>in</td>\n",
       "      <td>O</td>\n",
       "      <td>0</td>\n",
       "      <td>[]</td>\n",
       "      <td>O</td>\n",
       "      <td>O</td>\n",
       "      <td>(NP\\NP)/NP</td>\n",
       "      <td>lam(v1,lam(v2,lam(v3,app(v2,lam(v4,app(v1,lam(...</td>\n",
       "    </tr>\n",
       "    <tr>\n",
       "      <th>12</th>\n",
       "      <td>Iraq</td>\n",
       "      <td>NNP</td>\n",
       "      <td>iraq</td>\n",
       "      <td>geo-nam</td>\n",
       "      <td>1</td>\n",
       "      <td>[]</td>\n",
       "      <td>O</td>\n",
       "      <td>Place</td>\n",
       "      <td>N</td>\n",
       "      <td>lam(v1,b1:drs([],[b1:[1013]:named(v1,iraq,geo,...</td>\n",
       "    </tr>\n",
       "    <tr>\n",
       "      <th>13</th>\n",
       "      <td>and</td>\n",
       "      <td>CC</td>\n",
       "      <td>and</td>\n",
       "      <td>O</td>\n",
       "      <td>0</td>\n",
       "      <td>[]</td>\n",
       "      <td>O</td>\n",
       "      <td>O</td>\n",
       "      <td>conj</td>\n",
       "      <td>lam(v1,lam(v2,lam(v3,lam(v4,sdrs([lab(k1,app(a...</td>\n",
       "    </tr>\n",
       "    <tr>\n",
       "      <th>14</th>\n",
       "      <td>demand</td>\n",
       "      <td>VB</td>\n",
       "      <td>demand</td>\n",
       "      <td>O</td>\n",
       "      <td>1</td>\n",
       "      <td>[Recipient,Agent]</td>\n",
       "      <td>O</td>\n",
       "      <td>O</td>\n",
       "      <td>(S[b]\\NP)/NP</td>\n",
       "      <td>lam(v1,lam(v2,lam(v3,app(v2,lam(v4,app(v1,lam(...</td>\n",
       "    </tr>\n",
       "    <tr>\n",
       "      <th>15</th>\n",
       "      <td>the</td>\n",
       "      <td>DT</td>\n",
       "      <td>the</td>\n",
       "      <td>O</td>\n",
       "      <td>0</td>\n",
       "      <td>[]</td>\n",
       "      <td>O</td>\n",
       "      <td>O</td>\n",
       "      <td>NP/N</td>\n",
       "      <td>lam(v1,lam(v2,alfa(def,merge(b1:drs([b1:[1016]...</td>\n",
       "    </tr>\n",
       "    <tr>\n",
       "      <th>16</th>\n",
       "      <td>withdrawal</td>\n",
       "      <td>NN</td>\n",
       "      <td>withdrawal</td>\n",
       "      <td>O</td>\n",
       "      <td>1</td>\n",
       "      <td>[]</td>\n",
       "      <td>O</td>\n",
       "      <td>Non-concrete</td>\n",
       "      <td>N</td>\n",
       "      <td>lam(v1,b1:drs([],[b1:[1017]:pred(v1,withdrawal...</td>\n",
       "    </tr>\n",
       "    <tr>\n",
       "      <th>17</th>\n",
       "      <td>of</td>\n",
       "      <td>IN</td>\n",
       "      <td>of</td>\n",
       "      <td>O</td>\n",
       "      <td>0</td>\n",
       "      <td>[]</td>\n",
       "      <td>O</td>\n",
       "      <td>O</td>\n",
       "      <td>(NP\\NP)/NP</td>\n",
       "      <td>lam(v1,lam(v2,lam(v3,app(v2,lam(v4,app(v1,lam(...</td>\n",
       "    </tr>\n",
       "    <tr>\n",
       "      <th>18</th>\n",
       "      <td>British</td>\n",
       "      <td>JJ</td>\n",
       "      <td>uk</td>\n",
       "      <td>gpe-nam</td>\n",
       "      <td>0</td>\n",
       "      <td>[]</td>\n",
       "      <td>of</td>\n",
       "      <td>Human</td>\n",
       "      <td>N/N</td>\n",
       "      <td>lam(v1,lam(v2,merge(b1:drs([b1:[]:x1],[b1:[101...</td>\n",
       "    </tr>\n",
       "    <tr>\n",
       "      <th>19</th>\n",
       "      <td>troops</td>\n",
       "      <td>NNS</td>\n",
       "      <td>troops</td>\n",
       "      <td>O</td>\n",
       "      <td>1</td>\n",
       "      <td>[]</td>\n",
       "      <td>O</td>\n",
       "      <td>Human</td>\n",
       "      <td>N</td>\n",
       "      <td>lam(v1,b1:drs([],[b1:[1020]:pred(v1,troops,n,'...</td>\n",
       "    </tr>\n",
       "    <tr>\n",
       "      <th>20</th>\n",
       "      <td>from</td>\n",
       "      <td>IN</td>\n",
       "      <td>from</td>\n",
       "      <td>O</td>\n",
       "      <td>0</td>\n",
       "      <td>[]</td>\n",
       "      <td>O</td>\n",
       "      <td>O</td>\n",
       "      <td>(NP\\NP)/NP</td>\n",
       "      <td>lam(v1,lam(v2,lam(v3,app(v2,lam(v4,app(v1,lam(...</td>\n",
       "    </tr>\n",
       "    <tr>\n",
       "      <th>21</th>\n",
       "      <td>that</td>\n",
       "      <td>DT</td>\n",
       "      <td>that</td>\n",
       "      <td>O</td>\n",
       "      <td>0</td>\n",
       "      <td>[]</td>\n",
       "      <td>O</td>\n",
       "      <td>O</td>\n",
       "      <td>NP/N</td>\n",
       "      <td>lam(v1,lam(v2,alfa(def,merge(b1:drs([b1:[1022]...</td>\n",
       "    </tr>\n",
       "    <tr>\n",
       "      <th>22</th>\n",
       "      <td>country</td>\n",
       "      <td>NN</td>\n",
       "      <td>country</td>\n",
       "      <td>O</td>\n",
       "      <td>1</td>\n",
       "      <td>[]</td>\n",
       "      <td>O</td>\n",
       "      <td>Non-concrete</td>\n",
       "      <td>N</td>\n",
       "      <td>lam(v1,b1:drs([],[b1:[1023]:pred(v1,country,n,...</td>\n",
       "    </tr>\n",
       "    <tr>\n",
       "      <th>23</th>\n",
       "      <td>.</td>\n",
       "      <td>.</td>\n",
       "      <td>.</td>\n",
       "      <td>O</td>\n",
       "      <td>0</td>\n",
       "      <td>[]</td>\n",
       "      <td>O</td>\n",
       "      <td>O</td>\n",
       "      <td>S[dcl]\\S[dcl]</td>\n",
       "      <td>lam(v1,v1)</td>\n",
       "    </tr>\n",
       "    <tr>\n",
       "      <th>24</th>\n",
       "      <td>Families</td>\n",
       "      <td>NNS</td>\n",
       "      <td>family</td>\n",
       "      <td>O</td>\n",
       "      <td>1</td>\n",
       "      <td>[]</td>\n",
       "      <td>O</td>\n",
       "      <td>Organization</td>\n",
       "      <td>N</td>\n",
       "      <td>lam(v1,b1:drs([],[b1:[2001]:pred(v1,family,n,'...</td>\n",
       "    </tr>\n",
       "    <tr>\n",
       "      <th>25</th>\n",
       "      <td>of</td>\n",
       "      <td>IN</td>\n",
       "      <td>of</td>\n",
       "      <td>O</td>\n",
       "      <td>0</td>\n",
       "      <td>[]</td>\n",
       "      <td>O</td>\n",
       "      <td>O</td>\n",
       "      <td>(NP\\NP)/NP</td>\n",
       "      <td>lam(v1,lam(v2,lam(v3,app(v2,lam(v4,app(v1,lam(...</td>\n",
       "    </tr>\n",
       "    <tr>\n",
       "      <th>26</th>\n",
       "      <td>soldiers</td>\n",
       "      <td>NNS</td>\n",
       "      <td>soldier</td>\n",
       "      <td>O</td>\n",
       "      <td>1</td>\n",
       "      <td>[]</td>\n",
       "      <td>O</td>\n",
       "      <td>Human</td>\n",
       "      <td>N</td>\n",
       "      <td>lam(v1,b1:drs([],[b1:[2003]:pred(v1,soldier,n,...</td>\n",
       "    </tr>\n",
       "    <tr>\n",
       "      <th>27</th>\n",
       "      <td>killed</td>\n",
       "      <td>VBN</td>\n",
       "      <td>kill</td>\n",
       "      <td>O</td>\n",
       "      <td>1</td>\n",
       "      <td>[Patient,Instrument]</td>\n",
       "      <td>O</td>\n",
       "      <td>O</td>\n",
       "      <td>S[pss]\\NP</td>\n",
       "      <td>lam(v1,lam(v2,app(v1,lam(v3,merge(b1:drs([b1:[...</td>\n",
       "    </tr>\n",
       "    <tr>\n",
       "      <th>28</th>\n",
       "      <td>in</td>\n",
       "      <td>IN</td>\n",
       "      <td>in</td>\n",
       "      <td>O</td>\n",
       "      <td>0</td>\n",
       "      <td>[]</td>\n",
       "      <td>O</td>\n",
       "      <td>O</td>\n",
       "      <td>((S[pss]\\NP)\\(S[pss]\\NP))/NP</td>\n",
       "      <td>lam(v1,lam(v2,lam(v3,lam(v4,app(app(v2,v3),lam...</td>\n",
       "    </tr>\n",
       "    <tr>\n",
       "      <th>29</th>\n",
       "      <td>the</td>\n",
       "      <td>DT</td>\n",
       "      <td>the</td>\n",
       "      <td>O</td>\n",
       "      <td>0</td>\n",
       "      <td>[]</td>\n",
       "      <td>O</td>\n",
       "      <td>O</td>\n",
       "      <td>NP/N</td>\n",
       "      <td>lam(v1,lam(v2,alfa(def,merge(b1:drs([b1:[2006]...</td>\n",
       "    </tr>\n",
       "  </tbody>\n",
       "</table>\n",
       "</div>"
      ],
      "text/plain": [
       "            token pos_tag         lemma  ner_tag word_net_sense_number  \\\n",
       "0       Thousands     NNS      thousand        O                     1   \n",
       "1              of      IN            of        O                     0   \n",
       "2   demonstrators     NNS  demonstrator        O                     1   \n",
       "3            have     VBP          have        O                     0   \n",
       "4         marched     VBN         march        O                     1   \n",
       "5         through      IN       through        O                     0   \n",
       "6          London     NNP        london  geo-nam                     1   \n",
       "7              to      TO            to        O                     0   \n",
       "8         protest      VB       protest        O                     1   \n",
       "9             the      DT           the        O                     0   \n",
       "10            war      NN           war        O                     1   \n",
       "11             in      IN            in        O                     0   \n",
       "12           Iraq     NNP          iraq  geo-nam                     1   \n",
       "13            and      CC           and        O                     0   \n",
       "14         demand      VB        demand        O                     1   \n",
       "15            the      DT           the        O                     0   \n",
       "16     withdrawal      NN    withdrawal        O                     1   \n",
       "17             of      IN            of        O                     0   \n",
       "18        British      JJ            uk  gpe-nam                     0   \n",
       "19         troops     NNS        troops        O                     1   \n",
       "20           from      IN          from        O                     0   \n",
       "21           that      DT          that        O                     0   \n",
       "22        country      NN       country        O                     1   \n",
       "23              .       .             .        O                     0   \n",
       "24       Families     NNS        family        O                     1   \n",
       "25             of      IN            of        O                     0   \n",
       "26       soldiers     NNS       soldier        O                     1   \n",
       "27         killed     VBN          kill        O                     1   \n",
       "28             in      IN            in        O                     0   \n",
       "29            the      DT           the        O                     0   \n",
       "\n",
       "          verb_net_roles semantic_relation   animacy_tag  \\\n",
       "0                     []                 O         Human   \n",
       "1                     []                 O             O   \n",
       "2                     []                 O         Human   \n",
       "3                     []                 O             O   \n",
       "4                [Theme]                 O             O   \n",
       "5                     []                 O             O   \n",
       "6                     []                 O         Place   \n",
       "7                     []                 O             O   \n",
       "8          [Theme,Agent]                 O             O   \n",
       "9                     []                 O             O   \n",
       "10                    []                 O  Non-concrete   \n",
       "11                    []                 O             O   \n",
       "12                    []                 O         Place   \n",
       "13                    []                 O             O   \n",
       "14     [Recipient,Agent]                 O             O   \n",
       "15                    []                 O             O   \n",
       "16                    []                 O  Non-concrete   \n",
       "17                    []                 O             O   \n",
       "18                    []                of         Human   \n",
       "19                    []                 O         Human   \n",
       "20                    []                 O             O   \n",
       "21                    []                 O             O   \n",
       "22                    []                 O  Non-concrete   \n",
       "23                    []                 O             O   \n",
       "24                    []                 O  Organization   \n",
       "25                    []                 O             O   \n",
       "26                    []                 O         Human   \n",
       "27  [Patient,Instrument]                 O             O   \n",
       "28                    []                 O             O   \n",
       "29                    []                 O             O   \n",
       "\n",
       "                       super_tag  \\\n",
       "0                              N   \n",
       "1                     (NP\\NP)/NP   \n",
       "2                              N   \n",
       "3         (S[dcl]\\NP)/(S[pt]\\NP)   \n",
       "4                       S[pt]\\NP   \n",
       "5     ((S[pt]\\NP)\\(S[pt]\\NP))/NP   \n",
       "6                              N   \n",
       "7           (S[to]\\NP)/(S[b]\\NP)   \n",
       "8                   (S[b]\\NP)/NP   \n",
       "9                           NP/N   \n",
       "10                             N   \n",
       "11                    (NP\\NP)/NP   \n",
       "12                             N   \n",
       "13                          conj   \n",
       "14                  (S[b]\\NP)/NP   \n",
       "15                          NP/N   \n",
       "16                             N   \n",
       "17                    (NP\\NP)/NP   \n",
       "18                           N/N   \n",
       "19                             N   \n",
       "20                    (NP\\NP)/NP   \n",
       "21                          NP/N   \n",
       "22                             N   \n",
       "23                 S[dcl]\\S[dcl]   \n",
       "24                             N   \n",
       "25                    (NP\\NP)/NP   \n",
       "26                             N   \n",
       "27                     S[pss]\\NP   \n",
       "28  ((S[pss]\\NP)\\(S[pss]\\NP))/NP   \n",
       "29                          NP/N   \n",
       "\n",
       "                                           lambda_dsr  \n",
       "0   lam(v1,b1:drs([],[b1:[1001]:pred(v1,thousand,n...  \n",
       "1   lam(v1,lam(v2,lam(v3,app(v2,lam(v4,app(v1,lam(...  \n",
       "2   lam(v1,b1:drs([],[b1:[1003]:pred(v1,demonstrat...  \n",
       "3   lam(v1,lam(v2,lam(v3,app(app(v1,v2),lam(v4,mer...  \n",
       "4   lam(v1,lam(v2,app(v1,lam(v3,merge(b1:drs([b1:[...  \n",
       "5   lam(v1,lam(v2,lam(v3,lam(v4,app(app(v2,v3),lam...  \n",
       "6   lam(v1,b1:drs([],[b1:[1007]:named(v1,london,ge...  \n",
       "7   lam(v1,lam(v2,lam(v3,merge(b1:drs([b1:[1008]:p...  \n",
       "8   lam(v1,lam(v2,lam(v3,app(v2,lam(v4,app(v1,lam(...  \n",
       "9   lam(v1,lam(v2,alfa(def,merge(b1:drs([b1:[1010]...  \n",
       "10  lam(v1,b1:drs([],[b1:[1011]:pred(v1,war,n,'1')]))  \n",
       "11  lam(v1,lam(v2,lam(v3,app(v2,lam(v4,app(v1,lam(...  \n",
       "12  lam(v1,b1:drs([],[b1:[1013]:named(v1,iraq,geo,...  \n",
       "13  lam(v1,lam(v2,lam(v3,lam(v4,sdrs([lab(k1,app(a...  \n",
       "14  lam(v1,lam(v2,lam(v3,app(v2,lam(v4,app(v1,lam(...  \n",
       "15  lam(v1,lam(v2,alfa(def,merge(b1:drs([b1:[1016]...  \n",
       "16  lam(v1,b1:drs([],[b1:[1017]:pred(v1,withdrawal...  \n",
       "17  lam(v1,lam(v2,lam(v3,app(v2,lam(v4,app(v1,lam(...  \n",
       "18  lam(v1,lam(v2,merge(b1:drs([b1:[]:x1],[b1:[101...  \n",
       "19  lam(v1,b1:drs([],[b1:[1020]:pred(v1,troops,n,'...  \n",
       "20  lam(v1,lam(v2,lam(v3,app(v2,lam(v4,app(v1,lam(...  \n",
       "21  lam(v1,lam(v2,alfa(def,merge(b1:drs([b1:[1022]...  \n",
       "22  lam(v1,b1:drs([],[b1:[1023]:pred(v1,country,n,...  \n",
       "23                                         lam(v1,v1)  \n",
       "24  lam(v1,b1:drs([],[b1:[2001]:pred(v1,family,n,'...  \n",
       "25  lam(v1,lam(v2,lam(v3,app(v2,lam(v4,app(v1,lam(...  \n",
       "26  lam(v1,b1:drs([],[b1:[2003]:pred(v1,soldier,n,...  \n",
       "27  lam(v1,lam(v2,app(v1,lam(v3,merge(b1:drs([b1:[...  \n",
       "28  lam(v1,lam(v2,lam(v3,lam(v4,app(app(v2,v3),lam...  \n",
       "29  lam(v1,lam(v2,alfa(def,merge(b1:drs([b1:[2006]...  "
      ]
     },
     "execution_count": 50,
     "metadata": {},
     "output_type": "execute_result"
    }
   ],
   "source": [
    "X.head(30)"
   ]
  },
  {
   "cell_type": "code",
   "execution_count": 51,
   "metadata": {},
   "outputs": [
    {
     "data": {
      "text/plain": [
       "O          1032479\n",
       "geo-nam      55480\n",
       "org-nam      44646\n",
       "per-nam      22931\n",
       "gpe-nam      19685\n",
       "tim-dow      11398\n",
       "tim-dat      10929\n",
       "per-tit       9672\n",
       "per-fam       8098\n",
       "[]            4064\n",
       "tim-moy       3811\n",
       "tim-yoc       3009\n",
       "per-giv       2376\n",
       "tim-clo        810\n",
       "art-nam        789\n",
       "eve-nam        514\n",
       "nat-nam        280\n",
       "tim-nam        132\n",
       "eve-ord         63\n",
       "per-ini         55\n",
       "per-ord         35\n",
       "org-leg         13\n",
       "tim-dom          8\n",
       "per-mid          1\n",
       "art-add          1\n",
       "Name: ner_tag, dtype: int64"
      ]
     },
     "execution_count": 51,
     "metadata": {},
     "output_type": "execute_result"
    }
   ],
   "source": [
    "X.ner_tag.value_counts()"
   ]
  },
  {
   "cell_type": "markdown",
   "metadata": {},
   "source": [
    "Проведем охапку фильтраций и переведем тэги в нужный формат:"
   ]
  },
  {
   "cell_type": "code",
   "execution_count": 52,
   "metadata": {},
   "outputs": [
    {
     "data": {
      "application/vnd.jupyter.widget-view+json": {
       "model_id": "817a442305274ce596475f839f60ac59",
       "version_major": 2,
       "version_minor": 0
      },
      "text/plain": [
       "HBox(children=(IntProgress(value=0, description='Punctuation without dots: ', max=1231279), HTML(value='')))"
      ]
     },
     "metadata": {},
     "output_type": "display_data"
    },
    {
     "name": "stdout",
     "output_type": "stream",
     "text": [
      "\n"
     ]
    },
    {
     "data": {
      "application/vnd.jupyter.widget-view+json": {
       "model_id": "c14221c4658a47b29a517439ae4225e0",
       "version_major": 2,
       "version_minor": 0
      },
      "text/plain": [
       "HBox(children=(IntProgress(value=0, description='Target tags: ', max=780339), HTML(value='')))"
      ]
     },
     "metadata": {},
     "output_type": "display_data"
    },
    {
     "name": "stdout",
     "output_type": "stream",
     "text": [
      "\n"
     ]
    },
    {
     "data": {
      "application/vnd.jupyter.widget-view+json": {
       "model_id": "c35e8f13f6114f9684a992b617df69d7",
       "version_major": 2,
       "version_minor": 0
      },
      "text/plain": [
       "HBox(children=(IntProgress(value=0, description='IOB to BIO: ', max=780339), HTML(value='')))"
      ]
     },
     "metadata": {},
     "output_type": "display_data"
    },
    {
     "name": "stdout",
     "output_type": "stream",
     "text": [
      "\n"
     ]
    }
   ],
   "source": [
    "X = filtrations(X, with_dots=True)"
   ]
  },
  {
   "cell_type": "code",
   "execution_count": 53,
   "metadata": {},
   "outputs": [
    {
     "data": {
      "text/html": [
       "<div>\n",
       "<style scoped>\n",
       "    .dataframe tbody tr th:only-of-type {\n",
       "        vertical-align: middle;\n",
       "    }\n",
       "\n",
       "    .dataframe tbody tr th {\n",
       "        vertical-align: top;\n",
       "    }\n",
       "\n",
       "    .dataframe thead th {\n",
       "        text-align: right;\n",
       "    }\n",
       "</style>\n",
       "<table border=\"1\" class=\"dataframe\">\n",
       "  <thead>\n",
       "    <tr style=\"text-align: right;\">\n",
       "      <th></th>\n",
       "      <th>token</th>\n",
       "      <th>pos_tag</th>\n",
       "      <th>lemma</th>\n",
       "      <th>ner_tag</th>\n",
       "      <th>word_net_sense_number</th>\n",
       "      <th>verb_net_roles</th>\n",
       "      <th>semantic_relation</th>\n",
       "      <th>animacy_tag</th>\n",
       "      <th>super_tag</th>\n",
       "      <th>lambda_dsr</th>\n",
       "    </tr>\n",
       "  </thead>\n",
       "  <tbody>\n",
       "    <tr>\n",
       "      <th>0</th>\n",
       "      <td>Thousands</td>\n",
       "      <td>NNS</td>\n",
       "      <td>thousand</td>\n",
       "      <td>O</td>\n",
       "      <td>1</td>\n",
       "      <td>[]</td>\n",
       "      <td>O</td>\n",
       "      <td>Human</td>\n",
       "      <td>N</td>\n",
       "      <td>lam(v1,b1:drs([],[b1:[1001]:pred(v1,thousand,n...</td>\n",
       "    </tr>\n",
       "    <tr>\n",
       "      <th>2</th>\n",
       "      <td>demonstrators</td>\n",
       "      <td>NNS</td>\n",
       "      <td>demonstrator</td>\n",
       "      <td>O</td>\n",
       "      <td>1</td>\n",
       "      <td>[]</td>\n",
       "      <td>O</td>\n",
       "      <td>Human</td>\n",
       "      <td>N</td>\n",
       "      <td>lam(v1,b1:drs([],[b1:[1003]:pred(v1,demonstrat...</td>\n",
       "    </tr>\n",
       "    <tr>\n",
       "      <th>4</th>\n",
       "      <td>marched</td>\n",
       "      <td>VBN</td>\n",
       "      <td>march</td>\n",
       "      <td>O</td>\n",
       "      <td>1</td>\n",
       "      <td>[Theme]</td>\n",
       "      <td>O</td>\n",
       "      <td>O</td>\n",
       "      <td>S[pt]\\NP</td>\n",
       "      <td>lam(v1,lam(v2,app(v1,lam(v3,merge(b1:drs([b1:[...</td>\n",
       "    </tr>\n",
       "    <tr>\n",
       "      <th>6</th>\n",
       "      <td>London</td>\n",
       "      <td>NNP</td>\n",
       "      <td>london</td>\n",
       "      <td>B-geo</td>\n",
       "      <td>1</td>\n",
       "      <td>[]</td>\n",
       "      <td>O</td>\n",
       "      <td>Place</td>\n",
       "      <td>N</td>\n",
       "      <td>lam(v1,b1:drs([],[b1:[1007]:named(v1,london,ge...</td>\n",
       "    </tr>\n",
       "    <tr>\n",
       "      <th>8</th>\n",
       "      <td>protest</td>\n",
       "      <td>VB</td>\n",
       "      <td>protest</td>\n",
       "      <td>O</td>\n",
       "      <td>1</td>\n",
       "      <td>[Theme,Agent]</td>\n",
       "      <td>O</td>\n",
       "      <td>O</td>\n",
       "      <td>(S[b]\\NP)/NP</td>\n",
       "      <td>lam(v1,lam(v2,lam(v3,app(v2,lam(v4,app(v1,lam(...</td>\n",
       "    </tr>\n",
       "    <tr>\n",
       "      <th>10</th>\n",
       "      <td>war</td>\n",
       "      <td>NN</td>\n",
       "      <td>war</td>\n",
       "      <td>O</td>\n",
       "      <td>1</td>\n",
       "      <td>[]</td>\n",
       "      <td>O</td>\n",
       "      <td>Non-concrete</td>\n",
       "      <td>N</td>\n",
       "      <td>lam(v1,b1:drs([],[b1:[1011]:pred(v1,war,n,'1')]))</td>\n",
       "    </tr>\n",
       "    <tr>\n",
       "      <th>12</th>\n",
       "      <td>Iraq</td>\n",
       "      <td>NNP</td>\n",
       "      <td>iraq</td>\n",
       "      <td>B-geo</td>\n",
       "      <td>1</td>\n",
       "      <td>[]</td>\n",
       "      <td>O</td>\n",
       "      <td>Place</td>\n",
       "      <td>N</td>\n",
       "      <td>lam(v1,b1:drs([],[b1:[1013]:named(v1,iraq,geo,...</td>\n",
       "    </tr>\n",
       "    <tr>\n",
       "      <th>14</th>\n",
       "      <td>demand</td>\n",
       "      <td>VB</td>\n",
       "      <td>demand</td>\n",
       "      <td>O</td>\n",
       "      <td>1</td>\n",
       "      <td>[Recipient,Agent]</td>\n",
       "      <td>O</td>\n",
       "      <td>O</td>\n",
       "      <td>(S[b]\\NP)/NP</td>\n",
       "      <td>lam(v1,lam(v2,lam(v3,app(v2,lam(v4,app(v1,lam(...</td>\n",
       "    </tr>\n",
       "    <tr>\n",
       "      <th>16</th>\n",
       "      <td>withdrawal</td>\n",
       "      <td>NN</td>\n",
       "      <td>withdrawal</td>\n",
       "      <td>O</td>\n",
       "      <td>1</td>\n",
       "      <td>[]</td>\n",
       "      <td>O</td>\n",
       "      <td>Non-concrete</td>\n",
       "      <td>N</td>\n",
       "      <td>lam(v1,b1:drs([],[b1:[1017]:pred(v1,withdrawal...</td>\n",
       "    </tr>\n",
       "    <tr>\n",
       "      <th>18</th>\n",
       "      <td>British</td>\n",
       "      <td>JJ</td>\n",
       "      <td>uk</td>\n",
       "      <td>B-gpe</td>\n",
       "      <td>0</td>\n",
       "      <td>[]</td>\n",
       "      <td>of</td>\n",
       "      <td>Human</td>\n",
       "      <td>N/N</td>\n",
       "      <td>lam(v1,lam(v2,merge(b1:drs([b1:[]:x1],[b1:[101...</td>\n",
       "    </tr>\n",
       "    <tr>\n",
       "      <th>19</th>\n",
       "      <td>troops</td>\n",
       "      <td>NNS</td>\n",
       "      <td>troops</td>\n",
       "      <td>O</td>\n",
       "      <td>1</td>\n",
       "      <td>[]</td>\n",
       "      <td>O</td>\n",
       "      <td>Human</td>\n",
       "      <td>N</td>\n",
       "      <td>lam(v1,b1:drs([],[b1:[1020]:pred(v1,troops,n,'...</td>\n",
       "    </tr>\n",
       "    <tr>\n",
       "      <th>22</th>\n",
       "      <td>country</td>\n",
       "      <td>NN</td>\n",
       "      <td>country</td>\n",
       "      <td>O</td>\n",
       "      <td>1</td>\n",
       "      <td>[]</td>\n",
       "      <td>O</td>\n",
       "      <td>Non-concrete</td>\n",
       "      <td>N</td>\n",
       "      <td>lam(v1,b1:drs([],[b1:[1023]:pred(v1,country,n,...</td>\n",
       "    </tr>\n",
       "    <tr>\n",
       "      <th>23</th>\n",
       "      <td>.</td>\n",
       "      <td>.</td>\n",
       "      <td>.</td>\n",
       "      <td>O</td>\n",
       "      <td>0</td>\n",
       "      <td>[]</td>\n",
       "      <td>O</td>\n",
       "      <td>O</td>\n",
       "      <td>S[dcl]\\S[dcl]</td>\n",
       "      <td>lam(v1,v1)</td>\n",
       "    </tr>\n",
       "    <tr>\n",
       "      <th>24</th>\n",
       "      <td>Families</td>\n",
       "      <td>NNS</td>\n",
       "      <td>family</td>\n",
       "      <td>O</td>\n",
       "      <td>1</td>\n",
       "      <td>[]</td>\n",
       "      <td>O</td>\n",
       "      <td>Organization</td>\n",
       "      <td>N</td>\n",
       "      <td>lam(v1,b1:drs([],[b1:[2001]:pred(v1,family,n,'...</td>\n",
       "    </tr>\n",
       "    <tr>\n",
       "      <th>26</th>\n",
       "      <td>soldiers</td>\n",
       "      <td>NNS</td>\n",
       "      <td>soldier</td>\n",
       "      <td>O</td>\n",
       "      <td>1</td>\n",
       "      <td>[]</td>\n",
       "      <td>O</td>\n",
       "      <td>Human</td>\n",
       "      <td>N</td>\n",
       "      <td>lam(v1,b1:drs([],[b1:[2003]:pred(v1,soldier,n,...</td>\n",
       "    </tr>\n",
       "    <tr>\n",
       "      <th>27</th>\n",
       "      <td>killed</td>\n",
       "      <td>VBN</td>\n",
       "      <td>kill</td>\n",
       "      <td>O</td>\n",
       "      <td>1</td>\n",
       "      <td>[Patient,Instrument]</td>\n",
       "      <td>O</td>\n",
       "      <td>O</td>\n",
       "      <td>S[pss]\\NP</td>\n",
       "      <td>lam(v1,lam(v2,app(v1,lam(v3,merge(b1:drs([b1:[...</td>\n",
       "    </tr>\n",
       "    <tr>\n",
       "      <th>30</th>\n",
       "      <td>conflict</td>\n",
       "      <td>NN</td>\n",
       "      <td>conflict</td>\n",
       "      <td>O</td>\n",
       "      <td>1</td>\n",
       "      <td>[]</td>\n",
       "      <td>O</td>\n",
       "      <td>Non-concrete</td>\n",
       "      <td>N</td>\n",
       "      <td>lam(v1,b1:drs([],[b1:[2007]:pred(v1,conflict,n...</td>\n",
       "    </tr>\n",
       "    <tr>\n",
       "      <th>31</th>\n",
       "      <td>joined</td>\n",
       "      <td>VBD</td>\n",
       "      <td>join</td>\n",
       "      <td>O</td>\n",
       "      <td>1</td>\n",
       "      <td>[Patient,Agent]</td>\n",
       "      <td>O</td>\n",
       "      <td>O</td>\n",
       "      <td>(S[dcl]\\NP)/NP</td>\n",
       "      <td>lam(v1,lam(v2,lam(v3,app(v2,lam(v4,app(v1,lam(...</td>\n",
       "    </tr>\n",
       "    <tr>\n",
       "      <th>33</th>\n",
       "      <td>protesters</td>\n",
       "      <td>NNS</td>\n",
       "      <td>protester</td>\n",
       "      <td>O</td>\n",
       "      <td>1</td>\n",
       "      <td>[]</td>\n",
       "      <td>O</td>\n",
       "      <td>Human</td>\n",
       "      <td>N</td>\n",
       "      <td>lam(v1,b1:drs([],[b1:[2010]:pred(v1,protester,...</td>\n",
       "    </tr>\n",
       "    <tr>\n",
       "      <th>35</th>\n",
       "      <td>carried</td>\n",
       "      <td>VBD</td>\n",
       "      <td>carry</td>\n",
       "      <td>O</td>\n",
       "      <td>1</td>\n",
       "      <td>[Theme,Agent]</td>\n",
       "      <td>O</td>\n",
       "      <td>O</td>\n",
       "      <td>((S[dcl]\\NP)/PP)/NP</td>\n",
       "      <td>lam(v1,lam(v2,lam(v3,lam(v4,app(v3,lam(v5,app(...</td>\n",
       "    </tr>\n",
       "    <tr>\n",
       "      <th>36</th>\n",
       "      <td>banners</td>\n",
       "      <td>NNS</td>\n",
       "      <td>banner</td>\n",
       "      <td>O</td>\n",
       "      <td>1</td>\n",
       "      <td>[]</td>\n",
       "      <td>O</td>\n",
       "      <td>Non-concrete</td>\n",
       "      <td>N</td>\n",
       "      <td>lam(v1,b1:drs([],[b1:[2013]:pred(v1,banner,n,'...</td>\n",
       "    </tr>\n",
       "    <tr>\n",
       "      <th>39</th>\n",
       "      <td>slogans</td>\n",
       "      <td>NNS</td>\n",
       "      <td>slogan</td>\n",
       "      <td>O</td>\n",
       "      <td>1</td>\n",
       "      <td>[]</td>\n",
       "      <td>O</td>\n",
       "      <td>Non-concrete</td>\n",
       "      <td>N</td>\n",
       "      <td>lam(v1,b1:drs([],[b1:[2016]:pred(v1,slogan,n,'...</td>\n",
       "    </tr>\n",
       "    <tr>\n",
       "      <th>42</th>\n",
       "      <td>Bush</td>\n",
       "      <td>NNP</td>\n",
       "      <td>bush</td>\n",
       "      <td>B-per</td>\n",
       "      <td>1</td>\n",
       "      <td>[]</td>\n",
       "      <td>on</td>\n",
       "      <td>Non-concrete</td>\n",
       "      <td>N/N</td>\n",
       "      <td>lam(v1,lam(v2,merge(b1:drs([b1:[]:x1],[b1:[201...</td>\n",
       "    </tr>\n",
       "    <tr>\n",
       "      <th>43</th>\n",
       "      <td>Number</td>\n",
       "      <td>NN</td>\n",
       "      <td>number</td>\n",
       "      <td>O</td>\n",
       "      <td>1</td>\n",
       "      <td>[]</td>\n",
       "      <td>on</td>\n",
       "      <td>Non-concrete</td>\n",
       "      <td>N/N</td>\n",
       "      <td>lam(v1,lam(v2,merge(b1:drs([b1:[]:x1],[b1:[202...</td>\n",
       "    </tr>\n",
       "    <tr>\n",
       "      <th>44</th>\n",
       "      <td>One</td>\n",
       "      <td>CD</td>\n",
       "      <td>one</td>\n",
       "      <td>O</td>\n",
       "      <td>0</td>\n",
       "      <td>[]</td>\n",
       "      <td>O</td>\n",
       "      <td>O</td>\n",
       "      <td>N/N</td>\n",
       "      <td>lam(v1,lam(v2,merge(b1:drs([],[b1:[2021]:card(...</td>\n",
       "    </tr>\n",
       "    <tr>\n",
       "      <th>45</th>\n",
       "      <td>Terrorist</td>\n",
       "      <td>NN</td>\n",
       "      <td>terrorist</td>\n",
       "      <td>O</td>\n",
       "      <td>1</td>\n",
       "      <td>[]</td>\n",
       "      <td>O</td>\n",
       "      <td>Non-concrete</td>\n",
       "      <td>N</td>\n",
       "      <td>lam(v1,b1:drs([],[b1:[2022]:pred(v1,terrorist,...</td>\n",
       "    </tr>\n",
       "    <tr>\n",
       "      <th>49</th>\n",
       "      <td>Stop</td>\n",
       "      <td>VB</td>\n",
       "      <td>stop</td>\n",
       "      <td>O</td>\n",
       "      <td>1</td>\n",
       "      <td>[Theme,Agent]</td>\n",
       "      <td>O</td>\n",
       "      <td>O</td>\n",
       "      <td>(S[dcl]\\NP)/NP</td>\n",
       "      <td>lam(v1,lam(v2,lam(v3,app(v2,lam(v4,app(v1,lam(...</td>\n",
       "    </tr>\n",
       "    <tr>\n",
       "      <th>51</th>\n",
       "      <td>Bombings</td>\n",
       "      <td>NNS</td>\n",
       "      <td>bombing</td>\n",
       "      <td>O</td>\n",
       "      <td>1</td>\n",
       "      <td>[]</td>\n",
       "      <td>O</td>\n",
       "      <td>Non-concrete</td>\n",
       "      <td>N</td>\n",
       "      <td>lam(v1,b1:drs([],[b1:[2028]:pred(v1,bombing,n,...</td>\n",
       "    </tr>\n",
       "    <tr>\n",
       "      <th>52</th>\n",
       "      <td>.</td>\n",
       "      <td>.</td>\n",
       "      <td>.</td>\n",
       "      <td>O</td>\n",
       "      <td>0</td>\n",
       "      <td>[]</td>\n",
       "      <td>O</td>\n",
       "      <td>O</td>\n",
       "      <td>S[dcl]\\S[dcl]</td>\n",
       "      <td>lam(v1,v1)</td>\n",
       "    </tr>\n",
       "    <tr>\n",
       "      <th>55</th>\n",
       "      <td>marched</td>\n",
       "      <td>VBD</td>\n",
       "      <td>march</td>\n",
       "      <td>O</td>\n",
       "      <td>1</td>\n",
       "      <td>[Theme]</td>\n",
       "      <td>O</td>\n",
       "      <td>O</td>\n",
       "      <td>S[dcl]\\NP</td>\n",
       "      <td>lam(v1,lam(v2,app(v1,lam(v3,merge(b1:drs([b1:[...</td>\n",
       "    </tr>\n",
       "  </tbody>\n",
       "</table>\n",
       "</div>"
      ],
      "text/plain": [
       "            token pos_tag         lemma ner_tag word_net_sense_number  \\\n",
       "0       Thousands     NNS      thousand       O                     1   \n",
       "2   demonstrators     NNS  demonstrator       O                     1   \n",
       "4         marched     VBN         march       O                     1   \n",
       "6          London     NNP        london   B-geo                     1   \n",
       "8         protest      VB       protest       O                     1   \n",
       "10            war      NN           war       O                     1   \n",
       "12           Iraq     NNP          iraq   B-geo                     1   \n",
       "14         demand      VB        demand       O                     1   \n",
       "16     withdrawal      NN    withdrawal       O                     1   \n",
       "18        British      JJ            uk   B-gpe                     0   \n",
       "19         troops     NNS        troops       O                     1   \n",
       "22        country      NN       country       O                     1   \n",
       "23              .       .             .       O                     0   \n",
       "24       Families     NNS        family       O                     1   \n",
       "26       soldiers     NNS       soldier       O                     1   \n",
       "27         killed     VBN          kill       O                     1   \n",
       "30       conflict      NN      conflict       O                     1   \n",
       "31         joined     VBD          join       O                     1   \n",
       "33     protesters     NNS     protester       O                     1   \n",
       "35        carried     VBD         carry       O                     1   \n",
       "36        banners     NNS        banner       O                     1   \n",
       "39        slogans     NNS        slogan       O                     1   \n",
       "42           Bush     NNP          bush   B-per                     1   \n",
       "43         Number      NN        number       O                     1   \n",
       "44            One      CD           one       O                     0   \n",
       "45      Terrorist      NN     terrorist       O                     1   \n",
       "49           Stop      VB          stop       O                     1   \n",
       "51       Bombings     NNS       bombing       O                     1   \n",
       "52              .       .             .       O                     0   \n",
       "55        marched     VBD         march       O                     1   \n",
       "\n",
       "          verb_net_roles semantic_relation   animacy_tag            super_tag  \\\n",
       "0                     []                 O         Human                    N   \n",
       "2                     []                 O         Human                    N   \n",
       "4                [Theme]                 O             O             S[pt]\\NP   \n",
       "6                     []                 O         Place                    N   \n",
       "8          [Theme,Agent]                 O             O         (S[b]\\NP)/NP   \n",
       "10                    []                 O  Non-concrete                    N   \n",
       "12                    []                 O         Place                    N   \n",
       "14     [Recipient,Agent]                 O             O         (S[b]\\NP)/NP   \n",
       "16                    []                 O  Non-concrete                    N   \n",
       "18                    []                of         Human                  N/N   \n",
       "19                    []                 O         Human                    N   \n",
       "22                    []                 O  Non-concrete                    N   \n",
       "23                    []                 O             O        S[dcl]\\S[dcl]   \n",
       "24                    []                 O  Organization                    N   \n",
       "26                    []                 O         Human                    N   \n",
       "27  [Patient,Instrument]                 O             O            S[pss]\\NP   \n",
       "30                    []                 O  Non-concrete                    N   \n",
       "31       [Patient,Agent]                 O             O       (S[dcl]\\NP)/NP   \n",
       "33                    []                 O         Human                    N   \n",
       "35         [Theme,Agent]                 O             O  ((S[dcl]\\NP)/PP)/NP   \n",
       "36                    []                 O  Non-concrete                    N   \n",
       "39                    []                 O  Non-concrete                    N   \n",
       "42                    []                on  Non-concrete                  N/N   \n",
       "43                    []                on  Non-concrete                  N/N   \n",
       "44                    []                 O             O                  N/N   \n",
       "45                    []                 O  Non-concrete                    N   \n",
       "49         [Theme,Agent]                 O             O       (S[dcl]\\NP)/NP   \n",
       "51                    []                 O  Non-concrete                    N   \n",
       "52                    []                 O             O        S[dcl]\\S[dcl]   \n",
       "55               [Theme]                 O             O            S[dcl]\\NP   \n",
       "\n",
       "                                           lambda_dsr  \n",
       "0   lam(v1,b1:drs([],[b1:[1001]:pred(v1,thousand,n...  \n",
       "2   lam(v1,b1:drs([],[b1:[1003]:pred(v1,demonstrat...  \n",
       "4   lam(v1,lam(v2,app(v1,lam(v3,merge(b1:drs([b1:[...  \n",
       "6   lam(v1,b1:drs([],[b1:[1007]:named(v1,london,ge...  \n",
       "8   lam(v1,lam(v2,lam(v3,app(v2,lam(v4,app(v1,lam(...  \n",
       "10  lam(v1,b1:drs([],[b1:[1011]:pred(v1,war,n,'1')]))  \n",
       "12  lam(v1,b1:drs([],[b1:[1013]:named(v1,iraq,geo,...  \n",
       "14  lam(v1,lam(v2,lam(v3,app(v2,lam(v4,app(v1,lam(...  \n",
       "16  lam(v1,b1:drs([],[b1:[1017]:pred(v1,withdrawal...  \n",
       "18  lam(v1,lam(v2,merge(b1:drs([b1:[]:x1],[b1:[101...  \n",
       "19  lam(v1,b1:drs([],[b1:[1020]:pred(v1,troops,n,'...  \n",
       "22  lam(v1,b1:drs([],[b1:[1023]:pred(v1,country,n,...  \n",
       "23                                         lam(v1,v1)  \n",
       "24  lam(v1,b1:drs([],[b1:[2001]:pred(v1,family,n,'...  \n",
       "26  lam(v1,b1:drs([],[b1:[2003]:pred(v1,soldier,n,...  \n",
       "27  lam(v1,lam(v2,app(v1,lam(v3,merge(b1:drs([b1:[...  \n",
       "30  lam(v1,b1:drs([],[b1:[2007]:pred(v1,conflict,n...  \n",
       "31  lam(v1,lam(v2,lam(v3,app(v2,lam(v4,app(v1,lam(...  \n",
       "33  lam(v1,b1:drs([],[b1:[2010]:pred(v1,protester,...  \n",
       "35  lam(v1,lam(v2,lam(v3,lam(v4,app(v3,lam(v5,app(...  \n",
       "36  lam(v1,b1:drs([],[b1:[2013]:pred(v1,banner,n,'...  \n",
       "39  lam(v1,b1:drs([],[b1:[2016]:pred(v1,slogan,n,'...  \n",
       "42  lam(v1,lam(v2,merge(b1:drs([b1:[]:x1],[b1:[201...  \n",
       "43  lam(v1,lam(v2,merge(b1:drs([b1:[]:x1],[b1:[202...  \n",
       "44  lam(v1,lam(v2,merge(b1:drs([],[b1:[2021]:card(...  \n",
       "45  lam(v1,b1:drs([],[b1:[2022]:pred(v1,terrorist,...  \n",
       "49  lam(v1,lam(v2,lam(v3,app(v2,lam(v4,app(v1,lam(...  \n",
       "51  lam(v1,b1:drs([],[b1:[2028]:pred(v1,bombing,n,...  \n",
       "52                                         lam(v1,v1)  \n",
       "55  lam(v1,lam(v2,app(v1,lam(v3,merge(b1:drs([b1:[...  "
      ]
     },
     "execution_count": 53,
     "metadata": {},
     "output_type": "execute_result"
    }
   ],
   "source": [
    "X.head(30)"
   ]
  },
  {
   "cell_type": "code",
   "execution_count": 54,
   "metadata": {},
   "outputs": [
    {
     "data": {
      "text/plain": [
       "O        590495\n",
       "B-geo     42533\n",
       "B-org     23133\n",
       "B-tim     22603\n",
       "I-per     22211\n",
       "B-per     20861\n",
       "I-org     19332\n",
       "B-gpe     19106\n",
       "I-geo     12438\n",
       "I-tim      5481\n",
       "I-gpe       577\n",
       "B-art       409\n",
       "I-art       322\n",
       "B-eve       310\n",
       "I-eve       248\n",
       "B-nat       208\n",
       "I-nat        72\n",
       "Name: ner_tag, dtype: int64"
      ]
     },
     "execution_count": 54,
     "metadata": {},
     "output_type": "execute_result"
    }
   ],
   "source": [
    "X.ner_tag.value_counts()"
   ]
  },
  {
   "cell_type": "code",
   "execution_count": 55,
   "metadata": {},
   "outputs": [
    {
     "data": {
      "text/plain": [
       "17"
      ]
     },
     "execution_count": 55,
     "metadata": {},
     "output_type": "execute_result"
    }
   ],
   "source": [
    "X.ner_tag.nunique()"
   ]
  },
  {
   "cell_type": "markdown",
   "metadata": {},
   "source": [
    "Подход, предложенный в статье, в целом, бьется на три шага:\n",
    "- Подготовка данных;\n",
    "- Оценка параметров (обучение);\n",
    "- Использование модели с обученными параметрами (валидация)."
   ]
  },
  {
   "cell_type": "markdown",
   "metadata": {
    "heading_collapsed": true
   },
   "source": [
    "## Step 1: Data preparation"
   ]
  },
  {
   "cell_type": "code",
   "execution_count": 56,
   "metadata": {
    "hidden": true
   },
   "outputs": [],
   "source": [
    "X, y = SentenceExtractor().fit_transform(X)"
   ]
  },
  {
   "cell_type": "code",
   "execution_count": 57,
   "metadata": {
    "hidden": true
   },
   "outputs": [],
   "source": [
    "lemma_sentence_lenghts = list(map(len, X))"
   ]
  },
  {
   "cell_type": "code",
   "execution_count": 58,
   "metadata": {
    "hidden": true
   },
   "outputs": [],
   "source": [
    "tag_sentence_lenghts = list(map(len, y))"
   ]
  },
  {
   "cell_type": "code",
   "execution_count": 59,
   "metadata": {
    "hidden": true
   },
   "outputs": [
    {
     "data": {
      "text/plain": [
       "61"
      ]
     },
     "execution_count": 59,
     "metadata": {},
     "output_type": "execute_result"
    }
   ],
   "source": [
    "max(lemma_sentence_lenghts)"
   ]
  },
  {
   "cell_type": "code",
   "execution_count": 60,
   "metadata": {
    "hidden": true
   },
   "outputs": [
    {
     "data": {
      "text/plain": [
       "61"
      ]
     },
     "execution_count": 60,
     "metadata": {},
     "output_type": "execute_result"
    }
   ],
   "source": [
    "max(tag_sentence_lenghts)"
   ]
  },
  {
   "cell_type": "code",
   "execution_count": 61,
   "metadata": {
    "hidden": true
   },
   "outputs": [
    {
     "data": {
      "text/plain": [
       "True"
      ]
     },
     "execution_count": 61,
     "metadata": {},
     "output_type": "execute_result"
    }
   ],
   "source": [
    "all(len_lemmas == len_tags for len_lemmas, len_tags in zip(lemma_sentence_lenghts, tag_sentence_lenghts))"
   ]
  },
  {
   "cell_type": "code",
   "execution_count": 62,
   "metadata": {
    "hidden": true
   },
   "outputs": [],
   "source": [
    "X_train, X_test, y_train, y_test = train_test_split(X, y, test_size=0.33, random_state=42)"
   ]
  },
  {
   "cell_type": "markdown",
   "metadata": {
    "heading_collapsed": true
   },
   "source": [
    "## Step 2: HMM Parameter Estimation"
   ]
  },
  {
   "cell_type": "markdown",
   "metadata": {
    "heading_collapsed": true,
    "hidden": true
   },
   "source": [
    "### Step 2.1: Find states."
   ]
  },
  {
   "cell_type": "code",
   "execution_count": 63,
   "metadata": {
    "hidden": true
   },
   "outputs": [],
   "source": [
    "states = list(set([tag for sentence in y_train for tag in sentence]))\n",
    "tag2idx = {t: i for i, t in enumerate(states)}\n",
    "idx2tag = {i: w for w, i in tag2idx.items()}"
   ]
  },
  {
   "cell_type": "code",
   "execution_count": 64,
   "metadata": {
    "hidden": true
   },
   "outputs": [
    {
     "data": {
      "text/plain": [
       "17"
      ]
     },
     "execution_count": 64,
     "metadata": {},
     "output_type": "execute_result"
    }
   ],
   "source": [
    "len(states)"
   ]
  },
  {
   "cell_type": "code",
   "execution_count": 65,
   "metadata": {
    "hidden": true
   },
   "outputs": [
    {
     "data": {
      "text/plain": [
       "['B-art',\n",
       " 'B-nat',\n",
       " 'B-geo',\n",
       " 'B-org',\n",
       " 'I-nat',\n",
       " 'I-per',\n",
       " 'I-art',\n",
       " 'O',\n",
       " 'I-org',\n",
       " 'B-tim',\n",
       " 'B-eve',\n",
       " 'I-tim',\n",
       " 'I-geo',\n",
       " 'I-eve',\n",
       " 'B-gpe',\n",
       " 'I-gpe',\n",
       " 'B-per']"
      ]
     },
     "execution_count": 65,
     "metadata": {},
     "output_type": "execute_result"
    }
   ],
   "source": [
    "states"
   ]
  },
  {
   "cell_type": "markdown",
   "metadata": {
    "heading_collapsed": true,
    "hidden": true
   },
   "source": [
    "### Step 2.2: Calculate Start probability (π)"
   ]
  },
  {
   "cell_type": "code",
   "execution_count": 66,
   "metadata": {
    "hidden": true
   },
   "outputs": [],
   "source": [
    "pi = np.zeros(len(states))"
   ]
  },
  {
   "cell_type": "code",
   "execution_count": 67,
   "metadata": {
    "hidden": true
   },
   "outputs": [],
   "source": [
    "for sentence in y_train:\n",
    "    if len(sentence) > 0:\n",
    "        pi[tag2idx[sentence[0]]] += 1"
   ]
  },
  {
   "cell_type": "code",
   "execution_count": 68,
   "metadata": {
    "hidden": true,
    "scrolled": true
   },
   "outputs": [],
   "source": [
    "pi = pi / len(y_train)"
   ]
  },
  {
   "cell_type": "markdown",
   "metadata": {
    "heading_collapsed": true,
    "hidden": true
   },
   "source": [
    "### Step 2.3: Calculate transition probability (A)"
   ]
  },
  {
   "cell_type": "code",
   "execution_count": 69,
   "metadata": {
    "hidden": true
   },
   "outputs": [],
   "source": [
    "A = np.zeros((len(states), len(states)))\n",
    "A_i = np.zeros(len(states))"
   ]
  },
  {
   "cell_type": "code",
   "execution_count": 70,
   "metadata": {
    "hidden": true
   },
   "outputs": [],
   "source": [
    "for i in range(len(y_train)):\n",
    "    if len(y_train[i]) > 1:\n",
    "        for j in range(len(y_train[i]) - 1):\n",
    "            A[tag2idx[y_train[i][j]]][tag2idx[y_train[i][j + 1]]] += 1\n",
    "            A_i[tag2idx[y_train[i][j]]] += 1\n",
    "        A_i[tag2idx[y_train[i][len(y_train[i]) - 1]]] += 1\n",
    "for i in range(len(states)):\n",
    "    A[i] = A[i] / A_i[i]"
   ]
  },
  {
   "cell_type": "code",
   "execution_count": 71,
   "metadata": {
    "hidden": true
   },
   "outputs": [
    {
     "data": {
      "image/png": "[encoded data removed]",
      "text/plain": [
       "<Figure size 1440x864 with 2 Axes>"
      ]
     },
     "metadata": {
      "needs_background": "light"
     },
     "output_type": "display_data"
    }
   ],
   "source": [
    "plt.figure(figsize=(20, 12))\n",
    "sns.heatmap(A, annot=True, xticklabels=states, yticklabels=states, fmt='.2g')\n",
    "plt.tight_layout()\n",
    "plt.show()"
   ]
  },
  {
   "cell_type": "markdown",
   "metadata": {
    "heading_collapsed": true,
    "hidden": true
   },
   "source": [
    "### Step 2.4: Calculate emission probability (B)"
   ]
  },
  {
   "cell_type": "code",
   "execution_count": 72,
   "metadata": {
    "hidden": true
   },
   "outputs": [],
   "source": [
    "words = list(set([word for sentence in X_train for word in sentence]))\n",
    "words.append('unknown_word')\n",
    "word2idx = {t: i for i, t in enumerate(words)}\n",
    "idx2word = {i: w for w, i in word2idx.items()}"
   ]
  },
  {
   "cell_type": "code",
   "execution_count": 73,
   "metadata": {
    "hidden": true
   },
   "outputs": [
    {
     "data": {
      "text/plain": [
       "22764"
      ]
     },
     "execution_count": 73,
     "metadata": {},
     "output_type": "execute_result"
    }
   ],
   "source": [
    "len(words)"
   ]
  },
  {
   "cell_type": "code",
   "execution_count": 74,
   "metadata": {
    "hidden": true
   },
   "outputs": [],
   "source": [
    "B = np.zeros((len(words), len(states)))\n",
    "B_i = np.zeros(len(states))"
   ]
  },
  {
   "cell_type": "code",
   "execution_count": 75,
   "metadata": {
    "code_folding": [],
    "hidden": true
   },
   "outputs": [],
   "source": [
    "for i in range(len(X_train)):\n",
    "    if len(X_train[i]) > 0:\n",
    "        for j in range(len(X_train[i])):\n",
    "            B[\n",
    "                word2idx[\n",
    "                    X_train[i][j]\n",
    "                ]\n",
    "            ][\n",
    "                tag2idx[\n",
    "                    y_train[i][j]\n",
    "                ]\n",
    "            ] += 1\n",
    "            B_i[tag2idx[y_train[i][j]]] += 1\n",
    "for i in range(len(states)):\n",
    "    B[:, i] = B[:, i] / B_i[i]"
   ]
  },
  {
   "cell_type": "code",
   "execution_count": 76,
   "metadata": {
    "hidden": true
   },
   "outputs": [
    {
     "data": {
      "text/plain": [
       "(17,)"
      ]
     },
     "execution_count": 76,
     "metadata": {},
     "output_type": "execute_result"
    }
   ],
   "source": [
    "np.shape(pi)"
   ]
  },
  {
   "cell_type": "code",
   "execution_count": 77,
   "metadata": {
    "hidden": true
   },
   "outputs": [
    {
     "data": {
      "text/plain": [
       "(17, 17)"
      ]
     },
     "execution_count": 77,
     "metadata": {},
     "output_type": "execute_result"
    }
   ],
   "source": [
    "np.shape(A)"
   ]
  },
  {
   "cell_type": "code",
   "execution_count": 78,
   "metadata": {
    "hidden": true
   },
   "outputs": [
    {
     "data": {
      "text/plain": [
       "(17, 22764)"
      ]
     },
     "execution_count": 78,
     "metadata": {},
     "output_type": "execute_result"
    }
   ],
   "source": [
    "np.shape(B.T)"
   ]
  },
  {
   "cell_type": "markdown",
   "metadata": {},
   "source": [
    "## Step 3: Testing"
   ]
  },
  {
   "cell_type": "markdown",
   "metadata": {},
   "source": [
    "### Step 3.1: Viterby implementation"
   ]
  },
  {
   "cell_type": "code",
   "execution_count": 79,
   "metadata": {},
   "outputs": [],
   "source": [
    "def viterbi(pi, A, B, obs):\n",
    "    nStates = np.shape(B)[0]\n",
    "    T = np.shape(obs)[0]\n",
    "    path = np.zeros(T)\n",
    "    delta = np.zeros((nStates, T))\n",
    "    phi = np.zeros((nStates, T))\n",
    "\n",
    "    try:\n",
    "        delta[:, 0] = pi * B[:, obs[0]]\n",
    "        phi[:, 0] = 0\n",
    "    except:\n",
    "        print('\\t', len(obs))\n",
    "\n",
    "    for t in range(1, T):\n",
    "        for s in range(nStates):\n",
    "            delta[s, t] = np.max(delta[:, t - 1] * A[:, s]) * B[s, obs[t]]\n",
    "            phi[s, t] = np.argmax(delta[:, t - 1] * A[:, s])\n",
    "\n",
    "    path[T - 1] = np.argmax(delta[:, T - 1])\n",
    "    for t in range(T - 2, -1, -1):\n",
    "        #path[t] = phi[int(path[t+1]): int(t+1) , int(t+1)]\n",
    "        path[t] = phi[int(path[t + 1]) , int(t + 1)]\n",
    "\n",
    "    return path, delta, phi"
   ]
  },
  {
   "cell_type": "markdown",
   "metadata": {},
   "source": [
    "### Step 3.2: Implementation testing"
   ]
  },
  {
   "cell_type": "code",
   "execution_count": 80,
   "metadata": {},
   "outputs": [],
   "source": [
    "X_test_num = [[word2idx[word] if word in word2idx else word2idx['unknown_word'] for word in sentence] for sentence in X_test]"
   ]
  },
  {
   "cell_type": "code",
   "execution_count": 81,
   "metadata": {},
   "outputs": [],
   "source": [
    "X_test_num = [sentence for sentence in X_test_num if len(sentence) > 0]"
   ]
  },
  {
   "cell_type": "code",
   "execution_count": 82,
   "metadata": {},
   "outputs": [],
   "source": [
    "y_test = [sentence.tolist() for sentence in y_test if len(sentence) > 0]"
   ]
  },
  {
   "cell_type": "code",
   "execution_count": 83,
   "metadata": {},
   "outputs": [],
   "source": [
    "y_pred = []\n",
    "for sentence in X_test_num:\n",
    "    path, _, _ = viterbi(pi, A, B.T, sentence)\n",
    "    y_pred.append([idx2tag[step] for step in path])"
   ]
  },
  {
   "cell_type": "code",
   "execution_count": 84,
   "metadata": {},
   "outputs": [
    {
     "name": "stdout",
     "output_type": "stream",
     "text": [
      "              precision    recall  f1-score   support\n",
      "\n",
      "       B-art       0.00      0.61      0.01       142\n",
      "       B-eve       0.14      0.21      0.17        97\n",
      "       B-geo       0.73      0.63      0.68     14024\n",
      "       B-gpe       0.63      0.65      0.64      6329\n",
      "       B-nat       0.24      0.23      0.24        65\n",
      "       B-org       0.75      0.54      0.63      7663\n",
      "       B-per       0.82      0.64      0.72      6909\n",
      "       B-tim       0.92      0.69      0.79      7352\n",
      "       I-art       0.13      0.12      0.12       111\n",
      "       I-eve       0.14      0.24      0.18        94\n",
      "       I-geo       0.70      0.66      0.68      4178\n",
      "       I-gpe       0.63      0.45      0.52       212\n",
      "       I-nat       0.17      0.48      0.25        21\n",
      "       I-org       0.65      0.54      0.59      6374\n",
      "       I-per       0.81      0.73      0.77      7322\n",
      "       I-tim       0.77      0.55      0.64      1863\n",
      "           O       0.97      0.85      0.91    175267\n",
      "\n",
      "   micro avg       0.79      0.79      0.79    238023\n",
      "   macro avg       0.54      0.52      0.50    238023\n",
      "weighted avg       0.91      0.79      0.85    238023\n",
      "\n"
     ]
    }
   ],
   "source": [
    "crfsuite_report = crfsuite_classification_report(y_pred=y_pred, y_true=y_test)\n",
    "print(crfsuite_report)"
   ]
  },
  {
   "cell_type": "code",
   "execution_count": 85,
   "metadata": {},
   "outputs": [
    {
     "name": "stdout",
     "output_type": "stream",
     "text": [
      "             precision    recall  f1-score   support\n",
      "\n",
      "        tim       0.87      0.65      0.75      7352\n",
      "        per       0.73      0.57      0.64      6909\n",
      "        geo       0.70      0.60      0.65     14024\n",
      "        gpe       0.63      0.65      0.64      6329\n",
      "        org       0.63      0.45      0.53      7663\n",
      "        eve       0.11      0.16      0.13        97\n",
      "        nat       0.24      0.23      0.24        65\n",
      "        art       0.00      0.38      0.00       142\n",
      "\n",
      "avg / total       0.71      0.58      0.64     42581\n",
      "\n"
     ]
    }
   ],
   "source": [
    "seqeval_report = seqeval_classification_report(y_pred=y_pred, y_true=y_test)\n",
    "print(seqeval_report)"
   ]
  },
  {
   "cell_type": "markdown",
   "metadata": {},
   "source": [
    "# CRF"
   ]
  },
  {
   "cell_type": "markdown",
   "metadata": {},
   "source": [
    "## Data reading"
   ]
  },
  {
   "cell_type": "code",
   "execution_count": 86,
   "metadata": {},
   "outputs": [
    {
     "data": {
      "application/vnd.jupyter.widget-view+json": {
       "model_id": "b1dd11dc1dd64c4b9cdb42e1ec7cf7af",
       "version_major": 2,
       "version_minor": 0
      },
      "text/plain": [
       "HBox(children=(IntProgress(value=0, description='Read folders: '), HTML(value='')))"
      ]
     },
     "metadata": {},
     "output_type": "display_data"
    },
    {
     "name": "stdout",
     "output_type": "stream",
     "text": [
      "\n"
     ]
    },
    {
     "data": {
      "application/vnd.jupyter.widget-view+json": {
       "model_id": "83c31e691dad4ee5b91d501ea9d615e7",
       "version_major": 2,
       "version_minor": 0
      },
      "text/plain": [
       "HBox(children=(IntProgress(value=0, description='Filter folders: ', max=10000), HTML(value='')))"
      ]
     },
     "metadata": {},
     "output_type": "display_data"
    },
    {
     "name": "stdout",
     "output_type": "stream",
     "text": [
      "\n"
     ]
    }
   ],
   "source": [
    "target_subcorpus_folders = filter_by_subcorpus('../data/datasets/gmb-2.2.0/', 'subcorpus: Voice of America')"
   ]
  },
  {
   "cell_type": "code",
   "execution_count": 87,
   "metadata": {},
   "outputs": [],
   "source": [
    "X = get_tagged_texts_as_pd(target_subcorpus_folders, '../data/datasets/gmb-2.2.0/')"
   ]
  },
  {
   "cell_type": "code",
   "execution_count": 88,
   "metadata": {},
   "outputs": [
    {
     "data": {
      "text/plain": [
       "O          1032479\n",
       "geo-nam      55480\n",
       "org-nam      44646\n",
       "per-nam      22931\n",
       "gpe-nam      19685\n",
       "tim-dow      11398\n",
       "tim-dat      10929\n",
       "per-tit       9672\n",
       "per-fam       8098\n",
       "[]            4064\n",
       "tim-moy       3811\n",
       "tim-yoc       3009\n",
       "per-giv       2376\n",
       "tim-clo        810\n",
       "art-nam        789\n",
       "eve-nam        514\n",
       "nat-nam        280\n",
       "tim-nam        132\n",
       "eve-ord         63\n",
       "per-ini         55\n",
       "per-ord         35\n",
       "org-leg         13\n",
       "tim-dom          8\n",
       "per-mid          1\n",
       "art-add          1\n",
       "Name: ner_tag, dtype: int64"
      ]
     },
     "execution_count": 88,
     "metadata": {},
     "output_type": "execute_result"
    }
   ],
   "source": [
    "X.ner_tag.value_counts()"
   ]
  },
  {
   "cell_type": "code",
   "execution_count": 89,
   "metadata": {},
   "outputs": [
    {
     "data": {
      "application/vnd.jupyter.widget-view+json": {
       "model_id": "29ea8de9deb94e1cb6b3b1cf8f985651",
       "version_major": 2,
       "version_minor": 0
      },
      "text/plain": [
       "HBox(children=(IntProgress(value=0, description='Punctuation without dots: ', max=1231279), HTML(value='')))"
      ]
     },
     "metadata": {},
     "output_type": "display_data"
    },
    {
     "name": "stdout",
     "output_type": "stream",
     "text": [
      "\n"
     ]
    },
    {
     "data": {
      "application/vnd.jupyter.widget-view+json": {
       "model_id": "b66f475019514b58849402002410a5a6",
       "version_major": 2,
       "version_minor": 0
      },
      "text/plain": [
       "HBox(children=(IntProgress(value=0, description='Target tags: ', max=780339), HTML(value='')))"
      ]
     },
     "metadata": {},
     "output_type": "display_data"
    },
    {
     "name": "stdout",
     "output_type": "stream",
     "text": [
      "\n"
     ]
    },
    {
     "data": {
      "application/vnd.jupyter.widget-view+json": {
       "model_id": "83010e6a02fa44a69785a742b3cdfb91",
       "version_major": 2,
       "version_minor": 0
      },
      "text/plain": [
       "HBox(children=(IntProgress(value=0, description='IOB to BIO: ', max=780339), HTML(value='')))"
      ]
     },
     "metadata": {},
     "output_type": "display_data"
    },
    {
     "name": "stdout",
     "output_type": "stream",
     "text": [
      "\n"
     ]
    }
   ],
   "source": [
    "X = filtrations(X, with_dots=True)"
   ]
  },
  {
   "cell_type": "code",
   "execution_count": 90,
   "metadata": {},
   "outputs": [
    {
     "data": {
      "text/plain": [
       "O        590495\n",
       "B-geo     42533\n",
       "B-org     23133\n",
       "B-tim     22603\n",
       "I-per     22211\n",
       "B-per     20861\n",
       "I-org     19332\n",
       "B-gpe     19106\n",
       "I-geo     12438\n",
       "I-tim      5481\n",
       "I-gpe       577\n",
       "B-art       409\n",
       "I-art       322\n",
       "B-eve       310\n",
       "I-eve       248\n",
       "B-nat       208\n",
       "I-nat        72\n",
       "Name: ner_tag, dtype: int64"
      ]
     },
     "execution_count": 90,
     "metadata": {},
     "output_type": "execute_result"
    }
   ],
   "source": [
    "X.ner_tag.value_counts()"
   ]
  },
  {
   "cell_type": "code",
   "execution_count": 91,
   "metadata": {},
   "outputs": [
    {
     "data": {
      "application/vnd.jupyter.widget-view+json": {
       "model_id": "b80c5e23d55a47a1857f5f70bae9f41d",
       "version_major": 2,
       "version_minor": 0
      },
      "text/plain": [
       "HBox(children=(IntProgress(value=0, description='Semantic relation: ', max=780339), HTML(value='')))"
      ]
     },
     "metadata": {},
     "output_type": "display_data"
    },
    {
     "name": "stdout",
     "output_type": "stream",
     "text": [
      "\n"
     ]
    },
    {
     "data": {
      "application/vnd.jupyter.widget-view+json": {
       "model_id": "48a7c41ea7f143fc8da5f94b67a4f88c",
       "version_major": 2,
       "version_minor": 0
      },
      "text/plain": [
       "HBox(children=(IntProgress(value=0, description='Animacy tagged: ', max=780339), HTML(value='')))"
      ]
     },
     "metadata": {},
     "output_type": "display_data"
    },
    {
     "name": "stdout",
     "output_type": "stream",
     "text": [
      "\n"
     ]
    },
    {
     "data": {
      "application/vnd.jupyter.widget-view+json": {
       "model_id": "5b5a91ed75e84663ae559bdfc4c8144f",
       "version_major": 2,
       "version_minor": 0
      },
      "text/plain": [
       "HBox(children=(IntProgress(value=0, description='Lambda-DSR len: ', max=780339), HTML(value='')))"
      ]
     },
     "metadata": {},
     "output_type": "display_data"
    },
    {
     "name": "stdout",
     "output_type": "stream",
     "text": [
      "\n"
     ]
    },
    {
     "data": {
      "application/vnd.jupyter.widget-view+json": {
       "model_id": "e7960f60d53e46db9b02d0b501bbdf15",
       "version_major": 2,
       "version_minor": 0
      },
      "text/plain": [
       "HBox(children=(IntProgress(value=0, description='Word sense: ', max=780339), HTML(value='')))"
      ]
     },
     "metadata": {},
     "output_type": "display_data"
    },
    {
     "name": "stdout",
     "output_type": "stream",
     "text": [
      "\n"
     ]
    },
    {
     "data": {
      "application/vnd.jupyter.widget-view+json": {
       "model_id": "319dfa1672564b73bcf10ec2782a611d",
       "version_major": 2,
       "version_minor": 0
      },
      "text/plain": [
       "HBox(children=(IntProgress(value=0, description='Is title: ', max=780339), HTML(value='')))"
      ]
     },
     "metadata": {},
     "output_type": "display_data"
    },
    {
     "name": "stdout",
     "output_type": "stream",
     "text": [
      "\n"
     ]
    },
    {
     "data": {
      "application/vnd.jupyter.widget-view+json": {
       "model_id": "e82c25d095534266bc6f0817c7b35a4a",
       "version_major": 2,
       "version_minor": 0
      },
      "text/plain": [
       "HBox(children=(IntProgress(value=0, description='Contains digits: ', max=780339), HTML(value='')))"
      ]
     },
     "metadata": {},
     "output_type": "display_data"
    },
    {
     "name": "stdout",
     "output_type": "stream",
     "text": [
      "\n"
     ]
    },
    {
     "data": {
      "application/vnd.jupyter.widget-view+json": {
       "model_id": "ff1e12fef2434102b96f7b4be4c3992b",
       "version_major": 2,
       "version_minor": 0
      },
      "text/plain": [
       "HBox(children=(IntProgress(value=0, description='Word len: ', max=780339), HTML(value='')))"
      ]
     },
     "metadata": {},
     "output_type": "display_data"
    },
    {
     "name": "stdout",
     "output_type": "stream",
     "text": [
      "\n"
     ]
    }
   ],
   "source": [
    "X = additional_features(X)"
   ]
  },
  {
   "cell_type": "code",
   "execution_count": 92,
   "metadata": {},
   "outputs": [
    {
     "name": "stdout",
     "output_type": "stream",
     "text": [
      "<class 'pandas.core.frame.DataFrame'>\n",
      "Int64Index: 780339 entries, 0 to 1231278\n",
      "Data columns (total 17 columns):\n",
      "token                       780339 non-null object\n",
      "pos_tag                     780339 non-null object\n",
      "lemma                       780339 non-null object\n",
      "ner_tag                     780339 non-null object\n",
      "word_net_sense_number       780339 non-null object\n",
      "verb_net_roles              780339 non-null object\n",
      "semantic_relation           780339 non-null object\n",
      "animacy_tag                 780339 non-null object\n",
      "super_tag                   780339 non-null object\n",
      "lambda_dsr                  780339 non-null object\n",
      "semantic_relation_tagged    780339 non-null int64\n",
      "animacy_tagged              780339 non-null int64\n",
      "lambda_dsr_len              780339 non-null int64\n",
      "word_sense_exists           780339 non-null int64\n",
      "is_title                    780339 non-null int64\n",
      "contains_digits             780339 non-null int64\n",
      "word_len                    780339 non-null int64\n",
      "dtypes: int64(7), object(10)\n",
      "memory usage: 107.2+ MB\n"
     ]
    }
   ],
   "source": [
    "X.info()"
   ]
  },
  {
   "cell_type": "code",
   "execution_count": 94,
   "metadata": {},
   "outputs": [],
   "source": [
    "X, y = crf_pre_processing(X)"
   ]
  },
  {
   "cell_type": "code",
   "execution_count": 95,
   "metadata": {},
   "outputs": [],
   "source": [
    "X_train, X_test, y_train, y_test = train_test_split(X, y, test_size=0.33, random_state=42)"
   ]
  },
  {
   "cell_type": "code",
   "execution_count": 96,
   "metadata": {},
   "outputs": [],
   "source": [
    "estimator = sklearn_crf(algorithm='lbfgs', c1=0.1, c2=0.1, max_iterations=100, all_possible_transitions=False)"
   ]
  },
  {
   "cell_type": "code",
   "execution_count": 97,
   "metadata": {},
   "outputs": [
    {
     "name": "stderr",
     "output_type": "stream",
     "text": [
      "[Parallel(n_jobs=-1)]: Using backend LokyBackend with 8 concurrent workers.\n",
      "[Parallel(n_jobs=-1)]: Done   2 out of   5 | elapsed:  1.8min remaining:  2.8min\n",
      "[Parallel(n_jobs=-1)]: Done   5 out of   5 | elapsed:  1.9min finished\n"
     ]
    }
   ],
   "source": [
    "scores = cross_val_score(estimator, X_train, y_train, cv=5, verbose=True, n_jobs=-1)"
   ]
  },
  {
   "cell_type": "code",
   "execution_count": 98,
   "metadata": {},
   "outputs": [
    {
     "data": {
      "text/plain": [
       "array([0.97682903, 0.97806954, 0.97669285, 0.9776526 , 0.97740342])"
      ]
     },
     "execution_count": 98,
     "metadata": {},
     "output_type": "execute_result"
    }
   ],
   "source": [
    "scores"
   ]
  },
  {
   "cell_type": "code",
   "execution_count": 99,
   "metadata": {},
   "outputs": [
    {
     "data": {
      "text/plain": [
       "CRF(algorithm='lbfgs', all_possible_states=None,\n",
       "  all_possible_transitions=False, averaging=None, c=None, c1=0.1, c2=0.1,\n",
       "  calibration_candidates=None, calibration_eta=None,\n",
       "  calibration_max_trials=None, calibration_rate=None,\n",
       "  calibration_samples=None, delta=None, epsilon=None, error_sensitive=None,\n",
       "  gamma=None, keep_tempfiles=None, linesearch=None, max_iterations=100,\n",
       "  max_linesearch=None, min_freq=None, model_filename=None,\n",
       "  num_memories=None, pa_type=None, period=None, trainer_cls=None,\n",
       "  variance=None, verbose=False)"
      ]
     },
     "execution_count": 99,
     "metadata": {},
     "output_type": "execute_result"
    }
   ],
   "source": [
    "estimator.fit(X_train, y_train)"
   ]
  },
  {
   "cell_type": "code",
   "execution_count": 100,
   "metadata": {},
   "outputs": [],
   "source": [
    "y_pred = estimator.predict(X_test)"
   ]
  },
  {
   "cell_type": "code",
   "execution_count": 103,
   "metadata": {},
   "outputs": [],
   "source": [
    "y_test = [sentence.tolist() for sentence in y_test]"
   ]
  },
  {
   "cell_type": "markdown",
   "metadata": {},
   "source": [
    "## Testing"
   ]
  },
  {
   "cell_type": "code",
   "execution_count": 104,
   "metadata": {},
   "outputs": [
    {
     "name": "stdout",
     "output_type": "stream",
     "text": [
      "              precision    recall  f1-score   support\n",
      "\n",
      "       B-art       0.73      0.44      0.55       142\n",
      "       B-eve       0.69      0.41      0.52        97\n",
      "       B-geo       0.95      0.96      0.96     14024\n",
      "       B-gpe       0.99      0.96      0.98      6329\n",
      "       B-nat       0.93      0.63      0.75        65\n",
      "       B-org       0.90      0.88      0.89      7663\n",
      "       B-per       0.91      0.88      0.89      6909\n",
      "       B-tim       0.97      0.95      0.96      7352\n",
      "       I-art       0.71      0.63      0.67       111\n",
      "       I-eve       0.64      0.24      0.35        94\n",
      "       I-geo       0.94      0.96      0.95      4178\n",
      "       I-gpe       0.86      0.60      0.71       212\n",
      "       I-nat       0.88      0.67      0.76        21\n",
      "       I-org       0.92      0.94      0.93      6374\n",
      "       I-per       0.92      0.94      0.93      7322\n",
      "       I-tim       0.88      0.91      0.90      1863\n",
      "           O       0.99      0.99      0.99    175267\n",
      "\n",
      "   micro avg       0.98      0.98      0.98    238023\n",
      "   macro avg       0.87      0.77      0.81    238023\n",
      "weighted avg       0.98      0.98      0.98    238023\n",
      "\n"
     ]
    }
   ],
   "source": [
    "report = crfsuite_classification_report(y_pred=y_pred, y_true=y_test)\n",
    "print(report)"
   ]
  },
  {
   "cell_type": "code",
   "execution_count": 105,
   "metadata": {},
   "outputs": [
    {
     "name": "stdout",
     "output_type": "stream",
     "text": [
      "             precision    recall  f1-score   support\n",
      "\n",
      "        tim       0.95      0.94      0.95      7352\n",
      "        per       0.88      0.85      0.86      6909\n",
      "        geo       0.94      0.96      0.95     14024\n",
      "        gpe       0.98      0.96      0.97      6329\n",
      "        org       0.88      0.86      0.87      7663\n",
      "        nat       0.93      0.63      0.75        65\n",
      "        art       0.71      0.44      0.54       142\n",
      "        eve       0.64      0.38      0.48        97\n",
      "\n",
      "avg / total       0.93      0.92      0.92     42581\n",
      "\n"
     ]
    }
   ],
   "source": [
    "seqeval_report = seqeval_classification_report(y_pred=y_pred, y_true=y_test)\n",
    "print(seqeval_report)"
   ]
  },
  {
   "cell_type": "markdown",
   "metadata": {},
   "source": [
    "# Bi-LSTM"
   ]
  },
  {
   "cell_type": "markdown",
   "metadata": {},
   "source": [
    "## Data reading"
   ]
  },
  {
   "cell_type": "code",
   "execution_count": 106,
   "metadata": {
    "scrolled": true
   },
   "outputs": [
    {
     "data": {
      "application/vnd.jupyter.widget-view+json": {
       "model_id": "2a59b30bd53d4630abda09c7895f2591",
       "version_major": 2,
       "version_minor": 0
      },
      "text/plain": [
       "HBox(children=(IntProgress(value=0, description='Read folders: '), HTML(value='')))"
      ]
     },
     "metadata": {},
     "output_type": "display_data"
    },
    {
     "name": "stdout",
     "output_type": "stream",
     "text": [
      "\n"
     ]
    },
    {
     "data": {
      "application/vnd.jupyter.widget-view+json": {
       "model_id": "4261c895f66046419cf81de5f337278c",
       "version_major": 2,
       "version_minor": 0
      },
      "text/plain": [
       "HBox(children=(IntProgress(value=0, description='Filter folders: ', max=10000), HTML(value='')))"
      ]
     },
     "metadata": {},
     "output_type": "display_data"
    },
    {
     "name": "stdout",
     "output_type": "stream",
     "text": [
      "\n"
     ]
    }
   ],
   "source": [
    "target_subcorpus_folders = filter_by_subcorpus('../data/datasets/gmb-2.2.0/', 'subcorpus: Voice of America')"
   ]
  },
  {
   "cell_type": "code",
   "execution_count": 107,
   "metadata": {},
   "outputs": [],
   "source": [
    "X = get_tagged_texts_as_pd(target_subcorpus_folders, '../data/datasets/gmb-2.2.0/')"
   ]
  },
  {
   "cell_type": "code",
   "execution_count": 108,
   "metadata": {
    "scrolled": false
   },
   "outputs": [
    {
     "data": {
      "text/html": [
       "<div>\n",
       "<style scoped>\n",
       "    .dataframe tbody tr th:only-of-type {\n",
       "        vertical-align: middle;\n",
       "    }\n",
       "\n",
       "    .dataframe tbody tr th {\n",
       "        vertical-align: top;\n",
       "    }\n",
       "\n",
       "    .dataframe thead th {\n",
       "        text-align: right;\n",
       "    }\n",
       "</style>\n",
       "<table border=\"1\" class=\"dataframe\">\n",
       "  <thead>\n",
       "    <tr style=\"text-align: right;\">\n",
       "      <th></th>\n",
       "      <th>token</th>\n",
       "      <th>pos_tag</th>\n",
       "      <th>lemma</th>\n",
       "      <th>ner_tag</th>\n",
       "      <th>word_net_sense_number</th>\n",
       "      <th>verb_net_roles</th>\n",
       "      <th>semantic_relation</th>\n",
       "      <th>animacy_tag</th>\n",
       "      <th>super_tag</th>\n",
       "      <th>lambda_dsr</th>\n",
       "    </tr>\n",
       "  </thead>\n",
       "  <tbody>\n",
       "    <tr>\n",
       "      <th>0</th>\n",
       "      <td>Thousands</td>\n",
       "      <td>NNS</td>\n",
       "      <td>thousand</td>\n",
       "      <td>O</td>\n",
       "      <td>1</td>\n",
       "      <td>[]</td>\n",
       "      <td>O</td>\n",
       "      <td>Human</td>\n",
       "      <td>N</td>\n",
       "      <td>lam(v1,b1:drs([],[b1:[1001]:pred(v1,thousand,n...</td>\n",
       "    </tr>\n",
       "    <tr>\n",
       "      <th>1</th>\n",
       "      <td>of</td>\n",
       "      <td>IN</td>\n",
       "      <td>of</td>\n",
       "      <td>O</td>\n",
       "      <td>0</td>\n",
       "      <td>[]</td>\n",
       "      <td>O</td>\n",
       "      <td>O</td>\n",
       "      <td>(NP\\NP)/NP</td>\n",
       "      <td>lam(v1,lam(v2,lam(v3,app(v2,lam(v4,app(v1,lam(...</td>\n",
       "    </tr>\n",
       "    <tr>\n",
       "      <th>2</th>\n",
       "      <td>demonstrators</td>\n",
       "      <td>NNS</td>\n",
       "      <td>demonstrator</td>\n",
       "      <td>O</td>\n",
       "      <td>1</td>\n",
       "      <td>[]</td>\n",
       "      <td>O</td>\n",
       "      <td>Human</td>\n",
       "      <td>N</td>\n",
       "      <td>lam(v1,b1:drs([],[b1:[1003]:pred(v1,demonstrat...</td>\n",
       "    </tr>\n",
       "    <tr>\n",
       "      <th>3</th>\n",
       "      <td>have</td>\n",
       "      <td>VBP</td>\n",
       "      <td>have</td>\n",
       "      <td>O</td>\n",
       "      <td>0</td>\n",
       "      <td>[]</td>\n",
       "      <td>O</td>\n",
       "      <td>O</td>\n",
       "      <td>(S[dcl]\\NP)/(S[pt]\\NP)</td>\n",
       "      <td>lam(v1,lam(v2,lam(v3,app(app(v1,v2),lam(v4,mer...</td>\n",
       "    </tr>\n",
       "    <tr>\n",
       "      <th>4</th>\n",
       "      <td>marched</td>\n",
       "      <td>VBN</td>\n",
       "      <td>march</td>\n",
       "      <td>O</td>\n",
       "      <td>1</td>\n",
       "      <td>[Theme]</td>\n",
       "      <td>O</td>\n",
       "      <td>O</td>\n",
       "      <td>S[pt]\\NP</td>\n",
       "      <td>lam(v1,lam(v2,app(v1,lam(v3,merge(b1:drs([b1:[...</td>\n",
       "    </tr>\n",
       "    <tr>\n",
       "      <th>5</th>\n",
       "      <td>through</td>\n",
       "      <td>IN</td>\n",
       "      <td>through</td>\n",
       "      <td>O</td>\n",
       "      <td>0</td>\n",
       "      <td>[]</td>\n",
       "      <td>O</td>\n",
       "      <td>O</td>\n",
       "      <td>((S[pt]\\NP)\\(S[pt]\\NP))/NP</td>\n",
       "      <td>lam(v1,lam(v2,lam(v3,lam(v4,app(app(v2,v3),lam...</td>\n",
       "    </tr>\n",
       "    <tr>\n",
       "      <th>6</th>\n",
       "      <td>London</td>\n",
       "      <td>NNP</td>\n",
       "      <td>london</td>\n",
       "      <td>geo-nam</td>\n",
       "      <td>1</td>\n",
       "      <td>[]</td>\n",
       "      <td>O</td>\n",
       "      <td>Place</td>\n",
       "      <td>N</td>\n",
       "      <td>lam(v1,b1:drs([],[b1:[1007]:named(v1,london,ge...</td>\n",
       "    </tr>\n",
       "    <tr>\n",
       "      <th>7</th>\n",
       "      <td>to</td>\n",
       "      <td>TO</td>\n",
       "      <td>to</td>\n",
       "      <td>O</td>\n",
       "      <td>0</td>\n",
       "      <td>[]</td>\n",
       "      <td>O</td>\n",
       "      <td>O</td>\n",
       "      <td>(S[to]\\NP)/(S[b]\\NP)</td>\n",
       "      <td>lam(v1,lam(v2,lam(v3,merge(b1:drs([b1:[1008]:p...</td>\n",
       "    </tr>\n",
       "    <tr>\n",
       "      <th>8</th>\n",
       "      <td>protest</td>\n",
       "      <td>VB</td>\n",
       "      <td>protest</td>\n",
       "      <td>O</td>\n",
       "      <td>1</td>\n",
       "      <td>[Theme,Agent]</td>\n",
       "      <td>O</td>\n",
       "      <td>O</td>\n",
       "      <td>(S[b]\\NP)/NP</td>\n",
       "      <td>lam(v1,lam(v2,lam(v3,app(v2,lam(v4,app(v1,lam(...</td>\n",
       "    </tr>\n",
       "    <tr>\n",
       "      <th>9</th>\n",
       "      <td>the</td>\n",
       "      <td>DT</td>\n",
       "      <td>the</td>\n",
       "      <td>O</td>\n",
       "      <td>0</td>\n",
       "      <td>[]</td>\n",
       "      <td>O</td>\n",
       "      <td>O</td>\n",
       "      <td>NP/N</td>\n",
       "      <td>lam(v1,lam(v2,alfa(def,merge(b1:drs([b1:[1010]...</td>\n",
       "    </tr>\n",
       "    <tr>\n",
       "      <th>10</th>\n",
       "      <td>war</td>\n",
       "      <td>NN</td>\n",
       "      <td>war</td>\n",
       "      <td>O</td>\n",
       "      <td>1</td>\n",
       "      <td>[]</td>\n",
       "      <td>O</td>\n",
       "      <td>Non-concrete</td>\n",
       "      <td>N</td>\n",
       "      <td>lam(v1,b1:drs([],[b1:[1011]:pred(v1,war,n,'1')]))</td>\n",
       "    </tr>\n",
       "    <tr>\n",
       "      <th>11</th>\n",
       "      <td>in</td>\n",
       "      <td>IN</td>\n",
       "      <td>in</td>\n",
       "      <td>O</td>\n",
       "      <td>0</td>\n",
       "      <td>[]</td>\n",
       "      <td>O</td>\n",
       "      <td>O</td>\n",
       "      <td>(NP\\NP)/NP</td>\n",
       "      <td>lam(v1,lam(v2,lam(v3,app(v2,lam(v4,app(v1,lam(...</td>\n",
       "    </tr>\n",
       "    <tr>\n",
       "      <th>12</th>\n",
       "      <td>Iraq</td>\n",
       "      <td>NNP</td>\n",
       "      <td>iraq</td>\n",
       "      <td>geo-nam</td>\n",
       "      <td>1</td>\n",
       "      <td>[]</td>\n",
       "      <td>O</td>\n",
       "      <td>Place</td>\n",
       "      <td>N</td>\n",
       "      <td>lam(v1,b1:drs([],[b1:[1013]:named(v1,iraq,geo,...</td>\n",
       "    </tr>\n",
       "    <tr>\n",
       "      <th>13</th>\n",
       "      <td>and</td>\n",
       "      <td>CC</td>\n",
       "      <td>and</td>\n",
       "      <td>O</td>\n",
       "      <td>0</td>\n",
       "      <td>[]</td>\n",
       "      <td>O</td>\n",
       "      <td>O</td>\n",
       "      <td>conj</td>\n",
       "      <td>lam(v1,lam(v2,lam(v3,lam(v4,sdrs([lab(k1,app(a...</td>\n",
       "    </tr>\n",
       "    <tr>\n",
       "      <th>14</th>\n",
       "      <td>demand</td>\n",
       "      <td>VB</td>\n",
       "      <td>demand</td>\n",
       "      <td>O</td>\n",
       "      <td>1</td>\n",
       "      <td>[Recipient,Agent]</td>\n",
       "      <td>O</td>\n",
       "      <td>O</td>\n",
       "      <td>(S[b]\\NP)/NP</td>\n",
       "      <td>lam(v1,lam(v2,lam(v3,app(v2,lam(v4,app(v1,lam(...</td>\n",
       "    </tr>\n",
       "    <tr>\n",
       "      <th>15</th>\n",
       "      <td>the</td>\n",
       "      <td>DT</td>\n",
       "      <td>the</td>\n",
       "      <td>O</td>\n",
       "      <td>0</td>\n",
       "      <td>[]</td>\n",
       "      <td>O</td>\n",
       "      <td>O</td>\n",
       "      <td>NP/N</td>\n",
       "      <td>lam(v1,lam(v2,alfa(def,merge(b1:drs([b1:[1016]...</td>\n",
       "    </tr>\n",
       "    <tr>\n",
       "      <th>16</th>\n",
       "      <td>withdrawal</td>\n",
       "      <td>NN</td>\n",
       "      <td>withdrawal</td>\n",
       "      <td>O</td>\n",
       "      <td>1</td>\n",
       "      <td>[]</td>\n",
       "      <td>O</td>\n",
       "      <td>Non-concrete</td>\n",
       "      <td>N</td>\n",
       "      <td>lam(v1,b1:drs([],[b1:[1017]:pred(v1,withdrawal...</td>\n",
       "    </tr>\n",
       "    <tr>\n",
       "      <th>17</th>\n",
       "      <td>of</td>\n",
       "      <td>IN</td>\n",
       "      <td>of</td>\n",
       "      <td>O</td>\n",
       "      <td>0</td>\n",
       "      <td>[]</td>\n",
       "      <td>O</td>\n",
       "      <td>O</td>\n",
       "      <td>(NP\\NP)/NP</td>\n",
       "      <td>lam(v1,lam(v2,lam(v3,app(v2,lam(v4,app(v1,lam(...</td>\n",
       "    </tr>\n",
       "    <tr>\n",
       "      <th>18</th>\n",
       "      <td>British</td>\n",
       "      <td>JJ</td>\n",
       "      <td>uk</td>\n",
       "      <td>gpe-nam</td>\n",
       "      <td>0</td>\n",
       "      <td>[]</td>\n",
       "      <td>of</td>\n",
       "      <td>Human</td>\n",
       "      <td>N/N</td>\n",
       "      <td>lam(v1,lam(v2,merge(b1:drs([b1:[]:x1],[b1:[101...</td>\n",
       "    </tr>\n",
       "    <tr>\n",
       "      <th>19</th>\n",
       "      <td>troops</td>\n",
       "      <td>NNS</td>\n",
       "      <td>troops</td>\n",
       "      <td>O</td>\n",
       "      <td>1</td>\n",
       "      <td>[]</td>\n",
       "      <td>O</td>\n",
       "      <td>Human</td>\n",
       "      <td>N</td>\n",
       "      <td>lam(v1,b1:drs([],[b1:[1020]:pred(v1,troops,n,'...</td>\n",
       "    </tr>\n",
       "    <tr>\n",
       "      <th>20</th>\n",
       "      <td>from</td>\n",
       "      <td>IN</td>\n",
       "      <td>from</td>\n",
       "      <td>O</td>\n",
       "      <td>0</td>\n",
       "      <td>[]</td>\n",
       "      <td>O</td>\n",
       "      <td>O</td>\n",
       "      <td>(NP\\NP)/NP</td>\n",
       "      <td>lam(v1,lam(v2,lam(v3,app(v2,lam(v4,app(v1,lam(...</td>\n",
       "    </tr>\n",
       "    <tr>\n",
       "      <th>21</th>\n",
       "      <td>that</td>\n",
       "      <td>DT</td>\n",
       "      <td>that</td>\n",
       "      <td>O</td>\n",
       "      <td>0</td>\n",
       "      <td>[]</td>\n",
       "      <td>O</td>\n",
       "      <td>O</td>\n",
       "      <td>NP/N</td>\n",
       "      <td>lam(v1,lam(v2,alfa(def,merge(b1:drs([b1:[1022]...</td>\n",
       "    </tr>\n",
       "    <tr>\n",
       "      <th>22</th>\n",
       "      <td>country</td>\n",
       "      <td>NN</td>\n",
       "      <td>country</td>\n",
       "      <td>O</td>\n",
       "      <td>1</td>\n",
       "      <td>[]</td>\n",
       "      <td>O</td>\n",
       "      <td>Non-concrete</td>\n",
       "      <td>N</td>\n",
       "      <td>lam(v1,b1:drs([],[b1:[1023]:pred(v1,country,n,...</td>\n",
       "    </tr>\n",
       "    <tr>\n",
       "      <th>23</th>\n",
       "      <td>.</td>\n",
       "      <td>.</td>\n",
       "      <td>.</td>\n",
       "      <td>O</td>\n",
       "      <td>0</td>\n",
       "      <td>[]</td>\n",
       "      <td>O</td>\n",
       "      <td>O</td>\n",
       "      <td>S[dcl]\\S[dcl]</td>\n",
       "      <td>lam(v1,v1)</td>\n",
       "    </tr>\n",
       "    <tr>\n",
       "      <th>24</th>\n",
       "      <td>Families</td>\n",
       "      <td>NNS</td>\n",
       "      <td>family</td>\n",
       "      <td>O</td>\n",
       "      <td>1</td>\n",
       "      <td>[]</td>\n",
       "      <td>O</td>\n",
       "      <td>Organization</td>\n",
       "      <td>N</td>\n",
       "      <td>lam(v1,b1:drs([],[b1:[2001]:pred(v1,family,n,'...</td>\n",
       "    </tr>\n",
       "    <tr>\n",
       "      <th>25</th>\n",
       "      <td>of</td>\n",
       "      <td>IN</td>\n",
       "      <td>of</td>\n",
       "      <td>O</td>\n",
       "      <td>0</td>\n",
       "      <td>[]</td>\n",
       "      <td>O</td>\n",
       "      <td>O</td>\n",
       "      <td>(NP\\NP)/NP</td>\n",
       "      <td>lam(v1,lam(v2,lam(v3,app(v2,lam(v4,app(v1,lam(...</td>\n",
       "    </tr>\n",
       "    <tr>\n",
       "      <th>26</th>\n",
       "      <td>soldiers</td>\n",
       "      <td>NNS</td>\n",
       "      <td>soldier</td>\n",
       "      <td>O</td>\n",
       "      <td>1</td>\n",
       "      <td>[]</td>\n",
       "      <td>O</td>\n",
       "      <td>Human</td>\n",
       "      <td>N</td>\n",
       "      <td>lam(v1,b1:drs([],[b1:[2003]:pred(v1,soldier,n,...</td>\n",
       "    </tr>\n",
       "    <tr>\n",
       "      <th>27</th>\n",
       "      <td>killed</td>\n",
       "      <td>VBN</td>\n",
       "      <td>kill</td>\n",
       "      <td>O</td>\n",
       "      <td>1</td>\n",
       "      <td>[Patient,Instrument]</td>\n",
       "      <td>O</td>\n",
       "      <td>O</td>\n",
       "      <td>S[pss]\\NP</td>\n",
       "      <td>lam(v1,lam(v2,app(v1,lam(v3,merge(b1:drs([b1:[...</td>\n",
       "    </tr>\n",
       "    <tr>\n",
       "      <th>28</th>\n",
       "      <td>in</td>\n",
       "      <td>IN</td>\n",
       "      <td>in</td>\n",
       "      <td>O</td>\n",
       "      <td>0</td>\n",
       "      <td>[]</td>\n",
       "      <td>O</td>\n",
       "      <td>O</td>\n",
       "      <td>((S[pss]\\NP)\\(S[pss]\\NP))/NP</td>\n",
       "      <td>lam(v1,lam(v2,lam(v3,lam(v4,app(app(v2,v3),lam...</td>\n",
       "    </tr>\n",
       "    <tr>\n",
       "      <th>29</th>\n",
       "      <td>the</td>\n",
       "      <td>DT</td>\n",
       "      <td>the</td>\n",
       "      <td>O</td>\n",
       "      <td>0</td>\n",
       "      <td>[]</td>\n",
       "      <td>O</td>\n",
       "      <td>O</td>\n",
       "      <td>NP/N</td>\n",
       "      <td>lam(v1,lam(v2,alfa(def,merge(b1:drs([b1:[2006]...</td>\n",
       "    </tr>\n",
       "  </tbody>\n",
       "</table>\n",
       "</div>"
      ],
      "text/plain": [
       "            token pos_tag         lemma  ner_tag word_net_sense_number  \\\n",
       "0       Thousands     NNS      thousand        O                     1   \n",
       "1              of      IN            of        O                     0   \n",
       "2   demonstrators     NNS  demonstrator        O                     1   \n",
       "3            have     VBP          have        O                     0   \n",
       "4         marched     VBN         march        O                     1   \n",
       "5         through      IN       through        O                     0   \n",
       "6          London     NNP        london  geo-nam                     1   \n",
       "7              to      TO            to        O                     0   \n",
       "8         protest      VB       protest        O                     1   \n",
       "9             the      DT           the        O                     0   \n",
       "10            war      NN           war        O                     1   \n",
       "11             in      IN            in        O                     0   \n",
       "12           Iraq     NNP          iraq  geo-nam                     1   \n",
       "13            and      CC           and        O                     0   \n",
       "14         demand      VB        demand        O                     1   \n",
       "15            the      DT           the        O                     0   \n",
       "16     withdrawal      NN    withdrawal        O                     1   \n",
       "17             of      IN            of        O                     0   \n",
       "18        British      JJ            uk  gpe-nam                     0   \n",
       "19         troops     NNS        troops        O                     1   \n",
       "20           from      IN          from        O                     0   \n",
       "21           that      DT          that        O                     0   \n",
       "22        country      NN       country        O                     1   \n",
       "23              .       .             .        O                     0   \n",
       "24       Families     NNS        family        O                     1   \n",
       "25             of      IN            of        O                     0   \n",
       "26       soldiers     NNS       soldier        O                     1   \n",
       "27         killed     VBN          kill        O                     1   \n",
       "28             in      IN            in        O                     0   \n",
       "29            the      DT           the        O                     0   \n",
       "\n",
       "          verb_net_roles semantic_relation   animacy_tag  \\\n",
       "0                     []                 O         Human   \n",
       "1                     []                 O             O   \n",
       "2                     []                 O         Human   \n",
       "3                     []                 O             O   \n",
       "4                [Theme]                 O             O   \n",
       "5                     []                 O             O   \n",
       "6                     []                 O         Place   \n",
       "7                     []                 O             O   \n",
       "8          [Theme,Agent]                 O             O   \n",
       "9                     []                 O             O   \n",
       "10                    []                 O  Non-concrete   \n",
       "11                    []                 O             O   \n",
       "12                    []                 O         Place   \n",
       "13                    []                 O             O   \n",
       "14     [Recipient,Agent]                 O             O   \n",
       "15                    []                 O             O   \n",
       "16                    []                 O  Non-concrete   \n",
       "17                    []                 O             O   \n",
       "18                    []                of         Human   \n",
       "19                    []                 O         Human   \n",
       "20                    []                 O             O   \n",
       "21                    []                 O             O   \n",
       "22                    []                 O  Non-concrete   \n",
       "23                    []                 O             O   \n",
       "24                    []                 O  Organization   \n",
       "25                    []                 O             O   \n",
       "26                    []                 O         Human   \n",
       "27  [Patient,Instrument]                 O             O   \n",
       "28                    []                 O             O   \n",
       "29                    []                 O             O   \n",
       "\n",
       "                       super_tag  \\\n",
       "0                              N   \n",
       "1                     (NP\\NP)/NP   \n",
       "2                              N   \n",
       "3         (S[dcl]\\NP)/(S[pt]\\NP)   \n",
       "4                       S[pt]\\NP   \n",
       "5     ((S[pt]\\NP)\\(S[pt]\\NP))/NP   \n",
       "6                              N   \n",
       "7           (S[to]\\NP)/(S[b]\\NP)   \n",
       "8                   (S[b]\\NP)/NP   \n",
       "9                           NP/N   \n",
       "10                             N   \n",
       "11                    (NP\\NP)/NP   \n",
       "12                             N   \n",
       "13                          conj   \n",
       "14                  (S[b]\\NP)/NP   \n",
       "15                          NP/N   \n",
       "16                             N   \n",
       "17                    (NP\\NP)/NP   \n",
       "18                           N/N   \n",
       "19                             N   \n",
       "20                    (NP\\NP)/NP   \n",
       "21                          NP/N   \n",
       "22                             N   \n",
       "23                 S[dcl]\\S[dcl]   \n",
       "24                             N   \n",
       "25                    (NP\\NP)/NP   \n",
       "26                             N   \n",
       "27                     S[pss]\\NP   \n",
       "28  ((S[pss]\\NP)\\(S[pss]\\NP))/NP   \n",
       "29                          NP/N   \n",
       "\n",
       "                                           lambda_dsr  \n",
       "0   lam(v1,b1:drs([],[b1:[1001]:pred(v1,thousand,n...  \n",
       "1   lam(v1,lam(v2,lam(v3,app(v2,lam(v4,app(v1,lam(...  \n",
       "2   lam(v1,b1:drs([],[b1:[1003]:pred(v1,demonstrat...  \n",
       "3   lam(v1,lam(v2,lam(v3,app(app(v1,v2),lam(v4,mer...  \n",
       "4   lam(v1,lam(v2,app(v1,lam(v3,merge(b1:drs([b1:[...  \n",
       "5   lam(v1,lam(v2,lam(v3,lam(v4,app(app(v2,v3),lam...  \n",
       "6   lam(v1,b1:drs([],[b1:[1007]:named(v1,london,ge...  \n",
       "7   lam(v1,lam(v2,lam(v3,merge(b1:drs([b1:[1008]:p...  \n",
       "8   lam(v1,lam(v2,lam(v3,app(v2,lam(v4,app(v1,lam(...  \n",
       "9   lam(v1,lam(v2,alfa(def,merge(b1:drs([b1:[1010]...  \n",
       "10  lam(v1,b1:drs([],[b1:[1011]:pred(v1,war,n,'1')]))  \n",
       "11  lam(v1,lam(v2,lam(v3,app(v2,lam(v4,app(v1,lam(...  \n",
       "12  lam(v1,b1:drs([],[b1:[1013]:named(v1,iraq,geo,...  \n",
       "13  lam(v1,lam(v2,lam(v3,lam(v4,sdrs([lab(k1,app(a...  \n",
       "14  lam(v1,lam(v2,lam(v3,app(v2,lam(v4,app(v1,lam(...  \n",
       "15  lam(v1,lam(v2,alfa(def,merge(b1:drs([b1:[1016]...  \n",
       "16  lam(v1,b1:drs([],[b1:[1017]:pred(v1,withdrawal...  \n",
       "17  lam(v1,lam(v2,lam(v3,app(v2,lam(v4,app(v1,lam(...  \n",
       "18  lam(v1,lam(v2,merge(b1:drs([b1:[]:x1],[b1:[101...  \n",
       "19  lam(v1,b1:drs([],[b1:[1020]:pred(v1,troops,n,'...  \n",
       "20  lam(v1,lam(v2,lam(v3,app(v2,lam(v4,app(v1,lam(...  \n",
       "21  lam(v1,lam(v2,alfa(def,merge(b1:drs([b1:[1022]...  \n",
       "22  lam(v1,b1:drs([],[b1:[1023]:pred(v1,country,n,...  \n",
       "23                                         lam(v1,v1)  \n",
       "24  lam(v1,b1:drs([],[b1:[2001]:pred(v1,family,n,'...  \n",
       "25  lam(v1,lam(v2,lam(v3,app(v2,lam(v4,app(v1,lam(...  \n",
       "26  lam(v1,b1:drs([],[b1:[2003]:pred(v1,soldier,n,...  \n",
       "27  lam(v1,lam(v2,app(v1,lam(v3,merge(b1:drs([b1:[...  \n",
       "28  lam(v1,lam(v2,lam(v3,lam(v4,app(app(v2,v3),lam...  \n",
       "29  lam(v1,lam(v2,alfa(def,merge(b1:drs([b1:[2006]...  "
      ]
     },
     "execution_count": 108,
     "metadata": {},
     "output_type": "execute_result"
    }
   ],
   "source": [
    "X.head(30)"
   ]
  },
  {
   "cell_type": "code",
   "execution_count": 109,
   "metadata": {},
   "outputs": [
    {
     "data": {
      "text/plain": [
       "O          1032479\n",
       "geo-nam      55480\n",
       "org-nam      44646\n",
       "per-nam      22931\n",
       "gpe-nam      19685\n",
       "tim-dow      11398\n",
       "tim-dat      10929\n",
       "per-tit       9672\n",
       "per-fam       8098\n",
       "[]            4064\n",
       "tim-moy       3811\n",
       "tim-yoc       3009\n",
       "per-giv       2376\n",
       "tim-clo        810\n",
       "art-nam        789\n",
       "eve-nam        514\n",
       "nat-nam        280\n",
       "tim-nam        132\n",
       "eve-ord         63\n",
       "per-ini         55\n",
       "per-ord         35\n",
       "org-leg         13\n",
       "tim-dom          8\n",
       "per-mid          1\n",
       "art-add          1\n",
       "Name: ner_tag, dtype: int64"
      ]
     },
     "execution_count": 109,
     "metadata": {},
     "output_type": "execute_result"
    }
   ],
   "source": [
    "X.ner_tag.value_counts()"
   ]
  },
  {
   "cell_type": "code",
   "execution_count": 110,
   "metadata": {},
   "outputs": [
    {
     "data": {
      "application/vnd.jupyter.widget-view+json": {
       "model_id": "845de6d7a9f7480b8d3c9720fb011c3e",
       "version_major": 2,
       "version_minor": 0
      },
      "text/plain": [
       "HBox(children=(IntProgress(value=0, description='Punctuation without dots: ', max=1231279), HTML(value='')))"
      ]
     },
     "metadata": {},
     "output_type": "display_data"
    },
    {
     "name": "stdout",
     "output_type": "stream",
     "text": [
      "\n"
     ]
    },
    {
     "data": {
      "application/vnd.jupyter.widget-view+json": {
       "model_id": "97417849623e45dcb09936410961c5f9",
       "version_major": 2,
       "version_minor": 0
      },
      "text/plain": [
       "HBox(children=(IntProgress(value=0, description='Target tags: ', max=780339), HTML(value='')))"
      ]
     },
     "metadata": {},
     "output_type": "display_data"
    },
    {
     "name": "stdout",
     "output_type": "stream",
     "text": [
      "\n"
     ]
    },
    {
     "data": {
      "application/vnd.jupyter.widget-view+json": {
       "model_id": "02c52638329f46d1a3a1a83737201eea",
       "version_major": 2,
       "version_minor": 0
      },
      "text/plain": [
       "HBox(children=(IntProgress(value=0, description='IOB to BIO: ', max=780339), HTML(value='')))"
      ]
     },
     "metadata": {},
     "output_type": "display_data"
    },
    {
     "name": "stdout",
     "output_type": "stream",
     "text": [
      "\n"
     ]
    }
   ],
   "source": [
    "X = filtrations(X, with_dots=True)"
   ]
  },
  {
   "cell_type": "code",
   "execution_count": 111,
   "metadata": {},
   "outputs": [
    {
     "data": {
      "text/plain": [
       "O        590495\n",
       "B-geo     42533\n",
       "B-org     23133\n",
       "B-tim     22603\n",
       "I-per     22211\n",
       "B-per     20861\n",
       "I-org     19332\n",
       "B-gpe     19106\n",
       "I-geo     12438\n",
       "I-tim      5481\n",
       "I-gpe       577\n",
       "B-art       409\n",
       "I-art       322\n",
       "B-eve       310\n",
       "I-eve       248\n",
       "B-nat       208\n",
       "I-nat        72\n",
       "Name: ner_tag, dtype: int64"
      ]
     },
     "execution_count": 111,
     "metadata": {},
     "output_type": "execute_result"
    }
   ],
   "source": [
    "X.ner_tag.value_counts()"
   ]
  },
  {
   "cell_type": "code",
   "execution_count": 112,
   "metadata": {},
   "outputs": [
    {
     "data": {
      "text/plain": [
       "17"
      ]
     },
     "execution_count": 112,
     "metadata": {},
     "output_type": "execute_result"
    }
   ],
   "source": [
    "X.ner_tag.nunique()"
   ]
  },
  {
   "cell_type": "code",
   "execution_count": 113,
   "metadata": {},
   "outputs": [],
   "source": [
    "X, y = SentenceExtractor().fit_transform(X)"
   ]
  },
  {
   "cell_type": "code",
   "execution_count": 114,
   "metadata": {},
   "outputs": [],
   "source": [
    "X_train, X_test, y_train, y_test = train_test_split(X, y, test_size=0.33, random_state=42)"
   ]
  },
  {
   "cell_type": "code",
   "execution_count": 115,
   "metadata": {},
   "outputs": [],
   "source": [
    "estimator = BiLSTMTagger(checkpoint_dir='../data/datasets/keras_model/')"
   ]
  },
  {
   "cell_type": "code",
   "execution_count": 116,
   "metadata": {
    "scrolled": false
   },
   "outputs": [
    {
     "name": "stdout",
     "output_type": "stream",
     "text": [
      "_________________________________________________________________\n",
      "Layer (type)                 Output Shape              Param #   \n",
      "=================================================================\n",
      "input_1 (InputLayer)         (None, 75)                0         \n",
      "_________________________________________________________________\n",
      "embedding_1 (Embedding)      (None, 75, 20)            455320    \n",
      "_________________________________________________________________\n",
      "bidirectional_1 (Bidirection (None, 75, 100)           28400     \n",
      "_________________________________________________________________\n",
      "time_distributed_1 (TimeDist (None, 75, 50)            5050      \n",
      "_________________________________________________________________\n",
      "crf_1 (CRF)                  (None, 75, 17)            1190      \n",
      "=================================================================\n",
      "Total params: 489,960\n",
      "Trainable params: 489,960\n",
      "Non-trainable params: 0\n",
      "_________________________________________________________________\n"
     ]
    },
    {
     "data": {
      "application/vnd.jupyter.widget-view+json": {
       "model_id": "47fb871257cb4c8e8346a206db6189f2",
       "version_major": 2,
       "version_minor": 0
      },
      "text/plain": [
       "HBox(children=(IntProgress(value=0, description='Training', max=5), HTML(value='')))"
      ]
     },
     "metadata": {},
     "output_type": "display_data"
    },
    {
     "data": {
      "application/vnd.jupyter.widget-view+json": {
       "model_id": "",
       "version_major": 2,
       "version_minor": 0
      },
      "text/plain": [
       "HBox(children=(IntProgress(value=0, description='Epoch 0', max=34213), HTML(value='')))"
      ]
     },
     "metadata": {},
     "output_type": "display_data"
    },
    {
     "name": "stdout",
     "output_type": "stream",
     "text": [
      "\n",
      "Epoch 00001: val_loss improved from inf to 0.05665, saving model to ../data/datasets/keras_model/model.h5\n"
     ]
    },
    {
     "data": {
      "application/vnd.jupyter.widget-view+json": {
       "model_id": "",
       "version_major": 2,
       "version_minor": 0
      },
      "text/plain": [
       "HBox(children=(IntProgress(value=0, description='Epoch 1', max=34213), HTML(value='')))"
      ]
     },
     "metadata": {},
     "output_type": "display_data"
    },
    {
     "name": "stdout",
     "output_type": "stream",
     "text": [
      "\n",
      "Epoch 00002: val_loss improved from 0.05665 to 0.04224, saving model to ../data/datasets/keras_model/model.h5\n"
     ]
    },
    {
     "data": {
      "application/vnd.jupyter.widget-view+json": {
       "model_id": "",
       "version_major": 2,
       "version_minor": 0
      },
      "text/plain": [
       "HBox(children=(IntProgress(value=0, description='Epoch 2', max=34213), HTML(value='')))"
      ]
     },
     "metadata": {},
     "output_type": "display_data"
    },
    {
     "name": "stdout",
     "output_type": "stream",
     "text": [
      "\n",
      "Epoch 00003: val_loss improved from 0.04224 to 0.03295, saving model to ../data/datasets/keras_model/model.h5\n"
     ]
    },
    {
     "data": {
      "application/vnd.jupyter.widget-view+json": {
       "model_id": "",
       "version_major": 2,
       "version_minor": 0
      },
      "text/plain": [
       "HBox(children=(IntProgress(value=0, description='Epoch 3', max=34213), HTML(value='')))"
      ]
     },
     "metadata": {},
     "output_type": "display_data"
    },
    {
     "name": "stdout",
     "output_type": "stream",
     "text": [
      "\n",
      "Epoch 00004: val_loss improved from 0.03295 to 0.03007, saving model to ../data/datasets/keras_model/model.h5\n"
     ]
    },
    {
     "data": {
      "application/vnd.jupyter.widget-view+json": {
       "model_id": "",
       "version_major": 2,
       "version_minor": 0
      },
      "text/plain": [
       "HBox(children=(IntProgress(value=0, description='Epoch 4', max=34213), HTML(value='')))"
      ]
     },
     "metadata": {},
     "output_type": "display_data"
    },
    {
     "name": "stdout",
     "output_type": "stream",
     "text": [
      "\n",
      "Epoch 00005: val_loss improved from 0.03007 to 0.02893, saving model to ../data/datasets/keras_model/model.h5\n",
      "\n"
     ]
    }
   ],
   "source": [
    "estimator.fit(X_train, y_train)"
   ]
  },
  {
   "cell_type": "code",
   "execution_count": 117,
   "metadata": {},
   "outputs": [
    {
     "name": "stdout",
     "output_type": "stream",
     "text": [
      "18725/18725 [==============================] - ETA: 4: - ETA: 1: - ETA: 1: - ETA: 48s - ETA: 41 - ETA: 37 - ETA: 34 - ETA: 31 - ETA: 28 - ETA: 27 - ETA: 25 - ETA: 25 - ETA: 24 - ETA: 22 - ETA: 22 - ETA: 22 - ETA: 21 - ETA: 20 - ETA: 20 - ETA: 20 - ETA: 20 - ETA: 19 - ETA: 19 - ETA: 19 - ETA: 18 - ETA: 18 - ETA: 18 - ETA: 17 - ETA: 17 - ETA: 17 - ETA: 17 - ETA: 17 - ETA: 16 - ETA: 16 - ETA: 16 - ETA: 16 - ETA: 16 - ETA: 16 - ETA: 16 - ETA: 16 - ETA: 16 - ETA: 15 - ETA: 15 - ETA: 15 - ETA: 15 - ETA: 15 - ETA: 15 - ETA: 15 - ETA: 15 - ETA: 15 - ETA: 15 - ETA: 14 - ETA: 14 - ETA: 14 - ETA: 14 - ETA: 14 - ETA: 14 - ETA: 14 - ETA: 14 - ETA: 14 - ETA: 14 - ETA: 14 - ETA: 13 - ETA: 13 - ETA: 13 - ETA: 13 - ETA: 13 - ETA: 13 - ETA: 13 - ETA: 13 - ETA: 13 - ETA: 13 - ETA: 13 - ETA: 13 - ETA: 12 - ETA: 12 - ETA: 12 - ETA: 12 - ETA: 12 - ETA: 12 - ETA: 12 - ETA: 12 - ETA: 12 - ETA: 11 - ETA: 11 - ETA: 11 - ETA: 11 - ETA: 11 - ETA: 11 - ETA: 11 - ETA: 11 - ETA: 11 - ETA: 11 - ETA: 10 - ETA: 10 - ETA: 10 - ETA: 10 - ETA: 10 - ETA: 10 - ETA: 10 - ETA: 10 - ETA: 10 - ETA: 10 - ETA: 10 - ETA: 10 - ETA: 10 - ETA: 10 - ETA: 10 - ETA: 10 - ETA: 9 - ETA:  - ETA:  - ETA:  - ETA:  - ETA:  - ETA:  - ETA:  - ETA:  - ETA:  - ETA:  - ETA:  - ETA:  - ETA:  - ETA:  - ETA:  - ETA:  - ETA:  - ETA:  - ETA:  - ETA:  - ETA:  - ETA:  - ETA:  - ETA:  - ETA:  - ETA:  - ETA:  - ETA:  - ETA:  - ETA:  - ETA:  - ETA:  - ETA:  - ETA:  - ETA:  - ETA:  - ETA:  - ETA:  - ETA:  - ETA:  - ETA:  - ETA:  - ETA:  - ETA:  - ETA:  - ETA:  - ETA:  - ETA:  - ETA:  - ETA:  - ETA:  - ETA:  - ETA:  - ETA:  - ETA:  - ETA:  - ETA:  - ETA:  - ETA:  - ETA:  - ETA:  - ETA:  - ETA:  - ETA:  - ETA:  - ETA:  - ETA:  - ETA:  - ETA:  - ETA:  - ETA:  - ETA:  - ETA:  - ETA:  - ETA:  - ETA:  - ETA:  - ETA:  - ETA:  - ETA:  - ETA:  - ETA:  - ETA:  - ETA:  - ETA:  - ETA:  - ETA:  - ETA:  - ETA:  - ETA:  - ETA:  - ETA:  - ETA:  - ETA:  - ETA:  - ETA:  - ETA:  - ETA:  - ETA:  - ETA:  - ETA:  - ETA:  - ETA:  - ETA:  - ETA:  - ETA:  - ETA:  - ETA:  - ETA:  - ETA:  - ETA:  - ETA:  - ETA:  - ETA:  - ETA:  - ETA:  - ETA:  - ETA:  - ETA:  - ETA:  - ETA:  - ETA:  - ETA:  - ETA:  - ETA:  - ETA:  - ETA:  - ETA:  - ETA:  - ETA:  - ETA:  - ETA:  - ETA:  - ETA:  - ETA:  - ETA:  - ETA:  - ETA:  - ETA:  - ETA:  - ETA:  - ETA:  - ETA:  - ETA:  - ETA:  - ETA:  - ETA:  - ETA:  - ETA:  - ETA:  - ETA:  - 16s 857us/step\n"
     ]
    }
   ],
   "source": [
    "y_pred = estimator.predict(X_test)"
   ]
  },
  {
   "cell_type": "code",
   "execution_count": 118,
   "metadata": {},
   "outputs": [],
   "source": [
    "y_test = [[estimator.tag2idx[w] for w in s] for s in y_test]\n",
    "y_test = pad_sequences(maxlen=75, sequences=y_test, padding=\"post\", value=estimator.tag2idx[\"O\"])\n",
    "y_test = [[estimator.idx2tag[w] for w in s] for s in y_test]"
   ]
  },
  {
   "cell_type": "markdown",
   "metadata": {},
   "source": [
    "## Testing"
   ]
  },
  {
   "cell_type": "code",
   "execution_count": 119,
   "metadata": {},
   "outputs": [
    {
     "name": "stdout",
     "output_type": "stream",
     "text": [
      "              precision    recall  f1-score   support\n",
      "\n",
      "       B-art       0.00      0.00      0.00       142\n",
      "       B-eve       0.00      0.00      0.00        97\n",
      "       B-geo       0.81      0.79      0.80     14024\n",
      "       B-gpe       0.83      0.89      0.86      6329\n",
      "       B-nat       0.00      0.00      0.00        65\n",
      "       B-org       0.79      0.55      0.65      7663\n",
      "       B-per       0.82      0.75      0.79      6909\n",
      "       B-tim       0.90      0.85      0.88      7352\n",
      "       I-art       0.00      0.00      0.00       111\n",
      "       I-eve       0.00      0.00      0.00        94\n",
      "       I-geo       0.79      0.72      0.75      4178\n",
      "       I-gpe       0.66      0.63      0.64       212\n",
      "       I-nat       0.00      0.00      0.00        21\n",
      "       I-org       0.74      0.51      0.61      6374\n",
      "       I-per       0.86      0.76      0.80      7322\n",
      "       I-tim       0.77      0.66      0.71      1863\n",
      "           O       0.99      1.00      1.00   1341619\n",
      "\n",
      "   micro avg       0.99      0.99      0.99   1404375\n",
      "   macro avg       0.53      0.48      0.50   1404375\n",
      "weighted avg       0.99      0.99      0.99   1404375\n",
      "\n"
     ]
    }
   ],
   "source": [
    "crfsuite_report = crfsuite_classification_report(y_pred=y_pred, y_true=y_test)\n",
    "print(crfsuite_report)"
   ]
  },
  {
   "cell_type": "code",
   "execution_count": 120,
   "metadata": {},
   "outputs": [
    {
     "name": "stdout",
     "output_type": "stream",
     "text": [
      "             precision    recall  f1-score   support\n",
      "\n",
      "        org       0.72      0.50      0.59      7663\n",
      "        per       0.71      0.64      0.67      6909\n",
      "        geo       0.79      0.77      0.78     14024\n",
      "        gpe       0.83      0.89      0.86      6329\n",
      "        tim       0.86      0.81      0.84      7352\n",
      "        eve       0.00      0.00      0.00        97\n",
      "        nat       0.00      0.00      0.00        65\n",
      "        art       0.00      0.00      0.00       142\n",
      "\n",
      "avg / total       0.78      0.72      0.74     42581\n",
      "\n"
     ]
    }
   ],
   "source": [
    "seqeval_report = seqeval_classification_report(y_pred=y_pred, y_true=y_test)\n",
    "print(seqeval_report)"
   ]
  },
  {
   "cell_type": "markdown",
   "metadata": {},
   "source": [
    "# Conclusion"
   ]
  },
  {
   "cell_type": "markdown",
   "metadata": {},
   "source": [
    "Итак, в данной работе были предприняты:\n",
    "- простая попытка запомнить частоту тэгов для конкретных слов и выдача тэга с максимальной частотой для конкретного слова;\n",
    "- попытка использовать какой-нибудь мульти-классификатор;\n",
    "- попытка реализовать вариант скрытой марковской модели с использованием алгоритма Витерби для нахождения максимально вероятной цепочки скрытых состояний;\n",
    "- попытка использовать CRF;\n",
    "- попытка использовать двунаправленную LSTM.\n",
    "\n",
    "Для корректного расчета метрик использовалась библиотека [seqeval](https://github.com/chakki-works/seqeval), она позволяет считать метрики с учетом особенностей многословных именованых сущностей.\n",
    "\n",
    "Лучше всего на тесте себя показал CRF."
   ]
  }
 ],
 "metadata": {
  "hide_input": false,
  "kernelspec": {
   "display_name": "NLP",
   "language": "python",
   "name": "nlp"
  },
  "language_info": {
   "codemirror_mode": {
    "name": "ipython",
    "version": 3
   },
   "file_extension": ".py",
   "mimetype": "text/x-python",
   "name": "python",
   "nbconvert_exporter": "python",
   "pygments_lexer": "ipython3",
   "version": "3.6.5"
  },
  "toc": {
   "base_numbering": 1,
   "nav_menu": {},
   "number_sections": true,
   "sideBar": true,
   "skip_h1_title": false,
   "title_cell": "Table of Contents",
   "title_sidebar": "Contents",
   "toc_cell": false,
   "toc_position": {
    "height": "calc(100% - 180px)",
    "left": "10px",
    "top": "150px",
    "width": "384px"
   },
   "toc_section_display": true,
   "toc_window_display": true
  }
 },
 "nbformat": 4,
 "nbformat_minor": 1
}
