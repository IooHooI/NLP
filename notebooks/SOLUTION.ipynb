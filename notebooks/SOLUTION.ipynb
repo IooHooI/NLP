{
 "cells": [
  {
   "cell_type": "markdown",
   "metadata": {
    "collapsed": true
   },
   "source": [
    "# All imports necessary"
   ]
  },
  {
   "cell_type": "code",
   "execution_count": 1,
   "metadata": {},
   "outputs": [],
   "source": [
    "import warnings\n",
    "warnings.filterwarnings(\"ignore\")"
   ]
  },
  {
   "cell_type": "code",
   "execution_count": 2,
   "metadata": {},
   "outputs": [],
   "source": [
    "import sys"
   ]
  },
  {
   "cell_type": "code",
   "execution_count": 3,
   "metadata": {},
   "outputs": [],
   "source": [
    "sys.path.append('..')"
   ]
  },
  {
   "cell_type": "code",
   "execution_count": 4,
   "metadata": {},
   "outputs": [],
   "source": [
    "import os\n",
    "import numpy as np\n",
    "import pandas as pd"
   ]
  },
  {
   "cell_type": "code",
   "execution_count": 6,
   "metadata": {},
   "outputs": [],
   "source": [
    "from source.code.utils.utils import filter_by_subcorpus\n",
    "from source.code.utils.utils import get_tagged_texts_as_pd\n",
    "\n",
    "from source.code.models.memorytagger import MemoryTagger\n",
    "from source.code.models.bilstmtagger import BiLSTMTagger\n",
    "\n",
    "from source.code.utils.preprocessing import filtrations\n",
    "from source.code.utils.preprocessing import additional_features\n",
    "from source.code.utils.preprocessing import crf_pre_processing"
   ]
  },
  {
   "cell_type": "code",
   "execution_count": 7,
   "metadata": {},
   "outputs": [],
   "source": [
    "from sklearn_crfsuite.metrics import flat_classification_report\n",
    "\n",
    "from sklearn_crfsuite import metrics\n",
    "\n",
    "from sklearn_crfsuite import CRF as sklearn_crf"
   ]
  },
  {
   "cell_type": "code",
   "execution_count": 8,
   "metadata": {},
   "outputs": [],
   "source": [
    "from sklearn.metrics import classification_report\n",
    "\n",
    "from sklearn.ensemble import RandomForestClassifier\n",
    "\n",
    "from sklearn.model_selection import train_test_split\n",
    "\n",
    "from sklearn.model_selection import cross_val_score"
   ]
  },
  {
   "cell_type": "code",
   "execution_count": 9,
   "metadata": {},
   "outputs": [],
   "source": [
    "from keras.preprocessing.sequence import pad_sequences"
   ]
  },
  {
   "cell_type": "code",
   "execution_count": 10,
   "metadata": {},
   "outputs": [],
   "source": [
    "features = ['semantic_relation_tagged', 'animacy_tagged', 'lambda_dsr_len', 'word_sense_exists', 'is_title', 'contains_digits', 'word_len']\n",
    "target = 'ner_tag'"
   ]
  },
  {
   "cell_type": "code",
   "execution_count": 17,
   "metadata": {},
   "outputs": [],
   "source": [
    "pd.set_option('display.max_rows', 30000)"
   ]
  },
  {
   "cell_type": "markdown",
   "metadata": {
    "heading_collapsed": true
   },
   "source": [
    "# Naive tag frequency memorization"
   ]
  },
  {
   "cell_type": "code",
   "execution_count": null,
   "metadata": {
    "hidden": true
   },
   "outputs": [],
   "source": [
    "target_subcorpus_folders = filter_by_subcorpus('../data/datasets/gmb-2.2.0/', 'subcorpus: Voice of America')"
   ]
  },
  {
   "cell_type": "code",
   "execution_count": null,
   "metadata": {
    "hidden": true
   },
   "outputs": [],
   "source": [
    "data = get_tagged_texts_as_pd(target_subcorpus_folders, '../data/datasets/gmb-2.2.0/')"
   ]
  },
  {
   "cell_type": "code",
   "execution_count": null,
   "metadata": {
    "hidden": true
   },
   "outputs": [],
   "source": [
    "data.ner_tag.value_counts()"
   ]
  },
  {
   "cell_type": "code",
   "execution_count": null,
   "metadata": {
    "hidden": true
   },
   "outputs": [],
   "source": [
    "data = filtrations(data)"
   ]
  },
  {
   "cell_type": "code",
   "execution_count": null,
   "metadata": {
    "hidden": true
   },
   "outputs": [],
   "source": [
    "data.ner_tag.value_counts()"
   ]
  },
  {
   "cell_type": "code",
   "execution_count": null,
   "metadata": {
    "hidden": true
   },
   "outputs": [],
   "source": [
    "data = additional_features(data)"
   ]
  },
  {
   "cell_type": "code",
   "execution_count": null,
   "metadata": {
    "hidden": true
   },
   "outputs": [],
   "source": [
    "data.info()"
   ]
  },
  {
   "cell_type": "code",
   "execution_count": null,
   "metadata": {
    "hidden": true
   },
   "outputs": [],
   "source": [
    "X, y = data.token, data.ner_tag"
   ]
  },
  {
   "cell_type": "code",
   "execution_count": null,
   "metadata": {
    "hidden": true
   },
   "outputs": [],
   "source": [
    "X_train, X_test, y_train, y_test = train_test_split(X, y, test_size=0.33, random_state=42, stratify=y)"
   ]
  },
  {
   "cell_type": "code",
   "execution_count": null,
   "metadata": {
    "hidden": true
   },
   "outputs": [],
   "source": [
    "estimator = MemoryTagger()"
   ]
  },
  {
   "cell_type": "code",
   "execution_count": null,
   "metadata": {
    "hidden": true
   },
   "outputs": [],
   "source": [
    "scores = cross_val_score(estimator, X_train, y_train, cv=5, verbose=True, n_jobs=-1)"
   ]
  },
  {
   "cell_type": "code",
   "execution_count": null,
   "metadata": {
    "hidden": true
   },
   "outputs": [],
   "source": [
    "scores"
   ]
  },
  {
   "cell_type": "code",
   "execution_count": null,
   "metadata": {
    "hidden": true
   },
   "outputs": [],
   "source": [
    "estimator.fit(X_train, y_train)"
   ]
  },
  {
   "cell_type": "code",
   "execution_count": null,
   "metadata": {
    "hidden": true
   },
   "outputs": [],
   "source": [
    "report = classification_report(y_pred=estimator.predict(X_test), y_true=y_test)\n",
    "print(report)"
   ]
  },
  {
   "cell_type": "markdown",
   "metadata": {
    "heading_collapsed": true
   },
   "source": [
    "# Random Forest Classifier"
   ]
  },
  {
   "cell_type": "code",
   "execution_count": null,
   "metadata": {
    "hidden": true
   },
   "outputs": [],
   "source": [
    "target_subcorpus_folders = filter_by_subcorpus('../data/datasets/gmb-2.2.0/', 'subcorpus: Voice of America')"
   ]
  },
  {
   "cell_type": "code",
   "execution_count": null,
   "metadata": {
    "hidden": true
   },
   "outputs": [],
   "source": [
    "data = get_tagged_texts_as_pd(target_subcorpus_folders, '../data/datasets/gmb-2.2.0/')"
   ]
  },
  {
   "cell_type": "code",
   "execution_count": null,
   "metadata": {
    "hidden": true
   },
   "outputs": [],
   "source": [
    "data.ner_tag.value_counts()"
   ]
  },
  {
   "cell_type": "code",
   "execution_count": null,
   "metadata": {
    "hidden": true
   },
   "outputs": [],
   "source": [
    "data = filtrations(data)"
   ]
  },
  {
   "cell_type": "code",
   "execution_count": null,
   "metadata": {
    "hidden": true
   },
   "outputs": [],
   "source": [
    "data.ner_tag.value_counts()"
   ]
  },
  {
   "cell_type": "code",
   "execution_count": null,
   "metadata": {
    "hidden": true
   },
   "outputs": [],
   "source": [
    "data = additional_features(data)"
   ]
  },
  {
   "cell_type": "code",
   "execution_count": null,
   "metadata": {
    "hidden": true
   },
   "outputs": [],
   "source": [
    "data.info()"
   ]
  },
  {
   "cell_type": "code",
   "execution_count": null,
   "metadata": {
    "hidden": true
   },
   "outputs": [],
   "source": [
    "X, y = data[features], data[target]"
   ]
  },
  {
   "cell_type": "code",
   "execution_count": null,
   "metadata": {
    "hidden": true
   },
   "outputs": [],
   "source": [
    "X_train, X_test, y_train, y_test = train_test_split(X, y, test_size=0.33, random_state=42, stratify=y)"
   ]
  },
  {
   "cell_type": "code",
   "execution_count": null,
   "metadata": {
    "hidden": true
   },
   "outputs": [],
   "source": [
    "estimator = RandomForestClassifier()"
   ]
  },
  {
   "cell_type": "code",
   "execution_count": null,
   "metadata": {
    "hidden": true
   },
   "outputs": [],
   "source": [
    "scores = cross_val_score(estimator, X_train, y_train, cv=5, verbose=True, n_jobs=-1)"
   ]
  },
  {
   "cell_type": "code",
   "execution_count": null,
   "metadata": {
    "hidden": true
   },
   "outputs": [],
   "source": [
    "scores"
   ]
  },
  {
   "cell_type": "code",
   "execution_count": null,
   "metadata": {
    "hidden": true
   },
   "outputs": [],
   "source": [
    "estimator.fit(X_train, y_train)"
   ]
  },
  {
   "cell_type": "code",
   "execution_count": null,
   "metadata": {
    "hidden": true
   },
   "outputs": [],
   "source": [
    "report = classification_report(y_pred=estimator.predict(X_test), y_true=y_test)\n",
    "print(report)"
   ]
  },
  {
   "cell_type": "markdown",
   "metadata": {
    "heading_collapsed": true
   },
   "source": [
    "# HMM"
   ]
  },
  {
   "cell_type": "markdown",
   "metadata": {
    "hidden": true
   },
   "source": [
    "TBD..."
   ]
  },
  {
   "cell_type": "markdown",
   "metadata": {
    "heading_collapsed": true
   },
   "source": [
    "# CRF"
   ]
  },
  {
   "cell_type": "code",
   "execution_count": null,
   "metadata": {
    "hidden": true
   },
   "outputs": [],
   "source": [
    "target_subcorpus_folders = filter_by_subcorpus('../data/datasets/gmb-2.2.0/', 'subcorpus: Voice of America')"
   ]
  },
  {
   "cell_type": "code",
   "execution_count": null,
   "metadata": {
    "hidden": true
   },
   "outputs": [],
   "source": [
    "data = get_tagged_texts_as_pd(target_subcorpus_folders, '../data/datasets/gmb-2.2.0/')"
   ]
  },
  {
   "cell_type": "code",
   "execution_count": null,
   "metadata": {
    "hidden": true
   },
   "outputs": [],
   "source": [
    "data.ner_tag.value_counts()"
   ]
  },
  {
   "cell_type": "code",
   "execution_count": null,
   "metadata": {
    "hidden": true
   },
   "outputs": [],
   "source": [
    "data = filtrations(data, with_dots=True)"
   ]
  },
  {
   "cell_type": "code",
   "execution_count": null,
   "metadata": {
    "hidden": true
   },
   "outputs": [],
   "source": [
    "data.ner_tag.value_counts()"
   ]
  },
  {
   "cell_type": "code",
   "execution_count": null,
   "metadata": {
    "hidden": true
   },
   "outputs": [],
   "source": [
    "data = additional_features(data)"
   ]
  },
  {
   "cell_type": "code",
   "execution_count": null,
   "metadata": {
    "hidden": true
   },
   "outputs": [],
   "source": [
    "data.info()"
   ]
  },
  {
   "cell_type": "code",
   "execution_count": null,
   "metadata": {
    "hidden": true
   },
   "outputs": [],
   "source": [
    "X, y = crf_filtration_and_pre_processing(data)"
   ]
  },
  {
   "cell_type": "code",
   "execution_count": null,
   "metadata": {
    "hidden": true
   },
   "outputs": [],
   "source": [
    "X_train, X_test, y_train, y_test = train_test_split(X, y, test_size=0.33, random_state=42)"
   ]
  },
  {
   "cell_type": "code",
   "execution_count": null,
   "metadata": {
    "hidden": true
   },
   "outputs": [],
   "source": [
    "estimator = sklearn_crf(algorithm='lbfgs', c1=0.1, c2=0.1, max_iterations=100, all_possible_transitions=False)"
   ]
  },
  {
   "cell_type": "code",
   "execution_count": null,
   "metadata": {
    "hidden": true
   },
   "outputs": [],
   "source": [
    "scores = cross_val_score(estimator, X_train, y_train, cv=5, verbose=True, n_jobs=-1)"
   ]
  },
  {
   "cell_type": "code",
   "execution_count": null,
   "metadata": {
    "hidden": true
   },
   "outputs": [],
   "source": [
    "scores"
   ]
  },
  {
   "cell_type": "code",
   "execution_count": null,
   "metadata": {
    "hidden": true
   },
   "outputs": [],
   "source": [
    "estimator.fit(X_train, y_train)"
   ]
  },
  {
   "cell_type": "code",
   "execution_count": null,
   "metadata": {
    "hidden": true
   },
   "outputs": [],
   "source": [
    "report = flat_classification_report(y_pred=estimator.predict(X_test), y_true=y_test)\n",
    "print(report)"
   ]
  },
  {
   "cell_type": "markdown",
   "metadata": {},
   "source": [
    "# Bi-LSTM"
   ]
  },
  {
   "cell_type": "code",
   "execution_count": 11,
   "metadata": {
    "scrolled": true
   },
   "outputs": [
    {
     "data": {
      "application/vnd.jupyter.widget-view+json": {
       "model_id": "5544e261fd1447be860b852d30e86a32",
       "version_major": 2,
       "version_minor": 0
      },
      "text/plain": [
       "HBox(children=(IntProgress(value=0, description='Read folders: '), HTML(value='')))"
      ]
     },
     "metadata": {},
     "output_type": "display_data"
    },
    {
     "name": "stdout",
     "output_type": "stream",
     "text": [
      "\n"
     ]
    },
    {
     "data": {
      "application/vnd.jupyter.widget-view+json": {
       "model_id": "a55c2b01c4f14e2f80bdf73bb485be3d",
       "version_major": 2,
       "version_minor": 0
      },
      "text/plain": [
       "HBox(children=(IntProgress(value=0, description='Filter folders: ', max=10000), HTML(value='')))"
      ]
     },
     "metadata": {},
     "output_type": "display_data"
    },
    {
     "name": "stdout",
     "output_type": "stream",
     "text": [
      "\n"
     ]
    }
   ],
   "source": [
    "target_subcorpus_folders = filter_by_subcorpus('../data/datasets/gmb-2.2.0/', 'subcorpus: Voice of America')"
   ]
  },
  {
   "cell_type": "code",
   "execution_count": 12,
   "metadata": {},
   "outputs": [],
   "source": [
    "data = get_tagged_texts_as_pd(target_subcorpus_folders, '../data/datasets/gmb-2.2.0/')"
   ]
  },
  {
   "cell_type": "code",
   "execution_count": 22,
   "metadata": {
    "scrolled": false
   },
   "outputs": [
    {
     "data": {
      "text/html": [
       "<div>\n",
       "<style scoped>\n",
       "    .dataframe tbody tr th:only-of-type {\n",
       "        vertical-align: middle;\n",
       "    }\n",
       "\n",
       "    .dataframe tbody tr th {\n",
       "        vertical-align: top;\n",
       "    }\n",
       "\n",
       "    .dataframe thead th {\n",
       "        text-align: right;\n",
       "    }\n",
       "</style>\n",
       "<table border=\"1\" class=\"dataframe\">\n",
       "  <thead>\n",
       "    <tr style=\"text-align: right;\">\n",
       "      <th></th>\n",
       "      <th>token</th>\n",
       "      <th>pos_tag</th>\n",
       "      <th>lemma</th>\n",
       "      <th>ner_tag</th>\n",
       "      <th>word_net_sense_number</th>\n",
       "      <th>verb_net_roles</th>\n",
       "      <th>semantic_relation</th>\n",
       "      <th>animacy_tag</th>\n",
       "      <th>super_tag</th>\n",
       "      <th>lambda_dsr</th>\n",
       "    </tr>\n",
       "  </thead>\n",
       "  <tbody>\n",
       "    <tr>\n",
       "      <th>0</th>\n",
       "      <td>Thousands</td>\n",
       "      <td>NNS</td>\n",
       "      <td>thousand</td>\n",
       "      <td>O</td>\n",
       "      <td>1</td>\n",
       "      <td>[]</td>\n",
       "      <td>O</td>\n",
       "      <td>Human</td>\n",
       "      <td>N</td>\n",
       "      <td>lam(v1,b1:drs([],[b1:[1001]:pred(v1,thousand,n...</td>\n",
       "    </tr>\n",
       "    <tr>\n",
       "      <th>1</th>\n",
       "      <td>of</td>\n",
       "      <td>IN</td>\n",
       "      <td>of</td>\n",
       "      <td>O</td>\n",
       "      <td>0</td>\n",
       "      <td>[]</td>\n",
       "      <td>O</td>\n",
       "      <td>O</td>\n",
       "      <td>(NP\\NP)/NP</td>\n",
       "      <td>lam(v1,lam(v2,lam(v3,app(v2,lam(v4,app(v1,lam(...</td>\n",
       "    </tr>\n",
       "    <tr>\n",
       "      <th>2</th>\n",
       "      <td>demonstrators</td>\n",
       "      <td>NNS</td>\n",
       "      <td>demonstrator</td>\n",
       "      <td>O</td>\n",
       "      <td>1</td>\n",
       "      <td>[]</td>\n",
       "      <td>O</td>\n",
       "      <td>Human</td>\n",
       "      <td>N</td>\n",
       "      <td>lam(v1,b1:drs([],[b1:[1003]:pred(v1,demonstrat...</td>\n",
       "    </tr>\n",
       "    <tr>\n",
       "      <th>3</th>\n",
       "      <td>have</td>\n",
       "      <td>VBP</td>\n",
       "      <td>have</td>\n",
       "      <td>O</td>\n",
       "      <td>0</td>\n",
       "      <td>[]</td>\n",
       "      <td>O</td>\n",
       "      <td>O</td>\n",
       "      <td>(S[dcl]\\NP)/(S[pt]\\NP)</td>\n",
       "      <td>lam(v1,lam(v2,lam(v3,app(app(v1,v2),lam(v4,mer...</td>\n",
       "    </tr>\n",
       "    <tr>\n",
       "      <th>4</th>\n",
       "      <td>marched</td>\n",
       "      <td>VBN</td>\n",
       "      <td>march</td>\n",
       "      <td>O</td>\n",
       "      <td>1</td>\n",
       "      <td>[Theme]</td>\n",
       "      <td>O</td>\n",
       "      <td>O</td>\n",
       "      <td>S[pt]\\NP</td>\n",
       "      <td>lam(v1,lam(v2,app(v1,lam(v3,merge(b1:drs([b1:[...</td>\n",
       "    </tr>\n",
       "    <tr>\n",
       "      <th>5</th>\n",
       "      <td>through</td>\n",
       "      <td>IN</td>\n",
       "      <td>through</td>\n",
       "      <td>O</td>\n",
       "      <td>0</td>\n",
       "      <td>[]</td>\n",
       "      <td>O</td>\n",
       "      <td>O</td>\n",
       "      <td>((S[pt]\\NP)\\(S[pt]\\NP))/NP</td>\n",
       "      <td>lam(v1,lam(v2,lam(v3,lam(v4,app(app(v2,v3),lam...</td>\n",
       "    </tr>\n",
       "    <tr>\n",
       "      <th>6</th>\n",
       "      <td>London</td>\n",
       "      <td>NNP</td>\n",
       "      <td>london</td>\n",
       "      <td>geo-nam</td>\n",
       "      <td>1</td>\n",
       "      <td>[]</td>\n",
       "      <td>O</td>\n",
       "      <td>Place</td>\n",
       "      <td>N</td>\n",
       "      <td>lam(v1,b1:drs([],[b1:[1007]:named(v1,london,ge...</td>\n",
       "    </tr>\n",
       "    <tr>\n",
       "      <th>7</th>\n",
       "      <td>to</td>\n",
       "      <td>TO</td>\n",
       "      <td>to</td>\n",
       "      <td>O</td>\n",
       "      <td>0</td>\n",
       "      <td>[]</td>\n",
       "      <td>O</td>\n",
       "      <td>O</td>\n",
       "      <td>(S[to]\\NP)/(S[b]\\NP)</td>\n",
       "      <td>lam(v1,lam(v2,lam(v3,merge(b1:drs([b1:[1008]:p...</td>\n",
       "    </tr>\n",
       "    <tr>\n",
       "      <th>8</th>\n",
       "      <td>protest</td>\n",
       "      <td>VB</td>\n",
       "      <td>protest</td>\n",
       "      <td>O</td>\n",
       "      <td>1</td>\n",
       "      <td>[Theme,Agent]</td>\n",
       "      <td>O</td>\n",
       "      <td>O</td>\n",
       "      <td>(S[b]\\NP)/NP</td>\n",
       "      <td>lam(v1,lam(v2,lam(v3,app(v2,lam(v4,app(v1,lam(...</td>\n",
       "    </tr>\n",
       "    <tr>\n",
       "      <th>9</th>\n",
       "      <td>the</td>\n",
       "      <td>DT</td>\n",
       "      <td>the</td>\n",
       "      <td>O</td>\n",
       "      <td>0</td>\n",
       "      <td>[]</td>\n",
       "      <td>O</td>\n",
       "      <td>O</td>\n",
       "      <td>NP/N</td>\n",
       "      <td>lam(v1,lam(v2,alfa(def,merge(b1:drs([b1:[1010]...</td>\n",
       "    </tr>\n",
       "    <tr>\n",
       "      <th>10</th>\n",
       "      <td>war</td>\n",
       "      <td>NN</td>\n",
       "      <td>war</td>\n",
       "      <td>O</td>\n",
       "      <td>1</td>\n",
       "      <td>[]</td>\n",
       "      <td>O</td>\n",
       "      <td>Non-concrete</td>\n",
       "      <td>N</td>\n",
       "      <td>lam(v1,b1:drs([],[b1:[1011]:pred(v1,war,n,'1')]))</td>\n",
       "    </tr>\n",
       "    <tr>\n",
       "      <th>11</th>\n",
       "      <td>in</td>\n",
       "      <td>IN</td>\n",
       "      <td>in</td>\n",
       "      <td>O</td>\n",
       "      <td>0</td>\n",
       "      <td>[]</td>\n",
       "      <td>O</td>\n",
       "      <td>O</td>\n",
       "      <td>(NP\\NP)/NP</td>\n",
       "      <td>lam(v1,lam(v2,lam(v3,app(v2,lam(v4,app(v1,lam(...</td>\n",
       "    </tr>\n",
       "    <tr>\n",
       "      <th>12</th>\n",
       "      <td>Iraq</td>\n",
       "      <td>NNP</td>\n",
       "      <td>iraq</td>\n",
       "      <td>geo-nam</td>\n",
       "      <td>1</td>\n",
       "      <td>[]</td>\n",
       "      <td>O</td>\n",
       "      <td>Place</td>\n",
       "      <td>N</td>\n",
       "      <td>lam(v1,b1:drs([],[b1:[1013]:named(v1,iraq,geo,...</td>\n",
       "    </tr>\n",
       "    <tr>\n",
       "      <th>13</th>\n",
       "      <td>and</td>\n",
       "      <td>CC</td>\n",
       "      <td>and</td>\n",
       "      <td>O</td>\n",
       "      <td>0</td>\n",
       "      <td>[]</td>\n",
       "      <td>O</td>\n",
       "      <td>O</td>\n",
       "      <td>conj</td>\n",
       "      <td>lam(v1,lam(v2,lam(v3,lam(v4,sdrs([lab(k1,app(a...</td>\n",
       "    </tr>\n",
       "    <tr>\n",
       "      <th>14</th>\n",
       "      <td>demand</td>\n",
       "      <td>VB</td>\n",
       "      <td>demand</td>\n",
       "      <td>O</td>\n",
       "      <td>1</td>\n",
       "      <td>[Recipient,Agent]</td>\n",
       "      <td>O</td>\n",
       "      <td>O</td>\n",
       "      <td>(S[b]\\NP)/NP</td>\n",
       "      <td>lam(v1,lam(v2,lam(v3,app(v2,lam(v4,app(v1,lam(...</td>\n",
       "    </tr>\n",
       "    <tr>\n",
       "      <th>15</th>\n",
       "      <td>the</td>\n",
       "      <td>DT</td>\n",
       "      <td>the</td>\n",
       "      <td>O</td>\n",
       "      <td>0</td>\n",
       "      <td>[]</td>\n",
       "      <td>O</td>\n",
       "      <td>O</td>\n",
       "      <td>NP/N</td>\n",
       "      <td>lam(v1,lam(v2,alfa(def,merge(b1:drs([b1:[1016]...</td>\n",
       "    </tr>\n",
       "    <tr>\n",
       "      <th>16</th>\n",
       "      <td>withdrawal</td>\n",
       "      <td>NN</td>\n",
       "      <td>withdrawal</td>\n",
       "      <td>O</td>\n",
       "      <td>1</td>\n",
       "      <td>[]</td>\n",
       "      <td>O</td>\n",
       "      <td>Non-concrete</td>\n",
       "      <td>N</td>\n",
       "      <td>lam(v1,b1:drs([],[b1:[1017]:pred(v1,withdrawal...</td>\n",
       "    </tr>\n",
       "    <tr>\n",
       "      <th>17</th>\n",
       "      <td>of</td>\n",
       "      <td>IN</td>\n",
       "      <td>of</td>\n",
       "      <td>O</td>\n",
       "      <td>0</td>\n",
       "      <td>[]</td>\n",
       "      <td>O</td>\n",
       "      <td>O</td>\n",
       "      <td>(NP\\NP)/NP</td>\n",
       "      <td>lam(v1,lam(v2,lam(v3,app(v2,lam(v4,app(v1,lam(...</td>\n",
       "    </tr>\n",
       "    <tr>\n",
       "      <th>18</th>\n",
       "      <td>British</td>\n",
       "      <td>JJ</td>\n",
       "      <td>uk</td>\n",
       "      <td>gpe-nam</td>\n",
       "      <td>0</td>\n",
       "      <td>[]</td>\n",
       "      <td>of</td>\n",
       "      <td>Human</td>\n",
       "      <td>N/N</td>\n",
       "      <td>lam(v1,lam(v2,merge(b1:drs([b1:[]:x1],[b1:[101...</td>\n",
       "    </tr>\n",
       "    <tr>\n",
       "      <th>19</th>\n",
       "      <td>troops</td>\n",
       "      <td>NNS</td>\n",
       "      <td>troops</td>\n",
       "      <td>O</td>\n",
       "      <td>1</td>\n",
       "      <td>[]</td>\n",
       "      <td>O</td>\n",
       "      <td>Human</td>\n",
       "      <td>N</td>\n",
       "      <td>lam(v1,b1:drs([],[b1:[1020]:pred(v1,troops,n,'...</td>\n",
       "    </tr>\n",
       "    <tr>\n",
       "      <th>20</th>\n",
       "      <td>from</td>\n",
       "      <td>IN</td>\n",
       "      <td>from</td>\n",
       "      <td>O</td>\n",
       "      <td>0</td>\n",
       "      <td>[]</td>\n",
       "      <td>O</td>\n",
       "      <td>O</td>\n",
       "      <td>(NP\\NP)/NP</td>\n",
       "      <td>lam(v1,lam(v2,lam(v3,app(v2,lam(v4,app(v1,lam(...</td>\n",
       "    </tr>\n",
       "    <tr>\n",
       "      <th>21</th>\n",
       "      <td>that</td>\n",
       "      <td>DT</td>\n",
       "      <td>that</td>\n",
       "      <td>O</td>\n",
       "      <td>0</td>\n",
       "      <td>[]</td>\n",
       "      <td>O</td>\n",
       "      <td>O</td>\n",
       "      <td>NP/N</td>\n",
       "      <td>lam(v1,lam(v2,alfa(def,merge(b1:drs([b1:[1022]...</td>\n",
       "    </tr>\n",
       "    <tr>\n",
       "      <th>22</th>\n",
       "      <td>country</td>\n",
       "      <td>NN</td>\n",
       "      <td>country</td>\n",
       "      <td>O</td>\n",
       "      <td>1</td>\n",
       "      <td>[]</td>\n",
       "      <td>O</td>\n",
       "      <td>Non-concrete</td>\n",
       "      <td>N</td>\n",
       "      <td>lam(v1,b1:drs([],[b1:[1023]:pred(v1,country,n,...</td>\n",
       "    </tr>\n",
       "    <tr>\n",
       "      <th>23</th>\n",
       "      <td>.</td>\n",
       "      <td>.</td>\n",
       "      <td>.</td>\n",
       "      <td>O</td>\n",
       "      <td>0</td>\n",
       "      <td>[]</td>\n",
       "      <td>O</td>\n",
       "      <td>O</td>\n",
       "      <td>S[dcl]\\S[dcl]</td>\n",
       "      <td>lam(v1,v1)</td>\n",
       "    </tr>\n",
       "    <tr>\n",
       "      <th>24</th>\n",
       "      <td>Families</td>\n",
       "      <td>NNS</td>\n",
       "      <td>family</td>\n",
       "      <td>O</td>\n",
       "      <td>1</td>\n",
       "      <td>[]</td>\n",
       "      <td>O</td>\n",
       "      <td>Organization</td>\n",
       "      <td>N</td>\n",
       "      <td>lam(v1,b1:drs([],[b1:[2001]:pred(v1,family,n,'...</td>\n",
       "    </tr>\n",
       "    <tr>\n",
       "      <th>25</th>\n",
       "      <td>of</td>\n",
       "      <td>IN</td>\n",
       "      <td>of</td>\n",
       "      <td>O</td>\n",
       "      <td>0</td>\n",
       "      <td>[]</td>\n",
       "      <td>O</td>\n",
       "      <td>O</td>\n",
       "      <td>(NP\\NP)/NP</td>\n",
       "      <td>lam(v1,lam(v2,lam(v3,app(v2,lam(v4,app(v1,lam(...</td>\n",
       "    </tr>\n",
       "    <tr>\n",
       "      <th>26</th>\n",
       "      <td>soldiers</td>\n",
       "      <td>NNS</td>\n",
       "      <td>soldier</td>\n",
       "      <td>O</td>\n",
       "      <td>1</td>\n",
       "      <td>[]</td>\n",
       "      <td>O</td>\n",
       "      <td>Human</td>\n",
       "      <td>N</td>\n",
       "      <td>lam(v1,b1:drs([],[b1:[2003]:pred(v1,soldier,n,...</td>\n",
       "    </tr>\n",
       "    <tr>\n",
       "      <th>27</th>\n",
       "      <td>killed</td>\n",
       "      <td>VBN</td>\n",
       "      <td>kill</td>\n",
       "      <td>O</td>\n",
       "      <td>1</td>\n",
       "      <td>[Patient,Instrument]</td>\n",
       "      <td>O</td>\n",
       "      <td>O</td>\n",
       "      <td>S[pss]\\NP</td>\n",
       "      <td>lam(v1,lam(v2,app(v1,lam(v3,merge(b1:drs([b1:[...</td>\n",
       "    </tr>\n",
       "    <tr>\n",
       "      <th>28</th>\n",
       "      <td>in</td>\n",
       "      <td>IN</td>\n",
       "      <td>in</td>\n",
       "      <td>O</td>\n",
       "      <td>0</td>\n",
       "      <td>[]</td>\n",
       "      <td>O</td>\n",
       "      <td>O</td>\n",
       "      <td>((S[pss]\\NP)\\(S[pss]\\NP))/NP</td>\n",
       "      <td>lam(v1,lam(v2,lam(v3,lam(v4,app(app(v2,v3),lam...</td>\n",
       "    </tr>\n",
       "    <tr>\n",
       "      <th>29</th>\n",
       "      <td>the</td>\n",
       "      <td>DT</td>\n",
       "      <td>the</td>\n",
       "      <td>O</td>\n",
       "      <td>0</td>\n",
       "      <td>[]</td>\n",
       "      <td>O</td>\n",
       "      <td>O</td>\n",
       "      <td>NP/N</td>\n",
       "      <td>lam(v1,lam(v2,alfa(def,merge(b1:drs([b1:[2006]...</td>\n",
       "    </tr>\n",
       "  </tbody>\n",
       "</table>\n",
       "</div>"
      ],
      "text/plain": [
       "            token pos_tag         lemma  ner_tag word_net_sense_number  \\\n",
       "0       Thousands     NNS      thousand        O                     1   \n",
       "1              of      IN            of        O                     0   \n",
       "2   demonstrators     NNS  demonstrator        O                     1   \n",
       "3            have     VBP          have        O                     0   \n",
       "4         marched     VBN         march        O                     1   \n",
       "5         through      IN       through        O                     0   \n",
       "6          London     NNP        london  geo-nam                     1   \n",
       "7              to      TO            to        O                     0   \n",
       "8         protest      VB       protest        O                     1   \n",
       "9             the      DT           the        O                     0   \n",
       "10            war      NN           war        O                     1   \n",
       "11             in      IN            in        O                     0   \n",
       "12           Iraq     NNP          iraq  geo-nam                     1   \n",
       "13            and      CC           and        O                     0   \n",
       "14         demand      VB        demand        O                     1   \n",
       "15            the      DT           the        O                     0   \n",
       "16     withdrawal      NN    withdrawal        O                     1   \n",
       "17             of      IN            of        O                     0   \n",
       "18        British      JJ            uk  gpe-nam                     0   \n",
       "19         troops     NNS        troops        O                     1   \n",
       "20           from      IN          from        O                     0   \n",
       "21           that      DT          that        O                     0   \n",
       "22        country      NN       country        O                     1   \n",
       "23              .       .             .        O                     0   \n",
       "24       Families     NNS        family        O                     1   \n",
       "25             of      IN            of        O                     0   \n",
       "26       soldiers     NNS       soldier        O                     1   \n",
       "27         killed     VBN          kill        O                     1   \n",
       "28             in      IN            in        O                     0   \n",
       "29            the      DT           the        O                     0   \n",
       "\n",
       "          verb_net_roles semantic_relation   animacy_tag  \\\n",
       "0                     []                 O         Human   \n",
       "1                     []                 O             O   \n",
       "2                     []                 O         Human   \n",
       "3                     []                 O             O   \n",
       "4                [Theme]                 O             O   \n",
       "5                     []                 O             O   \n",
       "6                     []                 O         Place   \n",
       "7                     []                 O             O   \n",
       "8          [Theme,Agent]                 O             O   \n",
       "9                     []                 O             O   \n",
       "10                    []                 O  Non-concrete   \n",
       "11                    []                 O             O   \n",
       "12                    []                 O         Place   \n",
       "13                    []                 O             O   \n",
       "14     [Recipient,Agent]                 O             O   \n",
       "15                    []                 O             O   \n",
       "16                    []                 O  Non-concrete   \n",
       "17                    []                 O             O   \n",
       "18                    []                of         Human   \n",
       "19                    []                 O         Human   \n",
       "20                    []                 O             O   \n",
       "21                    []                 O             O   \n",
       "22                    []                 O  Non-concrete   \n",
       "23                    []                 O             O   \n",
       "24                    []                 O  Organization   \n",
       "25                    []                 O             O   \n",
       "26                    []                 O         Human   \n",
       "27  [Patient,Instrument]                 O             O   \n",
       "28                    []                 O             O   \n",
       "29                    []                 O             O   \n",
       "\n",
       "                       super_tag  \\\n",
       "0                              N   \n",
       "1                     (NP\\NP)/NP   \n",
       "2                              N   \n",
       "3         (S[dcl]\\NP)/(S[pt]\\NP)   \n",
       "4                       S[pt]\\NP   \n",
       "5     ((S[pt]\\NP)\\(S[pt]\\NP))/NP   \n",
       "6                              N   \n",
       "7           (S[to]\\NP)/(S[b]\\NP)   \n",
       "8                   (S[b]\\NP)/NP   \n",
       "9                           NP/N   \n",
       "10                             N   \n",
       "11                    (NP\\NP)/NP   \n",
       "12                             N   \n",
       "13                          conj   \n",
       "14                  (S[b]\\NP)/NP   \n",
       "15                          NP/N   \n",
       "16                             N   \n",
       "17                    (NP\\NP)/NP   \n",
       "18                           N/N   \n",
       "19                             N   \n",
       "20                    (NP\\NP)/NP   \n",
       "21                          NP/N   \n",
       "22                             N   \n",
       "23                 S[dcl]\\S[dcl]   \n",
       "24                             N   \n",
       "25                    (NP\\NP)/NP   \n",
       "26                             N   \n",
       "27                     S[pss]\\NP   \n",
       "28  ((S[pss]\\NP)\\(S[pss]\\NP))/NP   \n",
       "29                          NP/N   \n",
       "\n",
       "                                           lambda_dsr  \n",
       "0   lam(v1,b1:drs([],[b1:[1001]:pred(v1,thousand,n...  \n",
       "1   lam(v1,lam(v2,lam(v3,app(v2,lam(v4,app(v1,lam(...  \n",
       "2   lam(v1,b1:drs([],[b1:[1003]:pred(v1,demonstrat...  \n",
       "3   lam(v1,lam(v2,lam(v3,app(app(v1,v2),lam(v4,mer...  \n",
       "4   lam(v1,lam(v2,app(v1,lam(v3,merge(b1:drs([b1:[...  \n",
       "5   lam(v1,lam(v2,lam(v3,lam(v4,app(app(v2,v3),lam...  \n",
       "6   lam(v1,b1:drs([],[b1:[1007]:named(v1,london,ge...  \n",
       "7   lam(v1,lam(v2,lam(v3,merge(b1:drs([b1:[1008]:p...  \n",
       "8   lam(v1,lam(v2,lam(v3,app(v2,lam(v4,app(v1,lam(...  \n",
       "9   lam(v1,lam(v2,alfa(def,merge(b1:drs([b1:[1010]...  \n",
       "10  lam(v1,b1:drs([],[b1:[1011]:pred(v1,war,n,'1')]))  \n",
       "11  lam(v1,lam(v2,lam(v3,app(v2,lam(v4,app(v1,lam(...  \n",
       "12  lam(v1,b1:drs([],[b1:[1013]:named(v1,iraq,geo,...  \n",
       "13  lam(v1,lam(v2,lam(v3,lam(v4,sdrs([lab(k1,app(a...  \n",
       "14  lam(v1,lam(v2,lam(v3,app(v2,lam(v4,app(v1,lam(...  \n",
       "15  lam(v1,lam(v2,alfa(def,merge(b1:drs([b1:[1016]...  \n",
       "16  lam(v1,b1:drs([],[b1:[1017]:pred(v1,withdrawal...  \n",
       "17  lam(v1,lam(v2,lam(v3,app(v2,lam(v4,app(v1,lam(...  \n",
       "18  lam(v1,lam(v2,merge(b1:drs([b1:[]:x1],[b1:[101...  \n",
       "19  lam(v1,b1:drs([],[b1:[1020]:pred(v1,troops,n,'...  \n",
       "20  lam(v1,lam(v2,lam(v3,app(v2,lam(v4,app(v1,lam(...  \n",
       "21  lam(v1,lam(v2,alfa(def,merge(b1:drs([b1:[1022]...  \n",
       "22  lam(v1,b1:drs([],[b1:[1023]:pred(v1,country,n,...  \n",
       "23                                         lam(v1,v1)  \n",
       "24  lam(v1,b1:drs([],[b1:[2001]:pred(v1,family,n,'...  \n",
       "25  lam(v1,lam(v2,lam(v3,app(v2,lam(v4,app(v1,lam(...  \n",
       "26  lam(v1,b1:drs([],[b1:[2003]:pred(v1,soldier,n,...  \n",
       "27  lam(v1,lam(v2,app(v1,lam(v3,merge(b1:drs([b1:[...  \n",
       "28  lam(v1,lam(v2,lam(v3,lam(v4,app(app(v2,v3),lam...  \n",
       "29  lam(v1,lam(v2,alfa(def,merge(b1:drs([b1:[2006]...  "
      ]
     },
     "execution_count": 22,
     "metadata": {},
     "output_type": "execute_result"
    }
   ],
   "source": [
    "data.head(30)"
   ]
  },
  {
   "cell_type": "code",
   "execution_count": 21,
   "metadata": {},
   "outputs": [
    {
     "data": {
      "text/plain": [
       "O          1032479\n",
       "geo-nam      55480\n",
       "org-nam      44646\n",
       "per-nam      22931\n",
       "gpe-nam      19685\n",
       "tim-dow      11398\n",
       "tim-dat      10929\n",
       "per-tit       9672\n",
       "per-fam       8098\n",
       "[]            4064\n",
       "tim-moy       3811\n",
       "tim-yoc       3009\n",
       "per-giv       2376\n",
       "tim-clo        810\n",
       "art-nam        789\n",
       "eve-nam        514\n",
       "nat-nam        280\n",
       "tim-nam        132\n",
       "eve-ord         63\n",
       "per-ini         55\n",
       "per-ord         35\n",
       "org-leg         13\n",
       "tim-dom          8\n",
       "per-mid          1\n",
       "art-add          1\n",
       "Name: ner_tag, dtype: int64"
      ]
     },
     "execution_count": 21,
     "metadata": {},
     "output_type": "execute_result"
    }
   ],
   "source": [
    "data.ner_tag.value_counts()"
   ]
  },
  {
   "cell_type": "code",
   "execution_count": null,
   "metadata": {},
   "outputs": [],
   "source": [
    "data = filtrations(data, with_dots=True)"
   ]
  },
  {
   "cell_type": "code",
   "execution_count": null,
   "metadata": {},
   "outputs": [],
   "source": [
    "data.ner_tag.value_counts()"
   ]
  },
  {
   "cell_type": "code",
   "execution_count": null,
   "metadata": {},
   "outputs": [],
   "source": [
    "data.info()"
   ]
  },
  {
   "cell_type": "code",
   "execution_count": null,
   "metadata": {},
   "outputs": [],
   "source": [
    "X, y = crf_filtration_and_pre_processing(data)"
   ]
  },
  {
   "cell_type": "code",
   "execution_count": null,
   "metadata": {},
   "outputs": [],
   "source": [
    "X_train, X_test, y_train, y_test = train_test_split(X, y, test_size=0.33, random_state=42)"
   ]
  },
  {
   "cell_type": "code",
   "execution_count": null,
   "metadata": {},
   "outputs": [],
   "source": [
    "estimator = BiLSTMTagger(checkpoint_dir='../data/datasets/keras_model/')"
   ]
  },
  {
   "cell_type": "code",
   "execution_count": null,
   "metadata": {
    "scrolled": false
   },
   "outputs": [],
   "source": [
    "estimator.fit(X_train, y_train)"
   ]
  },
  {
   "cell_type": "code",
   "execution_count": null,
   "metadata": {},
   "outputs": [],
   "source": [
    "report = flat_classification_report(y_pred=estimator.predict(X_test), y_true=y_test)\n",
    "print(report)"
   ]
  },
  {
   "cell_type": "markdown",
   "metadata": {},
   "source": [
    "# Conclusion"
   ]
  },
  {
   "cell_type": "code",
   "execution_count": null,
   "metadata": {},
   "outputs": [],
   "source": []
  }
 ],
 "metadata": {
  "hide_input": false,
  "kernelspec": {
   "display_name": "NLP",
   "language": "python",
   "name": "nlp"
  },
  "language_info": {
   "codemirror_mode": {
    "name": "ipython",
    "version": 3
   },
   "file_extension": ".py",
   "mimetype": "text/x-python",
   "name": "python",
   "nbconvert_exporter": "python",
   "pygments_lexer": "ipython3",
   "version": "3.6.5"
  },
  "toc": {
   "base_numbering": 1,
   "nav_menu": {},
   "number_sections": true,
   "sideBar": true,
   "skip_h1_title": false,
   "title_cell": "Table of Contents",
   "title_sidebar": "Contents",
   "toc_cell": false,
   "toc_position": {
    "height": "calc(100% - 180px)",
    "left": "10px",
    "top": "150px",
    "width": "384px"
   },
   "toc_section_display": true,
   "toc_window_display": true
  }
 },
 "nbformat": 4,
 "nbformat_minor": 1
}
